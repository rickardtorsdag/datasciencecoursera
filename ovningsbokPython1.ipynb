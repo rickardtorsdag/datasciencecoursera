{
  "nbformat": 4,
  "nbformat_minor": 0,
  "metadata": {
    "colab": {
      "name": "ovningsbokPython1",
      "provenance": [],
      "authorship_tag": "ABX9TyOa6BjM7TOEYY1yw1SnTNH5",
      "include_colab_link": true
    },
    "kernelspec": {
      "name": "python3",
      "display_name": "Python 3"
    },
    "language_info": {
      "name": "python"
    }
  },
  "cells": [
    {
      "cell_type": "markdown",
      "metadata": {
        "id": "view-in-github",
        "colab_type": "text"
      },
      "source": [
        "<a href=\"https://colab.research.google.com/github/rickardtorsdag/datasciencecoursera/blob/master/ovningsbokPython1.ipynb\" target=\"_parent\"><img src=\"https://colab.research.google.com/assets/colab-badge.svg\" alt=\"Open In Colab\"/></a>"
      ]
    },
    {
      "cell_type": "code",
      "metadata": {
        "id": "LVIuYRK2KQZm"
      },
      "source": [
        ""
      ],
      "execution_count": null,
      "outputs": []
    },
    {
      "cell_type": "markdown",
      "metadata": {
        "id": "U2sKUcuFKXsp"
      },
      "source": [
        "# 5 kap Loopar"
      ]
    },
    {
      "cell_type": "code",
      "metadata": {
        "id": "LTcExrqtKbjN",
        "colab": {
          "base_uri": "https://localhost:8080/"
        },
        "outputId": "de359393-b854-47f6-df19-02b21db6c333"
      },
      "source": [
        "for i in range(1, 16):\n",
        "  print(i, end=' ')"
      ],
      "execution_count": 200,
      "outputs": [
        {
          "output_type": "stream",
          "name": "stdout",
          "text": [
            "1 2 3 4 5 6 7 8 9 10 11 12 13 14 15 "
          ]
        }
      ]
    },
    {
      "cell_type": "code",
      "metadata": {
        "id": "i5DHVgSkKhqk",
        "colab": {
          "base_uri": "https://localhost:8080/"
        },
        "outputId": "43344ec1-dcf3-451e-931d-2b528af883ec"
      },
      "source": [
        "for i in range(20, 31):\n",
        "  print(i, end=' ')"
      ],
      "execution_count": 201,
      "outputs": [
        {
          "output_type": "stream",
          "name": "stdout",
          "text": [
            "20 21 22 23 24 25 26 27 28 29 30 "
          ]
        }
      ]
    },
    {
      "cell_type": "code",
      "metadata": {
        "id": "GYHGLGz2KyLy",
        "colab": {
          "base_uri": "https://localhost:8080/"
        },
        "outputId": "b3832dd1-8a83-45cd-ac7a-4fcaf8bbbb2f"
      },
      "source": [
        "for i in range(0, 1001):\n",
        "  print(i, end=' ')"
      ],
      "execution_count": 202,
      "outputs": [
        {
          "output_type": "stream",
          "name": "stdout",
          "text": [
            "0 1 2 3 4 5 6 7 8 9 10 11 12 13 14 15 16 17 18 19 20 21 22 23 24 25 26 27 28 29 30 31 32 33 34 35 36 37 38 39 40 41 42 43 44 45 46 47 48 49 50 51 52 53 54 55 56 57 58 59 60 61 62 63 64 65 66 67 68 69 70 71 72 73 74 75 76 77 78 79 80 81 82 83 84 85 86 87 88 89 90 91 92 93 94 95 96 97 98 99 100 101 102 103 104 105 106 107 108 109 110 111 112 113 114 115 116 117 118 119 120 121 122 123 124 125 126 127 128 129 130 131 132 133 134 135 136 137 138 139 140 141 142 143 144 145 146 147 148 149 150 151 152 153 154 155 156 157 158 159 160 161 162 163 164 165 166 167 168 169 170 171 172 173 174 175 176 177 178 179 180 181 182 183 184 185 186 187 188 189 190 191 192 193 194 195 196 197 198 199 200 201 202 203 204 205 206 207 208 209 210 211 212 213 214 215 216 217 218 219 220 221 222 223 224 225 226 227 228 229 230 231 232 233 234 235 236 237 238 239 240 241 242 243 244 245 246 247 248 249 250 251 252 253 254 255 256 257 258 259 260 261 262 263 264 265 266 267 268 269 270 271 272 273 274 275 276 277 278 279 280 281 282 283 284 285 286 287 288 289 290 291 292 293 294 295 296 297 298 299 300 301 302 303 304 305 306 307 308 309 310 311 312 313 314 315 316 317 318 319 320 321 322 323 324 325 326 327 328 329 330 331 332 333 334 335 336 337 338 339 340 341 342 343 344 345 346 347 348 349 350 351 352 353 354 355 356 357 358 359 360 361 362 363 364 365 366 367 368 369 370 371 372 373 374 375 376 377 378 379 380 381 382 383 384 385 386 387 388 389 390 391 392 393 394 395 396 397 398 399 400 401 402 403 404 405 406 407 408 409 410 411 412 413 414 415 416 417 418 419 420 421 422 423 424 425 426 427 428 429 430 431 432 433 434 435 436 437 438 439 440 441 442 443 444 445 446 447 448 449 450 451 452 453 454 455 456 457 458 459 460 461 462 463 464 465 466 467 468 469 470 471 472 473 474 475 476 477 478 479 480 481 482 483 484 485 486 487 488 489 490 491 492 493 494 495 496 497 498 499 500 501 502 503 504 505 506 507 508 509 510 511 512 513 514 515 516 517 518 519 520 521 522 523 524 525 526 527 528 529 530 531 532 533 534 535 536 537 538 539 540 541 542 543 544 545 546 547 548 549 550 551 552 553 554 555 556 557 558 559 560 561 562 563 564 565 566 567 568 569 570 571 572 573 574 575 576 577 578 579 580 581 582 583 584 585 586 587 588 589 590 591 592 593 594 595 596 597 598 599 600 601 602 603 604 605 606 607 608 609 610 611 612 613 614 615 616 617 618 619 620 621 622 623 624 625 626 627 628 629 630 631 632 633 634 635 636 637 638 639 640 641 642 643 644 645 646 647 648 649 650 651 652 653 654 655 656 657 658 659 660 661 662 663 664 665 666 667 668 669 670 671 672 673 674 675 676 677 678 679 680 681 682 683 684 685 686 687 688 689 690 691 692 693 694 695 696 697 698 699 700 701 702 703 704 705 706 707 708 709 710 711 712 713 714 715 716 717 718 719 720 721 722 723 724 725 726 727 728 729 730 731 732 733 734 735 736 737 738 739 740 741 742 743 744 745 746 747 748 749 750 751 752 753 754 755 756 757 758 759 760 761 762 763 764 765 766 767 768 769 770 771 772 773 774 775 776 777 778 779 780 781 782 783 784 785 786 787 788 789 790 791 792 793 794 795 796 797 798 799 800 801 802 803 804 805 806 807 808 809 810 811 812 813 814 815 816 817 818 819 820 821 822 823 824 825 826 827 828 829 830 831 832 833 834 835 836 837 838 839 840 841 842 843 844 845 846 847 848 849 850 851 852 853 854 855 856 857 858 859 860 861 862 863 864 865 866 867 868 869 870 871 872 873 874 875 876 877 878 879 880 881 882 883 884 885 886 887 888 889 890 891 892 893 894 895 896 897 898 899 900 901 902 903 904 905 906 907 908 909 910 911 912 913 914 915 916 917 918 919 920 921 922 923 924 925 926 927 928 929 930 931 932 933 934 935 936 937 938 939 940 941 942 943 944 945 946 947 948 949 950 951 952 953 954 955 956 957 958 959 960 961 962 963 964 965 966 967 968 969 970 971 972 973 974 975 976 977 978 979 980 981 982 983 984 985 986 987 988 989 990 991 992 993 994 995 996 997 998 999 1000 "
          ]
        }
      ]
    },
    {
      "cell_type": "code",
      "metadata": {
        "id": "3lb3f_JiK5WF",
        "colab": {
          "base_uri": "https://localhost:8080/"
        },
        "outputId": "c8854385-f799-4fd2-857e-412801e292c6"
      },
      "source": [
        "for i in range(100, 0, -1):\n",
        "  print(i, end=' ')"
      ],
      "execution_count": 203,
      "outputs": [
        {
          "output_type": "stream",
          "name": "stdout",
          "text": [
            "100 99 98 97 96 95 94 93 92 91 90 89 88 87 86 85 84 83 82 81 80 79 78 77 76 75 74 73 72 71 70 69 68 67 66 65 64 63 62 61 60 59 58 57 56 55 54 53 52 51 50 49 48 47 46 45 44 43 42 41 40 39 38 37 36 35 34 33 32 31 30 29 28 27 26 25 24 23 22 21 20 19 18 17 16 15 14 13 12 11 10 9 8 7 6 5 4 3 2 1 "
          ]
        }
      ]
    },
    {
      "cell_type": "code",
      "metadata": {
        "id": "yfJCpG_FLJtD",
        "colab": {
          "base_uri": "https://localhost:8080/"
        },
        "outputId": "2a22d1b8-bdb4-4d8c-a0da-86ca4689b4c2"
      },
      "source": [
        "for i in range(2,20, 2):\n",
        "  print(i, end=' ')"
      ],
      "execution_count": 204,
      "outputs": [
        {
          "output_type": "stream",
          "name": "stdout",
          "text": [
            "2 4 6 8 10 12 14 16 18 "
          ]
        }
      ]
    },
    {
      "cell_type": "code",
      "metadata": {
        "id": "jxsuaVmSLYVR",
        "colab": {
          "base_uri": "https://localhost:8080/"
        },
        "outputId": "4b2f11fe-e42f-4f20-b2a9-a26ad588ceab"
      },
      "source": [
        "for i in range(10):\n",
        "  if i>0:\n",
        "    print(i+i, end=' ')"
      ],
      "execution_count": 205,
      "outputs": [
        {
          "output_type": "stream",
          "name": "stdout",
          "text": [
            "2 4 6 8 10 12 14 16 18 "
          ]
        }
      ]
    },
    {
      "cell_type": "code",
      "metadata": {
        "id": "4rfg0C0rLtDZ",
        "colab": {
          "base_uri": "https://localhost:8080/"
        },
        "outputId": "073ee686-3d71-4882-8114-0fc2ef87563e"
      },
      "source": [
        "sum =0\n",
        "for i in range(1,51):\n",
        "  sum = sum + i\n",
        "print(sum)\n"
      ],
      "execution_count": 206,
      "outputs": [
        {
          "output_type": "stream",
          "name": "stdout",
          "text": [
            "1275\n"
          ]
        }
      ]
    },
    {
      "cell_type": "code",
      "metadata": {
        "id": "_7RtKjoMNhEu",
        "colab": {
          "base_uri": "https://localhost:8080/"
        },
        "outputId": "de4082b3-b358-4d64-9d3f-1650a2333fc4"
      },
      "source": [
        "sum=0\n",
        "\n",
        "for i in range (51):\n",
        "  sum=sum+i\n",
        "print(\"sum of number is\",sum)"
      ],
      "execution_count": 207,
      "outputs": [
        {
          "output_type": "stream",
          "name": "stdout",
          "text": [
            "sum of number is 1275\n"
          ]
        }
      ]
    },
    {
      "cell_type": "code",
      "metadata": {
        "id": "0eKK_EJWODx4",
        "colab": {
          "base_uri": "https://localhost:8080/"
        },
        "outputId": "b28e419a-2c7c-4355-8b44-7b76f0c0c105"
      },
      "source": [
        "for i in range(3):\n",
        "  print('X')\n",
        "  for j in range(4):\n",
        "    print('Y')"
      ],
      "execution_count": 209,
      "outputs": [
        {
          "output_type": "stream",
          "name": "stdout",
          "text": [
            "X\n",
            "Y\n",
            "Y\n",
            "Y\n",
            "Y\n",
            "X\n",
            "Y\n",
            "Y\n",
            "Y\n",
            "Y\n",
            "X\n",
            "Y\n",
            "Y\n",
            "Y\n",
            "Y\n"
          ]
        }
      ]
    },
    {
      "cell_type": "code",
      "metadata": {
        "id": "gC4mY0ayOQCE",
        "colab": {
          "base_uri": "https://localhost:8080/"
        },
        "outputId": "1f556900-3a10-4560-a9ac-ae685a93d6f4"
      },
      "source": [
        "x=0\n",
        "for i in range(10):\n",
        "  x=x+1\n",
        "for j in range(10):\n",
        "    x=x+1\n",
        "print(x)"
      ],
      "execution_count": 210,
      "outputs": [
        {
          "output_type": "stream",
          "name": "stdout",
          "text": [
            "20\n"
          ]
        }
      ]
    },
    {
      "cell_type": "code",
      "metadata": {
        "id": "fD3aeWTAQKRD",
        "colab": {
          "base_uri": "https://localhost:8080/"
        },
        "outputId": "2948d76a-c21f-4a3c-b047-a88b8eb572b1"
      },
      "source": [
        "x=0\n",
        "for i in range(10):\n",
        "  x=x+1\n",
        "  for j in range(10):\n",
        "      x=x+1\n",
        "print(x)"
      ],
      "execution_count": 211,
      "outputs": [
        {
          "output_type": "stream",
          "name": "stdout",
          "text": [
            "110\n"
          ]
        }
      ]
    },
    {
      "cell_type": "code",
      "metadata": {
        "id": "56hQ4AYrQXZc",
        "colab": {
          "base_uri": "https://localhost:8080/"
        },
        "outputId": "8c902978-6e4c-4e97-b5c4-b47c32e5d5e3"
      },
      "source": [
        "for i in range(1, 20):\n",
        "  kvad = i**2\n",
        "  kub = pow(i, 3)\n",
        "  print(f'{i} i kvadrat: {kvad}, i kubik: {kub} ')"
      ],
      "execution_count": 212,
      "outputs": [
        {
          "output_type": "stream",
          "name": "stdout",
          "text": [
            "1 i kvadrat: 1, i kubik: 1 \n",
            "2 i kvadrat: 4, i kubik: 8 \n",
            "3 i kvadrat: 9, i kubik: 27 \n",
            "4 i kvadrat: 16, i kubik: 64 \n",
            "5 i kvadrat: 25, i kubik: 125 \n",
            "6 i kvadrat: 36, i kubik: 216 \n",
            "7 i kvadrat: 49, i kubik: 343 \n",
            "8 i kvadrat: 64, i kubik: 512 \n",
            "9 i kvadrat: 81, i kubik: 729 \n",
            "10 i kvadrat: 100, i kubik: 1000 \n",
            "11 i kvadrat: 121, i kubik: 1331 \n",
            "12 i kvadrat: 144, i kubik: 1728 \n",
            "13 i kvadrat: 169, i kubik: 2197 \n",
            "14 i kvadrat: 196, i kubik: 2744 \n",
            "15 i kvadrat: 225, i kubik: 3375 \n",
            "16 i kvadrat: 256, i kubik: 4096 \n",
            "17 i kvadrat: 289, i kubik: 4913 \n",
            "18 i kvadrat: 324, i kubik: 5832 \n",
            "19 i kvadrat: 361, i kubik: 6859 \n"
          ]
        }
      ]
    },
    {
      "cell_type": "code",
      "metadata": {
        "colab": {
          "base_uri": "https://localhost:8080/"
        },
        "id": "ZcUcdQJ50MHt",
        "outputId": "7dd0dfc3-20f0-48cd-bc78-939b85603513"
      },
      "source": [
        "c = int(input('Hur många grader celcius är det? '))\n",
        "f= 32+c*9/5\n",
        "print(f'{c} celciusgrader motsvarar {f} Farenheit ')"
      ],
      "execution_count": 213,
      "outputs": [
        {
          "output_type": "stream",
          "name": "stdout",
          "text": [
            "Hur många grader celcius är det? 100\n",
            "100 celciusgrader motsvarar 212.0 Farenheit \n"
          ]
        }
      ]
    },
    {
      "cell_type": "code",
      "metadata": {
        "colab": {
          "base_uri": "https://localhost:8080/"
        },
        "id": "isO2uplN3Vqi",
        "outputId": "ad0c5f5b-949e-4202-e696-64aa8e83dbe7"
      },
      "source": [
        "for i in range(-40, 41):\n",
        "  f= 32+i*9/5\n",
        "  print(f'{i} C är {round(f)} Farenheit ')"
      ],
      "execution_count": 214,
      "outputs": [
        {
          "output_type": "stream",
          "name": "stdout",
          "text": [
            "-40 C är -40 Farenheit \n",
            "-39 C är -38 Farenheit \n",
            "-38 C är -36 Farenheit \n",
            "-37 C är -35 Farenheit \n",
            "-36 C är -33 Farenheit \n",
            "-35 C är -31 Farenheit \n",
            "-34 C är -29 Farenheit \n",
            "-33 C är -27 Farenheit \n",
            "-32 C är -26 Farenheit \n",
            "-31 C är -24 Farenheit \n",
            "-30 C är -22 Farenheit \n",
            "-29 C är -20 Farenheit \n",
            "-28 C är -18 Farenheit \n",
            "-27 C är -17 Farenheit \n",
            "-26 C är -15 Farenheit \n",
            "-25 C är -13 Farenheit \n",
            "-24 C är -11 Farenheit \n",
            "-23 C är -9 Farenheit \n",
            "-22 C är -8 Farenheit \n",
            "-21 C är -6 Farenheit \n",
            "-20 C är -4 Farenheit \n",
            "-19 C är -2 Farenheit \n",
            "-18 C är 0 Farenheit \n",
            "-17 C är 1 Farenheit \n",
            "-16 C är 3 Farenheit \n",
            "-15 C är 5 Farenheit \n",
            "-14 C är 7 Farenheit \n",
            "-13 C är 9 Farenheit \n",
            "-12 C är 10 Farenheit \n",
            "-11 C är 12 Farenheit \n",
            "-10 C är 14 Farenheit \n",
            "-9 C är 16 Farenheit \n",
            "-8 C är 18 Farenheit \n",
            "-7 C är 19 Farenheit \n",
            "-6 C är 21 Farenheit \n",
            "-5 C är 23 Farenheit \n",
            "-4 C är 25 Farenheit \n",
            "-3 C är 27 Farenheit \n",
            "-2 C är 28 Farenheit \n",
            "-1 C är 30 Farenheit \n",
            "0 C är 32 Farenheit \n",
            "1 C är 34 Farenheit \n",
            "2 C är 36 Farenheit \n",
            "3 C är 37 Farenheit \n",
            "4 C är 39 Farenheit \n",
            "5 C är 41 Farenheit \n",
            "6 C är 43 Farenheit \n",
            "7 C är 45 Farenheit \n",
            "8 C är 46 Farenheit \n",
            "9 C är 48 Farenheit \n",
            "10 C är 50 Farenheit \n",
            "11 C är 52 Farenheit \n",
            "12 C är 54 Farenheit \n",
            "13 C är 55 Farenheit \n",
            "14 C är 57 Farenheit \n",
            "15 C är 59 Farenheit \n",
            "16 C är 61 Farenheit \n",
            "17 C är 63 Farenheit \n",
            "18 C är 64 Farenheit \n",
            "19 C är 66 Farenheit \n",
            "20 C är 68 Farenheit \n",
            "21 C är 70 Farenheit \n",
            "22 C är 72 Farenheit \n",
            "23 C är 73 Farenheit \n",
            "24 C är 75 Farenheit \n",
            "25 C är 77 Farenheit \n",
            "26 C är 79 Farenheit \n",
            "27 C är 81 Farenheit \n",
            "28 C är 82 Farenheit \n",
            "29 C är 84 Farenheit \n",
            "30 C är 86 Farenheit \n",
            "31 C är 88 Farenheit \n",
            "32 C är 90 Farenheit \n",
            "33 C är 91 Farenheit \n",
            "34 C är 93 Farenheit \n",
            "35 C är 95 Farenheit \n",
            "36 C är 97 Farenheit \n",
            "37 C är 99 Farenheit \n",
            "38 C är 100 Farenheit \n",
            "39 C är 102 Farenheit \n",
            "40 C är 104 Farenheit \n"
          ]
        }
      ]
    },
    {
      "cell_type": "code",
      "metadata": {
        "id": "wEY3Rg5c4GNI",
        "colab": {
          "base_uri": "https://localhost:8080/"
        },
        "outputId": "0fd9e6f2-2def-4d75-c8d1-7c0a4457a089"
      },
      "source": [
        "i=-40\n",
        "while i<41:\n",
        "  f= 32+i*9/5\n",
        "  print(f'{i} C är {round(f)} Farenheit ')\n",
        "  i+=1"
      ],
      "execution_count": 215,
      "outputs": [
        {
          "output_type": "stream",
          "name": "stdout",
          "text": [
            "-40 C är -40 Farenheit \n",
            "-39 C är -38 Farenheit \n",
            "-38 C är -36 Farenheit \n",
            "-37 C är -35 Farenheit \n",
            "-36 C är -33 Farenheit \n",
            "-35 C är -31 Farenheit \n",
            "-34 C är -29 Farenheit \n",
            "-33 C är -27 Farenheit \n",
            "-32 C är -26 Farenheit \n",
            "-31 C är -24 Farenheit \n",
            "-30 C är -22 Farenheit \n",
            "-29 C är -20 Farenheit \n",
            "-28 C är -18 Farenheit \n",
            "-27 C är -17 Farenheit \n",
            "-26 C är -15 Farenheit \n",
            "-25 C är -13 Farenheit \n",
            "-24 C är -11 Farenheit \n",
            "-23 C är -9 Farenheit \n",
            "-22 C är -8 Farenheit \n",
            "-21 C är -6 Farenheit \n",
            "-20 C är -4 Farenheit \n",
            "-19 C är -2 Farenheit \n",
            "-18 C är 0 Farenheit \n",
            "-17 C är 1 Farenheit \n",
            "-16 C är 3 Farenheit \n",
            "-15 C är 5 Farenheit \n",
            "-14 C är 7 Farenheit \n",
            "-13 C är 9 Farenheit \n",
            "-12 C är 10 Farenheit \n",
            "-11 C är 12 Farenheit \n",
            "-10 C är 14 Farenheit \n",
            "-9 C är 16 Farenheit \n",
            "-8 C är 18 Farenheit \n",
            "-7 C är 19 Farenheit \n",
            "-6 C är 21 Farenheit \n",
            "-5 C är 23 Farenheit \n",
            "-4 C är 25 Farenheit \n",
            "-3 C är 27 Farenheit \n",
            "-2 C är 28 Farenheit \n",
            "-1 C är 30 Farenheit \n",
            "0 C är 32 Farenheit \n",
            "1 C är 34 Farenheit \n",
            "2 C är 36 Farenheit \n",
            "3 C är 37 Farenheit \n",
            "4 C är 39 Farenheit \n",
            "5 C är 41 Farenheit \n",
            "6 C är 43 Farenheit \n",
            "7 C är 45 Farenheit \n",
            "8 C är 46 Farenheit \n",
            "9 C är 48 Farenheit \n",
            "10 C är 50 Farenheit \n",
            "11 C är 52 Farenheit \n",
            "12 C är 54 Farenheit \n",
            "13 C är 55 Farenheit \n",
            "14 C är 57 Farenheit \n",
            "15 C är 59 Farenheit \n",
            "16 C är 61 Farenheit \n",
            "17 C är 63 Farenheit \n",
            "18 C är 64 Farenheit \n",
            "19 C är 66 Farenheit \n",
            "20 C är 68 Farenheit \n",
            "21 C är 70 Farenheit \n",
            "22 C är 72 Farenheit \n",
            "23 C är 73 Farenheit \n",
            "24 C är 75 Farenheit \n",
            "25 C är 77 Farenheit \n",
            "26 C är 79 Farenheit \n",
            "27 C är 81 Farenheit \n",
            "28 C är 82 Farenheit \n",
            "29 C är 84 Farenheit \n",
            "30 C är 86 Farenheit \n",
            "31 C är 88 Farenheit \n",
            "32 C är 90 Farenheit \n",
            "33 C är 91 Farenheit \n",
            "34 C är 93 Farenheit \n",
            "35 C är 95 Farenheit \n",
            "36 C är 97 Farenheit \n",
            "37 C är 99 Farenheit \n",
            "38 C är 100 Farenheit \n",
            "39 C är 102 Farenheit \n",
            "40 C är 104 Farenheit \n"
          ]
        }
      ]
    },
    {
      "cell_type": "code",
      "metadata": {
        "id": "MSgC8kPL5V9R",
        "colab": {
          "base_uri": "https://localhost:8080/"
        },
        "outputId": "0fdaf2fd-4eab-4c93-a725-9c1b7ac0e968"
      },
      "source": [
        "sum=1\n",
        "for i in range(1,2017):\n",
        "  sum= sum*1.02\n",
        "print(sum)\n"
      ],
      "execution_count": 216,
      "outputs": [
        {
          "output_type": "stream",
          "name": "stdout",
          "text": [
            "2.1774403775021254e+17\n"
          ]
        }
      ]
    },
    {
      "cell_type": "code",
      "metadata": {
        "id": "twKJ4srRWcVM",
        "colab": {
          "base_uri": "https://localhost:8080/"
        },
        "outputId": "5016fb09-4483-4161-9663-8c2c6bee13e2"
      },
      "source": [
        "x = input('Skriv en mening ')\n",
        "for i in x: \n",
        "  print(i, end=' ')"
      ],
      "execution_count": 217,
      "outputs": [
        {
          "output_type": "stream",
          "name": "stdout",
          "text": [
            "Skriv en mening hej hej\n",
            "h e j   h e j "
          ]
        }
      ]
    },
    {
      "cell_type": "code",
      "metadata": {
        "colab": {
          "base_uri": "https://localhost:8080/"
        },
        "id": "socGtt7rWuNO",
        "outputId": "8ab6dbbb-29ae-49cf-c395-854cadfed5db"
      },
      "source": [
        "password = 'kalle'\n",
        "while x != password: \n",
        "  x = input('Lösenord ')\n",
        "  if x == password:\n",
        "    print('ok')\n",
        "    break\n",
        "  elif x=='':\n",
        "    print('Avbruten inloggning')\n",
        "    break\n",
        "\n",
        "\n",
        "\n"
      ],
      "execution_count": 218,
      "outputs": [
        {
          "output_type": "stream",
          "name": "stdout",
          "text": [
            "Lösenord kalle\n",
            "ok\n"
          ]
        }
      ]
    },
    {
      "cell_type": "code",
      "metadata": {
        "id": "QLxSA3tvYtkR",
        "colab": {
          "base_uri": "https://localhost:8080/"
        },
        "outputId": "6fd4ae9a-44f2-45c3-826d-7aaf45ca5401"
      },
      "source": [
        "for i in range(5):\n",
        "  for j in range(1,10):\n",
        "    print(j, end=' ')\n",
        "  print()"
      ],
      "execution_count": 219,
      "outputs": [
        {
          "output_type": "stream",
          "name": "stdout",
          "text": [
            "1 2 3 4 5 6 7 8 9 \n",
            "1 2 3 4 5 6 7 8 9 \n",
            "1 2 3 4 5 6 7 8 9 \n",
            "1 2 3 4 5 6 7 8 9 \n",
            "1 2 3 4 5 6 7 8 9 \n"
          ]
        }
      ]
    },
    {
      "cell_type": "code",
      "metadata": {
        "id": "6tbva7_IZGWS",
        "colab": {
          "base_uri": "https://localhost:8080/"
        },
        "outputId": "4d86a6cf-c79e-4042-b241-9d5de58700f0"
      },
      "source": [
        "for i in range(1,10):\n",
        "  print(i, end=' ')\n",
        "  for j in range(1,9):\n",
        "    print(i, end=' ')\n",
        "  print()"
      ],
      "execution_count": 220,
      "outputs": [
        {
          "output_type": "stream",
          "name": "stdout",
          "text": [
            "1 1 1 1 1 1 1 1 1 \n",
            "2 2 2 2 2 2 2 2 2 \n",
            "3 3 3 3 3 3 3 3 3 \n",
            "4 4 4 4 4 4 4 4 4 \n",
            "5 5 5 5 5 5 5 5 5 \n",
            "6 6 6 6 6 6 6 6 6 \n",
            "7 7 7 7 7 7 7 7 7 \n",
            "8 8 8 8 8 8 8 8 8 \n",
            "9 9 9 9 9 9 9 9 9 \n"
          ]
        }
      ]
    },
    {
      "cell_type": "code",
      "metadata": {
        "id": "YaGsD9RsSWT8",
        "colab": {
          "base_uri": "https://localhost:8080/"
        },
        "outputId": "080651da-3cb1-48ce-eb94-d2c83c10ebcc"
      },
      "source": [
        "for i in range(6):\n",
        "  for j in range(i):\n",
        "    print('*', end='')\n",
        "  print()"
      ],
      "execution_count": 221,
      "outputs": [
        {
          "output_type": "stream",
          "name": "stdout",
          "text": [
            "\n",
            "*\n",
            "**\n",
            "***\n",
            "****\n",
            "*****\n"
          ]
        }
      ]
    },
    {
      "cell_type": "code",
      "metadata": {
        "id": "OuoGvEJMS8zZ",
        "colab": {
          "base_uri": "https://localhost:8080/"
        },
        "outputId": "5d1d4780-f3a4-4fd7-afdd-ac6ccb5fefa7"
      },
      "source": [
        "for i in range(9):\n",
        "  for j in range(10):\n",
        "    print(i, end=' ')\n",
        "  print()"
      ],
      "execution_count": 222,
      "outputs": [
        {
          "output_type": "stream",
          "name": "stdout",
          "text": [
            "0 0 0 0 0 0 0 0 0 0 \n",
            "1 1 1 1 1 1 1 1 1 1 \n",
            "2 2 2 2 2 2 2 2 2 2 \n",
            "3 3 3 3 3 3 3 3 3 3 \n",
            "4 4 4 4 4 4 4 4 4 4 \n",
            "5 5 5 5 5 5 5 5 5 5 \n",
            "6 6 6 6 6 6 6 6 6 6 \n",
            "7 7 7 7 7 7 7 7 7 7 \n",
            "8 8 8 8 8 8 8 8 8 8 \n"
          ]
        }
      ]
    },
    {
      "cell_type": "code",
      "metadata": {
        "id": "aIV3iCAdTdeF",
        "colab": {
          "base_uri": "https://localhost:8080/"
        },
        "outputId": "b775c509-e078-4839-c5ca-388bad9e08e0"
      },
      "source": [
        "for i in range(10):\n",
        "  for j in range(0,10-i):\n",
        "    print(j, end=' ')\n",
        "  print()"
      ],
      "execution_count": 223,
      "outputs": [
        {
          "output_type": "stream",
          "name": "stdout",
          "text": [
            "0 1 2 3 4 5 6 7 8 9 \n",
            "0 1 2 3 4 5 6 7 8 \n",
            "0 1 2 3 4 5 6 7 \n",
            "0 1 2 3 4 5 6 \n",
            "0 1 2 3 4 5 \n",
            "0 1 2 3 4 \n",
            "0 1 2 3 \n",
            "0 1 2 \n",
            "0 1 \n",
            "0 \n"
          ]
        }
      ]
    },
    {
      "cell_type": "code",
      "metadata": {
        "id": "NiA1-08tW76i",
        "colab": {
          "base_uri": "https://localhost:8080/"
        },
        "outputId": "690e0647-c4f6-4b9e-d65f-f97ffd85b281"
      },
      "source": [
        "r = 10\n",
        "for i in range(10):\n",
        "  for j in range(i):\n",
        "    print('  ', end='')\n",
        "  for j in range(0,10-i):\n",
        "    print(j, end=' ')\n",
        "\n",
        "  print()"
      ],
      "execution_count": 224,
      "outputs": [
        {
          "output_type": "stream",
          "name": "stdout",
          "text": [
            "0 1 2 3 4 5 6 7 8 9 \n",
            "  0 1 2 3 4 5 6 7 8 \n",
            "    0 1 2 3 4 5 6 7 \n",
            "      0 1 2 3 4 5 6 \n",
            "        0 1 2 3 4 5 \n",
            "          0 1 2 3 4 \n",
            "            0 1 2 3 \n",
            "              0 1 2 \n",
            "                0 1 \n",
            "                  0 \n"
          ]
        }
      ]
    },
    {
      "cell_type": "code",
      "metadata": {
        "id": "fedUD1N0gFz0",
        "colab": {
          "base_uri": "https://localhost:8080/"
        },
        "outputId": "a5de3515-a15f-42c7-e8c6-5a4768d4adfa"
      },
      "source": [
        "for i in range(1,10):\n",
        "  for j in range(1, 10):\n",
        "    print(i*j, end=' ')\n",
        "  print()"
      ],
      "execution_count": 225,
      "outputs": [
        {
          "output_type": "stream",
          "name": "stdout",
          "text": [
            "1 2 3 4 5 6 7 8 9 \n",
            "2 4 6 8 10 12 14 16 18 \n",
            "3 6 9 12 15 18 21 24 27 \n",
            "4 8 12 16 20 24 28 32 36 \n",
            "5 10 15 20 25 30 35 40 45 \n",
            "6 12 18 24 30 36 42 48 54 \n",
            "7 14 21 28 35 42 49 56 63 \n",
            "8 16 24 32 40 48 56 64 72 \n",
            "9 18 27 36 45 54 63 72 81 \n"
          ]
        }
      ]
    },
    {
      "cell_type": "code",
      "metadata": {
        "id": "CKWPjxjfiSRl",
        "colab": {
          "base_uri": "https://localhost:8080/"
        },
        "outputId": "06891e89-7d06-4f2d-d616-4c1ec4283689"
      },
      "source": [
        "for i in range(1,10):\n",
        "  for j in range(1, 10):\n",
        "    res = i*j\n",
        "    print(f\"{res:2}\", end='  ')\n",
        "  print()"
      ],
      "execution_count": 226,
      "outputs": [
        {
          "output_type": "stream",
          "name": "stdout",
          "text": [
            " 1   2   3   4   5   6   7   8   9  \n",
            " 2   4   6   8  10  12  14  16  18  \n",
            " 3   6   9  12  15  18  21  24  27  \n",
            " 4   8  12  16  20  24  28  32  36  \n",
            " 5  10  15  20  25  30  35  40  45  \n",
            " 6  12  18  24  30  36  42  48  54  \n",
            " 7  14  21  28  35  42  49  56  63  \n",
            " 8  16  24  32  40  48  56  64  72  \n",
            " 9  18  27  36  45  54  63  72  81  \n"
          ]
        }
      ]
    },
    {
      "cell_type": "code",
      "metadata": {
        "id": "aiuSmbNxpGXT",
        "colab": {
          "base_uri": "https://localhost:8080/"
        },
        "outputId": "e4cb25d3-02a0-4a73-dd65-344d2563dab4"
      },
      "source": [
        "for i in range(1,10):\n",
        "  for j in range(1, 10):\n",
        "    print(f\"{i*j:2}\", end='  ')\n",
        "  print()"
      ],
      "execution_count": 227,
      "outputs": [
        {
          "output_type": "stream",
          "name": "stdout",
          "text": [
            " 1   2   3   4   5   6   7   8   9  \n",
            " 2   4   6   8  10  12  14  16  18  \n",
            " 3   6   9  12  15  18  21  24  27  \n",
            " 4   8  12  16  20  24  28  32  36  \n",
            " 5  10  15  20  25  30  35  40  45  \n",
            " 6  12  18  24  30  36  42  48  54  \n",
            " 7  14  21  28  35  42  49  56  63  \n",
            " 8  16  24  32  40  48  56  64  72  \n",
            " 9  18  27  36  45  54  63  72  81  \n"
          ]
        }
      ]
    },
    {
      "cell_type": "code",
      "metadata": {
        "id": "xbO7RZqC_MnJ",
        "colab": {
          "base_uri": "https://localhost:8080/"
        },
        "outputId": "022b8aeb-1076-4a23-d111-8e1c1f0ea5d7"
      },
      "source": [
        "f= int(input('Ange första talet '))\n",
        "a= int(input('Ange andra talet '))\n",
        "faktor=0\n",
        "if f<a: \n",
        "  faktor = 1\n",
        "else:\n",
        "  faktor=-1\n",
        "for i in range(f, a, faktor):\n",
        "  print(f\"{i:1}\", end=' ')"
      ],
      "execution_count": 228,
      "outputs": [
        {
          "output_type": "stream",
          "name": "stdout",
          "text": [
            "Ange första talet 3\n",
            "Ange andra talet 6\n",
            "3 4 5 "
          ]
        }
      ]
    },
    {
      "cell_type": "code",
      "metadata": {
        "id": "UblPWIOOC8fd",
        "colab": {
          "base_uri": "https://localhost:8080/"
        },
        "outputId": "fb2a3183-0be6-469f-eaa1-911c65a4faea"
      },
      "source": [
        "print(\"**********\\n\" *5)"
      ],
      "execution_count": 229,
      "outputs": [
        {
          "output_type": "stream",
          "name": "stdout",
          "text": [
            "**********\n",
            "**********\n",
            "**********\n",
            "**********\n",
            "**********\n",
            "\n"
          ]
        }
      ]
    },
    {
      "cell_type": "code",
      "metadata": {
        "id": "mYb8W1JqGY2h",
        "colab": {
          "base_uri": "https://localhost:8080/"
        },
        "outputId": "e8061358-1371-466b-fe16-d89dc86dff50"
      },
      "source": [
        "for i in range(5):\n",
        "  print('**********')"
      ],
      "execution_count": 230,
      "outputs": [
        {
          "output_type": "stream",
          "name": "stdout",
          "text": [
            "**********\n",
            "**********\n",
            "**********\n",
            "**********\n",
            "**********\n"
          ]
        }
      ]
    },
    {
      "cell_type": "code",
      "metadata": {
        "id": "W6tiU4MWHOUJ"
      },
      "source": [
        ""
      ],
      "execution_count": 230,
      "outputs": []
    },
    {
      "cell_type": "markdown",
      "metadata": {
        "id": "eX5XbirDHa9R"
      },
      "source": [
        "# 6 kap Mer om teckensträngar i Python"
      ]
    },
    {
      "cell_type": "code",
      "metadata": {
        "id": "HqujIeRWHf11",
        "colab": {
          "base_uri": "https://localhost:8080/"
        },
        "outputId": "7632dfa6-9cb3-42af-95e0-7731de3d568a"
      },
      "source": [
        "str = 'aaaabC A defg '\n",
        "'a' in str"
      ],
      "execution_count": 231,
      "outputs": [
        {
          "output_type": "execute_result",
          "data": {
            "text/plain": [
              "True"
            ]
          },
          "metadata": {},
          "execution_count": 231
        }
      ]
    },
    {
      "cell_type": "code",
      "metadata": {
        "id": "XjsLF-cZJ5M4",
        "colab": {
          "base_uri": "https://localhost:8080/",
          "height": 35
        },
        "outputId": "36fc4d35-3647-4ab4-e4a2-712e87d214ae"
      },
      "source": [
        "str.center(33)"
      ],
      "execution_count": 232,
      "outputs": [
        {
          "output_type": "execute_result",
          "data": {
            "application/vnd.google.colaboratory.intrinsic+json": {
              "type": "string"
            },
            "text/plain": [
              "'          aaaabC A defg          '"
            ]
          },
          "metadata": {},
          "execution_count": 232
        }
      ]
    },
    {
      "cell_type": "code",
      "metadata": {
        "id": "omzYGk3AKgtP",
        "colab": {
          "base_uri": "https://localhost:8080/"
        },
        "outputId": "9de2b65a-25ce-4294-a40d-64fd3c76f27e"
      },
      "source": [
        "str.count('a')"
      ],
      "execution_count": 233,
      "outputs": [
        {
          "output_type": "execute_result",
          "data": {
            "text/plain": [
              "4"
            ]
          },
          "metadata": {},
          "execution_count": 233
        }
      ]
    },
    {
      "cell_type": "code",
      "metadata": {
        "id": "_DIR7bwqK7t8",
        "colab": {
          "base_uri": "https://localhost:8080/",
          "height": 35
        },
        "outputId": "aef86997-7d96-485c-e7fd-d70f16271144"
      },
      "source": [
        "str.rjust(31)"
      ],
      "execution_count": 234,
      "outputs": [
        {
          "output_type": "execute_result",
          "data": {
            "application/vnd.google.colaboratory.intrinsic+json": {
              "type": "string"
            },
            "text/plain": [
              "'                 aaaabC A defg '"
            ]
          },
          "metadata": {},
          "execution_count": 234
        }
      ]
    },
    {
      "cell_type": "code",
      "metadata": {
        "id": "swwIIt_PLTSY",
        "colab": {
          "base_uri": "https://localhost:8080/",
          "height": 35
        },
        "outputId": "769c97e8-c199-42ed-957b-31b2d59ba18e"
      },
      "source": [
        "str.ljust(33)"
      ],
      "execution_count": 235,
      "outputs": [
        {
          "output_type": "execute_result",
          "data": {
            "application/vnd.google.colaboratory.intrinsic+json": {
              "type": "string"
            },
            "text/plain": [
              "'aaaabC A defg                    '"
            ]
          },
          "metadata": {},
          "execution_count": 235
        }
      ]
    },
    {
      "cell_type": "code",
      "metadata": {
        "id": "HqJn9lkHLowN",
        "colab": {
          "base_uri": "https://localhost:8080/",
          "height": 35
        },
        "outputId": "3db84219-cda0-4232-f9e0-7580c488f842"
      },
      "source": [
        "str.upper()"
      ],
      "execution_count": 236,
      "outputs": [
        {
          "output_type": "execute_result",
          "data": {
            "application/vnd.google.colaboratory.intrinsic+json": {
              "type": "string"
            },
            "text/plain": [
              "'AAAABC A DEFG '"
            ]
          },
          "metadata": {},
          "execution_count": 236
        }
      ]
    },
    {
      "cell_type": "code",
      "metadata": {
        "id": "1N4GfvQbLscy",
        "colab": {
          "base_uri": "https://localhost:8080/",
          "height": 35
        },
        "outputId": "f69178ca-4a41-4a5b-dfd9-e7bd9417a71c"
      },
      "source": [
        "str.lower()"
      ],
      "execution_count": 237,
      "outputs": [
        {
          "output_type": "execute_result",
          "data": {
            "application/vnd.google.colaboratory.intrinsic+json": {
              "type": "string"
            },
            "text/plain": [
              "'aaaabc a defg '"
            ]
          },
          "metadata": {},
          "execution_count": 237
        }
      ]
    },
    {
      "cell_type": "code",
      "metadata": {
        "id": "HNsO3ancLvQs",
        "colab": {
          "base_uri": "https://localhost:8080/",
          "height": 35
        },
        "outputId": "01b70f5c-8780-4260-dd4f-9ba64073ea02"
      },
      "source": [
        "str.capitalize()"
      ],
      "execution_count": 238,
      "outputs": [
        {
          "output_type": "execute_result",
          "data": {
            "application/vnd.google.colaboratory.intrinsic+json": {
              "type": "string"
            },
            "text/plain": [
              "'Aaaabc a defg '"
            ]
          },
          "metadata": {},
          "execution_count": 238
        }
      ]
    },
    {
      "cell_type": "code",
      "metadata": {
        "id": "NOteukxbLz1R",
        "colab": {
          "base_uri": "https://localhost:8080/",
          "height": 35
        },
        "outputId": "416138bf-61e2-4713-9e97-e306324ed54e"
      },
      "source": [
        "str.title()"
      ],
      "execution_count": 239,
      "outputs": [
        {
          "output_type": "execute_result",
          "data": {
            "application/vnd.google.colaboratory.intrinsic+json": {
              "type": "string"
            },
            "text/plain": [
              "'Aaaabc A Defg '"
            ]
          },
          "metadata": {},
          "execution_count": 239
        }
      ]
    },
    {
      "cell_type": "code",
      "metadata": {
        "id": "25pxE5rcL2uH",
        "colab": {
          "base_uri": "https://localhost:8080/",
          "height": 35
        },
        "outputId": "ca9e666c-b4f1-42c1-dcd0-c0bf021670a9"
      },
      "source": [
        "str.strip()"
      ],
      "execution_count": 240,
      "outputs": [
        {
          "output_type": "execute_result",
          "data": {
            "application/vnd.google.colaboratory.intrinsic+json": {
              "type": "string"
            },
            "text/plain": [
              "'aaaabC A defg'"
            ]
          },
          "metadata": {},
          "execution_count": 240
        }
      ]
    },
    {
      "cell_type": "code",
      "metadata": {
        "id": "UP56fNLxL6oe",
        "colab": {
          "base_uri": "https://localhost:8080/",
          "height": 35
        },
        "outputId": "4145542b-26e4-4744-e762-25775739d693"
      },
      "source": [
        "str.strip(' ')"
      ],
      "execution_count": 241,
      "outputs": [
        {
          "output_type": "execute_result",
          "data": {
            "application/vnd.google.colaboratory.intrinsic+json": {
              "type": "string"
            },
            "text/plain": [
              "'aaaabC A defg'"
            ]
          },
          "metadata": {},
          "execution_count": 241
        }
      ]
    },
    {
      "cell_type": "code",
      "metadata": {
        "id": "FDpvpltfMIUt",
        "colab": {
          "base_uri": "https://localhost:8080/",
          "height": 35
        },
        "outputId": "65bcd5e1-e5a8-45ad-b242-e3047abe7447"
      },
      "source": [
        "str.replace('A', '*')"
      ],
      "execution_count": 242,
      "outputs": [
        {
          "output_type": "execute_result",
          "data": {
            "application/vnd.google.colaboratory.intrinsic+json": {
              "type": "string"
            },
            "text/plain": [
              "'aaaabC * defg '"
            ]
          },
          "metadata": {},
          "execution_count": 242
        }
      ]
    },
    {
      "cell_type": "code",
      "metadata": {
        "id": "yI29qbLhMYyA",
        "colab": {
          "base_uri": "https://localhost:8080/"
        },
        "outputId": "0ef3e98c-60f3-42af-c2e3-fa713d35d7f3"
      },
      "source": [
        "x = input('Skriv en mening ')\n",
        "print(f'Meningen består av {len(x)} tecken')"
      ],
      "execution_count": 243,
      "outputs": [
        {
          "output_type": "stream",
          "name": "stdout",
          "text": [
            "Skriv en mening hej du glade, ta en spade\n",
            "Meningen består av 25 tecken\n"
          ]
        }
      ]
    },
    {
      "cell_type": "code",
      "metadata": {
        "id": "UjY_ZrkzMywV",
        "colab": {
          "base_uri": "https://localhost:8080/"
        },
        "outputId": "c3b088e0-abad-43e0-8f9d-9cbf3951d2e5"
      },
      "source": [
        "f = input('Förnamn ').title()\n",
        "e = input('Förnamn ').title()\n",
        "fullst = f + ' ' + e\n",
        "print(f'Fullständigt namn: {fullst} ' )"
      ],
      "execution_count": 245,
      "outputs": [
        {
          "output_type": "stream",
          "name": "stdout",
          "text": [
            "Förnamn Joakim\n",
            "Förnamn von anka\n",
            "Fullständigt namn: Joakim Von Anka \n"
          ]
        }
      ]
    },
    {
      "cell_type": "code",
      "metadata": {
        "id": "GRRqltu0NIsr",
        "colab": {
          "base_uri": "https://localhost:8080/"
        },
        "outputId": "55a16cca-50cd-4d49-9f24-2428647e91b4"
      },
      "source": [
        "x = input('Skriv en mening ')\n",
        "y = (x)[::-1]\n",
        "print(y)"
      ],
      "execution_count": 246,
      "outputs": [
        {
          "output_type": "stream",
          "name": "stdout",
          "text": [
            "Skriv en mening Hej du glade\n",
            "edalg ud jeH\n"
          ]
        }
      ]
    },
    {
      "cell_type": "code",
      "metadata": {
        "id": "Qy9vU3SEnFW9",
        "colab": {
          "base_uri": "https://localhost:8080/"
        },
        "outputId": "308ff0fc-0749-4c1f-d193-a5c0b1fed50e"
      },
      "source": [
        "x = 'Alla känner apan men apan känner ingen '\n",
        "y = x.replace('apan', 'gorillan')\n",
        "print(y)"
      ],
      "execution_count": 247,
      "outputs": [
        {
          "output_type": "stream",
          "name": "stdout",
          "text": [
            "Alla känner gorillan men gorillan känner ingen \n"
          ]
        }
      ]
    },
    {
      "cell_type": "code",
      "metadata": {
        "id": "lRJyLm-DnPUF",
        "colab": {
          "base_uri": "https://localhost:8080/"
        },
        "outputId": "f9ee4794-144d-4a5c-c20c-762de9ce0adf"
      },
      "source": [
        "z = x.count('a')\n",
        "print(f\"Alla känner apan men apan känner ingen - innehåller {z} stycken 'a' \")"
      ],
      "execution_count": 249,
      "outputs": [
        {
          "output_type": "stream",
          "name": "stdout",
          "text": [
            "Alla känner apan men apan känner ingen - innehåller 5 stycken 'a' \n"
          ]
        }
      ]
    },
    {
      "cell_type": "code",
      "metadata": {
        "id": "7Q9MjL3dofvT",
        "colab": {
          "base_uri": "https://localhost:8080/"
        },
        "outputId": "4027fe78-446a-4065-f53c-4084da84b9b7"
      },
      "source": [
        "headers = ['Tal', 'kvad', 'kub']\n",
        "format_string = \"{:<5}{:<8}{:<10}\"\n",
        "print(format_string.format(*headers))\n",
        "for i in range(1, 5):\n",
        "  kvad = i**2\n",
        "  kub = pow(i, 3)\n",
        "  print(f'{i}     {kvad:2}     {kub:2} ')\n",
        "  "
      ],
      "execution_count": 250,
      "outputs": [
        {
          "output_type": "stream",
          "name": "stdout",
          "text": [
            "Tal  kvad    kub       \n",
            "1      1      1 \n",
            "2      4      8 \n",
            "3      9     27 \n",
            "4     16     64 \n"
          ]
        }
      ]
    },
    {
      "cell_type": "code",
      "metadata": {
        "id": "fHdZG0wvoxHJ",
        "colab": {
          "base_uri": "https://localhost:8080/"
        },
        "outputId": "70c838f6-2e92-4af4-d6e4-b725b9563abc"
      },
      "source": [
        "cols= 30\n",
        "rows = 30\n",
        "mid = cols/2\n",
        "\n",
        "while i < rows/2:\n",
        "  print('*', end='')\n",
        "  i = i+1\n",
        "  print()\n"
      ],
      "execution_count": 251,
      "outputs": [
        {
          "output_type": "stream",
          "name": "stdout",
          "text": [
            "*\n",
            "*\n",
            "*\n",
            "*\n",
            "*\n",
            "*\n",
            "*\n",
            "*\n",
            "*\n",
            "*\n",
            "*\n"
          ]
        }
      ]
    },
    {
      "cell_type": "code",
      "metadata": {
        "id": "9rK389whsHqj",
        "colab": {
          "base_uri": "https://localhost:8080/"
        },
        "outputId": "ee893385-6f72-4df5-ccfe-090ecf961b00"
      },
      "source": [
        "rows = int(input(\"Enter The Number Of Rows: \"))\n",
        "columns = 2*rows -1\n",
        "i = 0\n",
        "while i < rows:\n",
        "    j = 0\n",
        "    while j < columns :\n",
        "        if( (columns//2)-i <= j <= (columns//2)  +i):\n",
        "            print(\"*\",end = \"\")\n",
        "        else:\n",
        "            print(\" \",end = \"\")\n",
        "        \n",
        "        j+=1\n",
        "    print(\" \")\n",
        "    i+=1\n",
        "    \n",
        "i = 0\n",
        "while i < rows:\n",
        "    j = 0\n",
        "    while j < columns :\n",
        "        if( i <= j <= columns-1 -i):\n",
        "            print(\"*\",end = \"\")\n",
        "        else:\n",
        "            print(\" \",end = \"\")\n",
        "        \n",
        "        j+=1\n",
        "    print(\" \")\n",
        "    i+=1"
      ],
      "execution_count": 253,
      "outputs": [
        {
          "output_type": "stream",
          "name": "stdout",
          "text": [
            "Enter The Number Of Rows: 12\n",
            "           *            \n",
            "          ***           \n",
            "         *****          \n",
            "        *******         \n",
            "       *********        \n",
            "      ***********       \n",
            "     *************      \n",
            "    ***************     \n",
            "   *****************    \n",
            "  *******************   \n",
            " *********************  \n",
            "*********************** \n",
            "*********************** \n",
            " *********************  \n",
            "  *******************   \n",
            "   *****************    \n",
            "    ***************     \n",
            "     *************      \n",
            "      ***********       \n",
            "       *********        \n",
            "        *******         \n",
            "         *****          \n",
            "          ***           \n",
            "           *            \n"
          ]
        }
      ]
    },
    {
      "cell_type": "code",
      "metadata": {
        "id": "65RmUVOJuITk",
        "colab": {
          "base_uri": "https://localhost:8080/"
        },
        "outputId": "1715097e-d4fa-440d-857c-9e489fec09a9"
      },
      "source": [
        "rows = int(input(\"Enter The Number Of Rows: \"))\n",
        "columns = 2*rows -1\n",
        "i = 0\n",
        "while i < rows:\n",
        "    j = 0\n",
        "    while j < columns :\n",
        "        if( (columns//2)-i <= j <= (columns//2)  +i):\n",
        "            print(\"*\",end = \"\")\n",
        "        else:\n",
        "            print(\" \",end = \"\")\n",
        "        \n",
        "        j+=1\n",
        "    print(\" \")\n",
        "    i+=1"
      ],
      "execution_count": 254,
      "outputs": [
        {
          "output_type": "stream",
          "name": "stdout",
          "text": [
            "Enter The Number Of Rows: 12\n",
            "           *            \n",
            "          ***           \n",
            "         *****          \n",
            "        *******         \n",
            "       *********        \n",
            "      ***********       \n",
            "     *************      \n",
            "    ***************     \n",
            "   *****************    \n",
            "  *******************   \n",
            " *********************  \n",
            "*********************** \n"
          ]
        }
      ]
    },
    {
      "cell_type": "code",
      "metadata": {
        "id": "eTyzT1oIymzK",
        "colab": {
          "base_uri": "https://localhost:8080/"
        },
        "outputId": "ec00ae51-548c-4fac-c14d-f2b5028f1e64"
      },
      "source": [
        "v = 'aeiouyåäö '\n",
        "k = ' b, c, d, f, g, h, j, k, l, m, n, p, q, r, s, t, v, z, x'\n",
        "k = k.replace(', ', '').strip()\n",
        "str = input('Skriv en mening ').lower()\n",
        "for i in str: \n",
        "  if i in v: \n",
        "    print(i, end='')\n",
        "  elif i in k: \n",
        "    print(i+'o'+i, end='')\n",
        "\n"
      ],
      "execution_count": 255,
      "outputs": [
        {
          "output_type": "stream",
          "name": "stdout",
          "text": [
            "Skriv en mening Hej du glade, ta en spade\n",
            "hohejoj dodu gogloladode tota enon sospopadode"
          ]
        }
      ]
    },
    {
      "cell_type": "code",
      "metadata": {
        "id": "D9rt8gEu1UuJ"
      },
      "source": [
        "v = 'aeiouyåäö '\n",
        "k = ' b, c, d, f, g, h, j, k, l, m, n, p, q, r, s, t, v, z, x'\n",
        "k = k.replace(', ', '').strip()\n",
        "str = input('Skriv en mening på rövarspråket ').lower()\n",
        "output=[]\n",
        "for i in str: \n",
        "  if i in k and str[i+1]=='o':\n",
        "    print(i)\n",
        "  elif i in v:\n",
        "    print(i) \n",
        "\n",
        "print(output)\n",
        "#"
      ],
      "execution_count": null,
      "outputs": []
    },
    {
      "cell_type": "code",
      "metadata": {
        "id": "3-YivF85ofVg"
      },
      "source": [
        "v = 'aeiouyåäö '\n",
        "k = ' b, c, d, f, g, h, j, k, l, m, n, p, q, r, s, t, v, z, x'\n",
        "k = k.replace(', ', '').strip()\n",
        "str = 'jojagog totalolaror rorövovarorsospoproråkoketot'\n",
        "output=[]\n",
        "nstr = ''\n",
        "for i in range(len(str)): \n",
        "  if str[i] in k:\n",
        "    for j in range(1):\n",
        "      if str[j+1]=='o':\n",
        "        nstr = ''.join(str[i])\n",
        " # elif str[i] in v:\n",
        " #   nstr = ''.join(str[i]) \n",
        "    print(nstr)\n",
        "\n",
        "#  elif str[i] in v:\n",
        "    print(str[i]) \n",
        "\n"
      ],
      "execution_count": null,
      "outputs": []
    },
    {
      "cell_type": "code",
      "metadata": {
        "id": "oyLIqivVp2WX"
      },
      "source": [
        "#x = int(imput('Skriv ditt personnummer '))\n",
        "nstr=''\n",
        "x = '820713-1239'\n",
        "y =x.strip().replace('-', '')\n",
        "z=int(y)\n",
        "f=-1\n",
        "mult = 2\n",
        "#if len(y)==10:\n",
        "\n",
        "\n"
      ],
      "execution_count": 258,
      "outputs": []
    },
    {
      "cell_type": "code",
      "metadata": {
        "id": "mzsPG4EiPsVh"
      },
      "source": [
        "# x = '820713-1239'\n",
        "# 881212-1221\n",
        "x = input('Skriv ditt personnummer ')\n",
        "nstr=''\n",
        "sum=0\n",
        "c=2\n",
        "print(y)\n",
        "y =x.strip().replace('-', '')\n",
        "for i in y: \n",
        "  if int(i)*c>9:\n",
        "    nstr += str(int(i)*c-9)\n",
        "  elif int(i)*c<=9:\n",
        "    nstr += str(int(i)*c)\n",
        "  if c==2:\n",
        "     c=1\n",
        "  elif c==1:\n",
        "     c=2\n",
        "\n",
        "for i in nstr:\n",
        "  sum= sum + int(i)\n",
        "if sum%10==0:\n",
        "  print('ok')\n",
        "else:\n",
        "  print('ej validerat')\n",
        "\n"
      ],
      "execution_count": null,
      "outputs": []
    },
    {
      "cell_type": "code",
      "metadata": {
        "colab": {
          "base_uri": "https://localhost:8080/"
        },
        "id": "Xf1sW6SFc6oI",
        "outputId": "3f3f3c97-b50a-4d5f-e13b-e3f59a531bfb"
      },
      "source": [
        "v = 'aeiouyåäö '\n",
        "k = ' b, c, d, f, g, h, j, k, l, m, n, p, q, r, s, t, v, z, x'\n",
        "k = k.replace(', ', '').strip()\n",
        "string = 'jojagog totalolaror rorövovarorsospoproråkoketot'\n",
        "output =''\n",
        "teststring =''\n",
        "\n",
        "for i in range(1, len(string)):\n",
        "  if string[i] in k and string[i-1]=='o' and string[i-2]== string[i]:\n",
        "    output += string[i]\n",
        "  if string[i] in v and not string[i-1]==string[i+1]: \n",
        "    output += string[i]\n",
        "  if string[i]==' ':\n",
        "    output += string[i]\n",
        "\n",
        "print(output)\n",
        "print(teststring)"
      ],
      "execution_count": 262,
      "outputs": [
        {
          "output_type": "stream",
          "name": "stdout",
          "text": [
            "jag  talar rövarspråket\n",
            "\n"
          ]
        }
      ]
    },
    {
      "cell_type": "code",
      "metadata": {
        "id": "TPQXECehqehC"
      },
      "source": [
        "dåligt = 49\n",
        "ont = 48\n",
        "illa=47\n",
        "bra = 51\n",
        "fint =52\n",
        "utmärkt=53\n",
        "finemang=54\n",
        "pos = True \n",
        "str = input('Hej hur mår du? ').lower()\n",
        "mylist = s\n",
        "print(mylist)"
      ],
      "execution_count": null,
      "outputs": []
    },
    {
      "cell_type": "code",
      "metadata": {
        "id": "BeThbTW4zkja"
      },
      "source": [
        ""
      ],
      "execution_count": null,
      "outputs": []
    },
    {
      "cell_type": "markdown",
      "metadata": {
        "id": "fNF9vJuB2QPq"
      },
      "source": [
        "**fetstil**# Binära tal"
      ]
    },
    {
      "cell_type": "markdown",
      "metadata": {
        "id": "-pLXunrO2U-Y"
      },
      "source": [
        "#7 Kap Binära tal"
      ]
    },
    {
      "cell_type": "code",
      "metadata": {
        "id": "i1oXgsAv2TOy"
      },
      "source": [
        ""
      ],
      "execution_count": null,
      "outputs": []
    },
    {
      "cell_type": "markdown",
      "metadata": {
        "id": "601uElSy2lPI"
      },
      "source": [
        "# 8 kap Listor och tipplar"
      ]
    },
    {
      "cell_type": "code",
      "metadata": {
        "colab": {
          "base_uri": "https://localhost:8080/"
        },
        "id": "lo-U9Gcg2hU0",
        "outputId": "4ce7d562-ee0e-4501-b86f-3424dfa2e3f8"
      },
      "source": [
        "lista = []\n",
        "ant= int(input('Hur många tal vill du ange? '))\n",
        "for i in range(1, ant+1):\n",
        "  tal = int(input(f'Tal {i} '))\n",
        "  lista.append(tal)\n",
        "print(lista)"
      ],
      "execution_count": null,
      "outputs": [
        {
          "output_type": "stream",
          "name": "stdout",
          "text": [
            "Hur många tal vill du ange? 4\n",
            "Tal 1 3\n",
            "Tal 2 2\n",
            "Tal 3 5\n",
            "Tal 4 6\n",
            "[3, 2, 5, 6]\n"
          ]
        }
      ]
    },
    {
      "cell_type": "code",
      "metadata": {
        "colab": {
          "base_uri": "https://localhost:8080/"
        },
        "id": "WkLMA8cp3j7-",
        "outputId": "227501f8-8b03-47ed-9082-22e8eb20e55f"
      },
      "source": [
        "lista = []\n",
        "ant= int(input('Hur många tal vill du ange? '))\n",
        "for i in range(1, ant+1):\n",
        "  tal = int(input(f'Tal {i} '))\n",
        "  lista.append(tal)\n",
        "\n",
        "lista.reverse()\n",
        "print(lista)\n"
      ],
      "execution_count": null,
      "outputs": [
        {
          "output_type": "stream",
          "name": "stdout",
          "text": [
            "Hur många tal vill du ange? 3\n",
            "Tal 1 1\n",
            "Tal 2 4\n",
            "Tal 3 7\n",
            "[7, 4, 1]\n"
          ]
        }
      ]
    },
    {
      "cell_type": "code",
      "metadata": {
        "colab": {
          "base_uri": "https://localhost:8080/"
        },
        "id": "PJ5Jxczb4J_6",
        "outputId": "25b6b77d-cb03-4f0d-bf7f-bd383e8242e3"
      },
      "source": [
        "import numpy as np\n",
        "lista = []\n",
        "ant= int(input('Hur många tal vill du ange? '))\n",
        "for i in range(1, ant+1):\n",
        "  tal = int(input(f'Tal {i} '))\n",
        "  lista.append(tal)\n",
        "\n",
        "\n",
        "s = sum(lista)\n",
        "m = np.mean(lista)\n",
        "print(f'Summan av talen är {s} och medelvärdet är {m} ')"
      ],
      "execution_count": null,
      "outputs": [
        {
          "output_type": "stream",
          "name": "stdout",
          "text": [
            "Hur många tal vill du ange? 5\n",
            "Tal 1 4\n",
            "Tal 2 3\n",
            "Tal 3 5\n",
            "Tal 4 66\n",
            "Tal 5 5\n",
            "Summan av talen är 83 och medelvärdet är 16.6 \n"
          ]
        }
      ]
    },
    {
      "cell_type": "code",
      "metadata": {
        "colab": {
          "base_uri": "https://localhost:8080/",
          "height": 346
        },
        "id": "yRnmhFwW5a3g",
        "outputId": "d3397c4b-a26e-4d59-ebd4-c44dc217f686"
      },
      "source": [
        "m = ['januari', 'februari', 'mars', 'april', 'maj', 'juni', 'juli', 'augusti', 'september', 'oktober', 'november', 'december']\n",
        "\n",
        "while True: \n",
        "  num = int(input('Ange månadens ordningstal '))\n",
        "  if num >=1 and num <=12:\n",
        "    print(m[num-1])\n",
        "  elif num >12:\n",
        "    print('Det finns bara tolv månader, försök igen')\n",
        "  elif num ==' ':\n",
        "    break"
      ],
      "execution_count": 266,
      "outputs": [
        {
          "name": "stdout",
          "output_type": "stream",
          "text": [
            "Ange månadens ordningstal 3\n",
            "mars\n",
            "Ange månadens ordningstal 2\n",
            "februari\n",
            "Ange månadens ordningstal 0\n",
            "Ange månadens ordningstal \n"
          ]
        },
        {
          "output_type": "error",
          "ename": "ValueError",
          "evalue": "ignored",
          "traceback": [
            "\u001b[0;31m---------------------------------------------------------------------------\u001b[0m",
            "\u001b[0;31mValueError\u001b[0m                                Traceback (most recent call last)",
            "\u001b[0;32m<ipython-input-266-0803ec5083c5>\u001b[0m in \u001b[0;36m<module>\u001b[0;34m()\u001b[0m\n\u001b[1;32m      2\u001b[0m \u001b[0;34m\u001b[0m\u001b[0m\n\u001b[1;32m      3\u001b[0m \u001b[0;32mwhile\u001b[0m \u001b[0;32mTrue\u001b[0m\u001b[0;34m:\u001b[0m\u001b[0;34m\u001b[0m\u001b[0;34m\u001b[0m\u001b[0m\n\u001b[0;32m----> 4\u001b[0;31m   \u001b[0mnum\u001b[0m \u001b[0;34m=\u001b[0m \u001b[0mint\u001b[0m\u001b[0;34m(\u001b[0m\u001b[0minput\u001b[0m\u001b[0;34m(\u001b[0m\u001b[0;34m'Ange månadens ordningstal '\u001b[0m\u001b[0;34m)\u001b[0m\u001b[0;34m)\u001b[0m\u001b[0;34m\u001b[0m\u001b[0;34m\u001b[0m\u001b[0m\n\u001b[0m\u001b[1;32m      5\u001b[0m   \u001b[0;32mif\u001b[0m \u001b[0mnum\u001b[0m \u001b[0;34m>=\u001b[0m\u001b[0;36m1\u001b[0m \u001b[0;32mand\u001b[0m \u001b[0mnum\u001b[0m \u001b[0;34m<=\u001b[0m\u001b[0;36m12\u001b[0m\u001b[0;34m:\u001b[0m\u001b[0;34m\u001b[0m\u001b[0;34m\u001b[0m\u001b[0m\n\u001b[1;32m      6\u001b[0m     \u001b[0mprint\u001b[0m\u001b[0;34m(\u001b[0m\u001b[0mm\u001b[0m\u001b[0;34m[\u001b[0m\u001b[0mnum\u001b[0m\u001b[0;34m-\u001b[0m\u001b[0;36m1\u001b[0m\u001b[0;34m]\u001b[0m\u001b[0;34m)\u001b[0m\u001b[0;34m\u001b[0m\u001b[0;34m\u001b[0m\u001b[0m\n",
            "\u001b[0;31mValueError\u001b[0m: invalid literal for int() with base 10: ''"
          ]
        }
      ]
    },
    {
      "cell_type": "code",
      "metadata": {
        "id": "zpq4zYYVCOsZ",
        "colab": {
          "base_uri": "https://localhost:8080/"
        },
        "outputId": "f28742ac-db1a-4d61-b534-51d67b5d0fbc"
      },
      "source": [
        "from random import *\n",
        "t = randint(10,16)\n",
        "l = [randint(1,101) for i in range(t)]\n",
        "minstaTal = min(l)\n",
        "for i in range(0, len(l)): \n",
        "  if l[i]== minstaTal:\n",
        "    pos = i+1\n",
        "print(f'Lägsta talet är {minstaTal} och dess position är {pos} ')\n",
        "print(l)\n",
        "firstNum = l[0]\n",
        "\n",
        "swappedLIst = l\n",
        "\n",
        "swappedLIst[0]=minstaTal\n",
        "swappedLIst[pos-1]=firstNum\n",
        "print(swappedLIst)\n",
        "print(f'{minstaTal} har bytt plats med {firstNum} ')"
      ],
      "execution_count": 267,
      "outputs": [
        {
          "output_type": "stream",
          "name": "stdout",
          "text": [
            "Lägsta talet är 3 och dess position är 3 \n",
            "[76, 53, 3, 84, 99, 92, 53, 45, 43, 13]\n",
            "[3, 53, 76, 84, 99, 92, 53, 45, 43, 13]\n",
            "3 har bytt plats med 76 \n"
          ]
        }
      ]
    },
    {
      "cell_type": "code",
      "metadata": {
        "colab": {
          "base_uri": "https://localhost:8080/"
        },
        "id": "x_nDzI9YzQfd",
        "outputId": "2d4b763f-2492-4678-9ca9-2c2cb7e296e1"
      },
      "source": [
        "from random import *\n",
        "t = randint(10,16)\n",
        "l = [randint(1,101) for i in range(t)]\n",
        "minstaTal = min(l)\n",
        "for i in range(0, len(l)): \n",
        "  if l[i]== minstaTal:\n",
        "    pos = i+1\n",
        "print(f'Lägsta talet är {minstaTal} och dess position är {pos} ')\n",
        "\n",
        "firstNumber = l[0]\n",
        "\n",
        "print(l)\n",
        "for i in range(len(l)):\n",
        "  taletBakom= l[i-1]\n",
        "  if l[i] == minstaTal:\n",
        "    l[pos-1]= firstNumber\n",
        "    l[0]= minstaTal\n",
        "    \n",
        "\n",
        "print(l)\n",
        "\n",
        "\n"
      ],
      "execution_count": 268,
      "outputs": [
        {
          "output_type": "stream",
          "name": "stdout",
          "text": [
            "Lägsta talet är 1 och dess position är 11 \n",
            "[9, 49, 98, 101, 54, 14, 96, 20, 89, 49, 1]\n",
            "[1, 49, 98, 101, 54, 14, 96, 20, 89, 49, 9]\n"
          ]
        }
      ]
    },
    {
      "cell_type": "code",
      "metadata": {
        "colab": {
          "base_uri": "https://localhost:8080/"
        },
        "id": "GsLA0lG_zeUf",
        "outputId": "ead85c37-5277-4ba7-f6db-2f542bb3c64e"
      },
      "source": [
        "from random import *\n",
        "t = randint(10,16)\n",
        "l = [randint(1,101) for i in range(t)]\n",
        "minstaTal = min(l)\n",
        "for i in range(0, len(l)): \n",
        "  if l[i]== minstaTal:\n",
        "    pos = i+1\n",
        "print(f'Lägsta talet är {minstaTal} och dess position är {pos} ')\n",
        "\n",
        "firstNumber = l[0]\n",
        "\n",
        "print(l)\n",
        "for i in range(len(l)):\n",
        "  taletBakom= l[i-1]\n",
        "  if l[i] == minstaTal:\n",
        "    l[pos-1]= firstNumber\n",
        "    l[0]= minstaTal\n",
        "    \n",
        "\n",
        "print(l)\n",
        "for i in range(1, len(l)-1):\n",
        "  mem = l[i+1]\n",
        "  if l[i]>l[i+1]:\n",
        "    l[i+1]=l[i]\n",
        "    l[i]=mem\n",
        "\n",
        "print(l)\n"
      ],
      "execution_count": 269,
      "outputs": [
        {
          "output_type": "stream",
          "name": "stdout",
          "text": [
            "Lägsta talet är 1 och dess position är 13 \n",
            "[64, 73, 71, 73, 88, 63, 53, 64, 71, 65, 52, 99, 1]\n",
            "[1, 73, 71, 73, 88, 63, 53, 64, 71, 65, 52, 99, 64]\n",
            "[1, 71, 73, 73, 63, 53, 64, 71, 65, 52, 88, 64, 99]\n"
          ]
        }
      ]
    },
    {
      "cell_type": "code",
      "metadata": {
        "colab": {
          "base_uri": "https://localhost:8080/"
        },
        "id": "Zd-KAdqr1UpT",
        "outputId": "e69983a3-3e5c-4992-b597-3dd56b25b54b"
      },
      "source": [
        "from random import *\n",
        "t = randint(10,16)\n",
        "l = [randint(1,101) for i in range(t)]\n",
        "minstaTal = min(l)\n",
        "for i in range(0, len(l)): \n",
        "  if l[i]== minstaTal:\n",
        "    pos = i+1\n",
        "print(f'Lägsta talet är {minstaTal} och dess position är {pos} ')\n",
        "\n",
        "firstNumber = l[0]\n",
        "\n",
        "print(l)\n",
        "for i in range(len(l)):\n",
        "  taletBakom= l[i-1]\n",
        "  if l[i] == minstaTal:\n",
        "    l[pos-1]= firstNumber\n",
        "    l[0]= minstaTal\n",
        "    \n",
        "print(l)\n",
        "\n",
        "\n",
        "while l[len(l)-1] != max(l):\n",
        "  for i in range(1, len(l)-1):\n",
        "    mem = l[i+1]\n",
        "    if l[i]>l[i+1]:\n",
        "      l[i+1]=l[i]\n",
        "      l[i]=mem\n",
        "\n",
        "print(l)\n"
      ],
      "execution_count": 270,
      "outputs": [
        {
          "output_type": "stream",
          "name": "stdout",
          "text": [
            "Lägsta talet är 6 och dess position är 5 \n",
            "[23, 68, 76, 81, 6, 54, 70, 87, 26, 35, 30, 92, 64, 58]\n",
            "[6, 68, 76, 81, 23, 54, 70, 87, 26, 35, 30, 92, 64, 58]\n",
            "[6, 68, 76, 23, 54, 70, 81, 26, 35, 30, 87, 64, 58, 92]\n"
          ]
        }
      ]
    },
    {
      "cell_type": "code",
      "metadata": {
        "id": "3vzFZ0mH1vAx"
      },
      "source": [
        ""
      ],
      "execution_count": 270,
      "outputs": []
    },
    {
      "cell_type": "code",
      "metadata": {
        "id": "eyCsyUmByIY2"
      },
      "source": [
        "from random import *\n",
        "t = randint(10,16)\n",
        "l = [randint(1,101) for i in range(t)]\n",
        "minstaTal = min(l)\n",
        "for i in range(0, len(l)): \n",
        "  if l[i]== minstaTal:\n",
        "    pos = i+1\n",
        "print(f'Lägsta talet är {minstaTal} och dess position är {pos} ')\n",
        "\n",
        "firstNumber = l[0]\n",
        "\n",
        "print(l)\n",
        "\n",
        "while l[len(l)-1] != max(l):\n",
        "\n",
        "  for i in range(1, len(l)):\n",
        "    minne = l[i]\n",
        "    if l[i]>l[i-1]:\n",
        "      l[i-1]==i\n",
        "      \n",
        "print(l)\n",
        "\n"
      ],
      "execution_count": null,
      "outputs": []
    },
    {
      "cell_type": "code",
      "metadata": {
        "colab": {
          "base_uri": "https://localhost:8080/"
        },
        "id": "GKttvO87Ej7D",
        "outputId": "39d71b6f-f7d9-48ba-f00f-1f2db89aca01"
      },
      "source": [
        "from random import *\n",
        "t = randint(10,16)\n",
        "l = [randint(1,101) for i in range(t)]\n",
        "minstaTal = min(l)\n",
        "for i in range(0, len(l)): \n",
        "  if l[i]== minstaTal:\n",
        "    pos = i+1\n",
        "print(f'Lägsta talet är {minstaTal} och dess position är {pos} ')\n",
        "print(l)\n",
        "\n",
        "for i in range(1, len(l)):\n",
        "    minne = l[i-1]\n",
        "    if l[i-1]>l[i]:\n",
        "      l[i-1]= l[i]\n",
        "      l[i]= minne\n",
        "print(l)"
      ],
      "execution_count": null,
      "outputs": [
        {
          "output_type": "stream",
          "name": "stdout",
          "text": [
            "Lägsta talet är 2 och dess position är 3 \n",
            "[23, 37, 2, 43, 88, 99, 63, 78, 75, 25, 16, 57, 43, 26, 7]\n",
            "[23, 2, 37, 43, 88, 63, 78, 75, 25, 16, 57, 43, 26, 7, 99]\n"
          ]
        }
      ]
    },
    {
      "cell_type": "code",
      "metadata": {
        "colab": {
          "base_uri": "https://localhost:8080/"
        },
        "id": "fzOSaqehF6eN",
        "outputId": "bf126c66-e9d9-4351-aefa-d5fc6e51c733"
      },
      "source": [
        "from random import *\n",
        "t = randint(10,16)\n",
        "l = [randint(1,101) for i in range(t)]\n",
        "minstaTal = min(l)\n",
        "for i in range(0, len(l)): \n",
        "  if l[i]== minstaTal:\n",
        "    pos = i+1\n",
        "print(f'Lägsta talet är {minstaTal} och dess position är {pos} ')\n",
        "print(l)\n",
        "\n",
        "l[0]==minstaTal\n",
        "\n",
        "# while l[len(l)-1] != max(l):\n",
        "\n",
        "\n",
        "for i in range(1, len(l)-1):\n",
        "      minne = l[i-1]\n",
        "      if l[i]>l[i+1]:\n",
        "        l[i]= l[-i]\n",
        "        l[i]= minne\n",
        "      \n",
        "print(l)"
      ],
      "execution_count": null,
      "outputs": [
        {
          "output_type": "stream",
          "name": "stdout",
          "text": [
            "Lägsta talet är 2 och dess position är 16 \n",
            "[11, 75, 8, 4, 63, 33, 34, 100, 44, 77, 20, 86, 93, 64, 97, 2]\n",
            "[11, 11, 11, 4, 4, 33, 34, 34, 44, 44, 20, 86, 86, 64, 64, 2]\n"
          ]
        }
      ]
    },
    {
      "cell_type": "code",
      "metadata": {
        "colab": {
          "base_uri": "https://localhost:8080/"
        },
        "id": "dk0rjoDbQkBc",
        "outputId": "2b4e5a41-0b78-4838-dc30-1ffec229d336"
      },
      "source": [
        "from random import *\n",
        "newlist=[]\n",
        "t = randint(10,16)\n",
        "l = [randint(1,101) for i in range(t)]\n",
        "minstaTal = min(l)\n",
        "for i in range(0, len(l)-1): \n",
        "  if l[i]== minstaTal:\n",
        "    pos = i+1\n",
        "print(f'Lägsta talet är {minstaTal} och dess position är {pos} ')\n",
        "print(l)\n",
        "\n",
        "print(l)\n",
        "print(newlist)"
      ],
      "execution_count": 273,
      "outputs": [
        {
          "output_type": "stream",
          "name": "stdout",
          "text": [
            "Lägsta talet är 8 och dess position är 5 \n",
            "[60, 92, 67, 8, 8, 56, 39, 26, 56, 95, 30, 88]\n",
            "[60, 92, 67, 8, 8, 56, 39, 26, 56, 95, 30, 88]\n",
            "[]\n"
          ]
        }
      ]
    },
    {
      "cell_type": "markdown",
      "metadata": {
        "id": "33hRUg4LvK8t"
      },
      "source": [
        "# 8 kap Funktioner"
      ]
    },
    {
      "cell_type": "code",
      "metadata": {
        "id": "MXWWGPQsr83t"
      },
      "source": [
        "def kvadrat(x):\n",
        "  return x**2"
      ],
      "execution_count": 274,
      "outputs": []
    },
    {
      "cell_type": "code",
      "metadata": {
        "colab": {
          "base_uri": "https://localhost:8080/"
        },
        "id": "luyGqrPSKybX",
        "outputId": "31d581a8-9ec8-4248-c533-8bb17b3bc2d6"
      },
      "source": [
        "kvadrat(8)"
      ],
      "execution_count": 275,
      "outputs": [
        {
          "output_type": "execute_result",
          "data": {
            "text/plain": [
              "64"
            ]
          },
          "metadata": {},
          "execution_count": 275
        }
      ]
    },
    {
      "cell_type": "code",
      "metadata": {
        "colab": {
          "base_uri": "https://localhost:8080/"
        },
        "id": "6d7RO5WZaDXP",
        "outputId": "4457da55-0e0d-453e-af36-bbad829f39d4"
      },
      "source": [
        "for i in range(11):\n",
        "  print(kvadrat(i), end=' ')"
      ],
      "execution_count": 276,
      "outputs": [
        {
          "output_type": "stream",
          "name": "stdout",
          "text": [
            "0 1 4 9 16 25 36 49 64 81 100 "
          ]
        }
      ]
    },
    {
      "cell_type": "code",
      "metadata": {
        "colab": {
          "base_uri": "https://localhost:8080/"
        },
        "id": "Zi0T7LLdaFN-",
        "outputId": "fbb5b646-97d7-4ffb-b7bc-99ee7912a1d4"
      },
      "source": [
        "def linje(l):\n",
        "  print('-'*l)\n",
        "linje(24)"
      ],
      "execution_count": 277,
      "outputs": [
        {
          "output_type": "stream",
          "name": "stdout",
          "text": [
            "------------------------\n"
          ]
        }
      ]
    },
    {
      "cell_type": "code",
      "metadata": {
        "id": "dKjT31BUa24n"
      },
      "source": [
        "def maximum(x, y):\n",
        "  if x>y:\n",
        "    print(f'{x} är större än {y} ')\n",
        "  if x==y:\n",
        "    print(f'{x} är lika stort som {y} ')\n",
        "  if y>x:\n",
        "    print(f'{x} är mindre än {y} ')\n"
      ],
      "execution_count": 278,
      "outputs": []
    },
    {
      "cell_type": "code",
      "metadata": {
        "colab": {
          "base_uri": "https://localhost:8080/"
        },
        "id": "N6mfGwbGa490",
        "outputId": "763bbd37-8acb-4879-cddd-7d539216613d"
      },
      "source": [
        "print(maximum(1, 12))\n",
        "print(maximum(12, 12))\n",
        "print(maximum(12, 1))"
      ],
      "execution_count": 279,
      "outputs": [
        {
          "output_type": "stream",
          "name": "stdout",
          "text": [
            "1 är mindre än 12 \n",
            "None\n",
            "12 är lika stort som 12 \n",
            "None\n",
            "12 är större än 1 \n",
            "None\n"
          ]
        }
      ]
    },
    {
      "cell_type": "code",
      "metadata": {
        "id": "49J5AOyub0v6"
      },
      "source": [
        "def maximum3(x, y, z):\n",
        "  if x > y and x >z:\n",
        "    return x\n",
        "  elif y>x and y>z:\n",
        "    return y\n",
        "  else: \n",
        "    return z"
      ],
      "execution_count": 280,
      "outputs": []
    },
    {
      "cell_type": "code",
      "metadata": {
        "colab": {
          "base_uri": "https://localhost:8080/"
        },
        "id": "jyfCt6AUdmKN",
        "outputId": "230b97b1-34bb-47a1-f782-db4e007608e7"
      },
      "source": [
        "maximum3(1, 2,33)"
      ],
      "execution_count": 281,
      "outputs": [
        {
          "output_type": "execute_result",
          "data": {
            "text/plain": [
              "33"
            ]
          },
          "metadata": {},
          "execution_count": 281
        }
      ]
    },
    {
      "cell_type": "code",
      "metadata": {
        "colab": {
          "base_uri": "https://localhost:8080/"
        },
        "id": "dBvbnhQSdqX5",
        "outputId": "1bf2d606-6934-4e28-ad92-aadf9af114ed"
      },
      "source": [
        "maximum3(66, 2,33)"
      ],
      "execution_count": 282,
      "outputs": [
        {
          "output_type": "execute_result",
          "data": {
            "text/plain": [
              "66"
            ]
          },
          "metadata": {},
          "execution_count": 282
        }
      ]
    },
    {
      "cell_type": "code",
      "metadata": {
        "colab": {
          "base_uri": "https://localhost:8080/"
        },
        "id": "NdV0fmBZdtGS",
        "outputId": "4d6ede98-ed1d-4951-d60e-102d26733388"
      },
      "source": [
        "maximum3(1, 219,33)"
      ],
      "execution_count": 283,
      "outputs": [
        {
          "output_type": "execute_result",
          "data": {
            "text/plain": [
              "219"
            ]
          },
          "metadata": {},
          "execution_count": 283
        }
      ]
    },
    {
      "cell_type": "code",
      "metadata": {
        "colab": {
          "base_uri": "https://localhost:8080/"
        },
        "id": "Cjzc53RtdvW1",
        "outputId": "f9da9f35-49e2-4ba0-f9b3-3f969b0718c4"
      },
      "source": [
        "maximum3(1, 1,393)"
      ],
      "execution_count": 284,
      "outputs": [
        {
          "output_type": "execute_result",
          "data": {
            "text/plain": [
              "393"
            ]
          },
          "metadata": {},
          "execution_count": 284
        }
      ]
    },
    {
      "cell_type": "code",
      "metadata": {
        "id": "d1Ht7bOOdxFQ"
      },
      "source": [
        "def nettopris(pris):\n",
        "  if pris >=500 and pris <1001:\n",
        "    return pris * .98\n",
        "  elif pris >1001: \n",
        "    return pris *.95\n",
        "  else:\n",
        "    return pris"
      ],
      "execution_count": 285,
      "outputs": []
    },
    {
      "cell_type": "code",
      "metadata": {
        "colab": {
          "base_uri": "https://localhost:8080/"
        },
        "id": "GYC1HqZjezoo",
        "outputId": "1f5188bf-32ce-464f-cf23-f8d225000a79"
      },
      "source": [
        "nettopris(499)"
      ],
      "execution_count": 286,
      "outputs": [
        {
          "output_type": "execute_result",
          "data": {
            "text/plain": [
              "499"
            ]
          },
          "metadata": {},
          "execution_count": 286
        }
      ]
    },
    {
      "cell_type": "code",
      "metadata": {
        "colab": {
          "base_uri": "https://localhost:8080/"
        },
        "id": "-VejxNSme17Z",
        "outputId": "2c439ea9-8106-4e96-d21f-7badd67e5e9a"
      },
      "source": [
        "nettopris(500)"
      ],
      "execution_count": 287,
      "outputs": [
        {
          "output_type": "execute_result",
          "data": {
            "text/plain": [
              "490.0"
            ]
          },
          "metadata": {},
          "execution_count": 287
        }
      ]
    },
    {
      "cell_type": "code",
      "metadata": {
        "colab": {
          "base_uri": "https://localhost:8080/"
        },
        "id": "AGeBEmrhe42V",
        "outputId": "d3d96cf8-a2cd-489f-93aa-887767b62c5a"
      },
      "source": [
        "nettopris(1012)"
      ],
      "execution_count": 288,
      "outputs": [
        {
          "output_type": "execute_result",
          "data": {
            "text/plain": [
              "961.4"
            ]
          },
          "metadata": {},
          "execution_count": 288
        }
      ]
    },
    {
      "cell_type": "code",
      "metadata": {
        "colab": {
          "base_uri": "https://localhost:8080/"
        },
        "id": "AQXK4Yl8fB3b",
        "outputId": "5234bee3-9b34-4d76-a5b9-881494a9b4c9"
      },
      "source": [
        "print(nettopris(43333))"
      ],
      "execution_count": 289,
      "outputs": [
        {
          "output_type": "stream",
          "name": "stdout",
          "text": [
            "41166.35\n"
          ]
        }
      ]
    },
    {
      "cell_type": "code",
      "metadata": {
        "id": "LPVIUWikfPxA"
      },
      "source": [
        "def calc(tal1, tal2, operator):\n",
        "  if operator == '+':\n",
        "    return tal1 + tal2\n",
        "  if operator == '-':\n",
        "    return tal1 - tal2\n",
        "  if operator == '*':\n",
        "    return tal1 * tal2"
      ],
      "execution_count": 290,
      "outputs": []
    },
    {
      "cell_type": "code",
      "metadata": {
        "colab": {
          "base_uri": "https://localhost:8080/"
        },
        "id": "BpP8e36pgCfJ",
        "outputId": "dfa8739d-ea57-4f94-bc54-cb25905dcd6b"
      },
      "source": [
        "calc(2, 8, '+')"
      ],
      "execution_count": 291,
      "outputs": [
        {
          "output_type": "execute_result",
          "data": {
            "text/plain": [
              "10"
            ]
          },
          "metadata": {},
          "execution_count": 291
        }
      ]
    },
    {
      "cell_type": "code",
      "metadata": {
        "colab": {
          "base_uri": "https://localhost:8080/"
        },
        "id": "mVb_wd1wgO11",
        "outputId": "dd2fd5d5-2a0e-46f7-ebf9-6b72939e9bc8"
      },
      "source": [
        "resultat = calc(2, 44, '*')\n",
        "print(resultat)"
      ],
      "execution_count": 292,
      "outputs": [
        {
          "output_type": "stream",
          "name": "stdout",
          "text": [
            "88\n"
          ]
        }
      ]
    },
    {
      "cell_type": "code",
      "metadata": {
        "id": "mUNejKEFjbp-",
        "colab": {
          "base_uri": "https://localhost:8080/"
        },
        "outputId": "420fe2d9-c284-4fa1-b48a-eb341b0fdc1a"
      },
      "source": [
        "import math\n",
        "\n",
        "def cirkelarea(x):\n",
        "  return math.sqrt(x/math.pi)\n",
        "\n",
        "def main(): \n",
        "  tal = float(input('Ange cirklens area '))\n",
        "  enhet = input('Ange areaenhet, kvadratmillimeter, kvadratcentimeter, kvadratdecimeter, kradratmeter ')\n",
        "  s= ''\n",
        "  if enhet == 'kvadratmillimeter':\n",
        "    s= 'millimeter'\n",
        "  elif enhet == 'kvadratcentimeter':\n",
        "    s = 'centimeter'\n",
        "  print(f'En cirkel med arean {tal} {enhet} har en radie på {cirkelarea(tal)} {s} ')\n",
        "\n",
        "main()"
      ],
      "execution_count": 294,
      "outputs": [
        {
          "output_type": "stream",
          "name": "stdout",
          "text": [
            "Ange cirklens area 444\n",
            "Ange areaenhet, kvadratmillimeter, kvadratcentimeter, kvadratdecimeter, kradratmeter kvadratmillimeter\n",
            "En cirkel med arean 444.0 kvadratmillimeter har en radie på 11.888212206450685 millimeter \n"
          ]
        }
      ]
    },
    {
      "cell_type": "code",
      "metadata": {
        "id": "P2Iz7pyhj-Qs",
        "colab": {
          "base_uri": "https://localhost:8080/"
        },
        "outputId": "e68fbda2-3ad2-46ca-da98-d1f9a4f84c82"
      },
      "source": [
        "lista = [1, 1]\n",
        "for i in range(2,40):\n",
        "        lista.append(lista[i-2]+lista[i-1])\n",
        "\n",
        "print(lista)"
      ],
      "execution_count": 296,
      "outputs": [
        {
          "output_type": "stream",
          "name": "stdout",
          "text": [
            "[1, 1, 2, 3, 5, 8, 13, 21, 34, 55, 89, 144, 233, 377, 610, 987, 1597, 2584, 4181, 6765, 10946, 17711, 28657, 46368, 75025, 121393, 196418, 317811, 514229, 832040, 1346269, 2178309, 3524578, 5702887, 9227465, 14930352, 24157817, 39088169, 63245986, 102334155]\n"
          ]
        }
      ]
    },
    {
      "cell_type": "code",
      "metadata": {
        "id": "L591wiI8vTT5"
      },
      "source": [
        "def fibosteps(i):\n",
        "  tal1 = 0\n",
        "  tal2 = 1\n",
        "  tal3 = 0\n",
        "  tmp = 0\n",
        "  for x in range(i):\n",
        "    tal3 = tal1+tal2\n",
        "    fibolist.append(tal3)\n",
        "    tmp = tal2\n",
        "    tal2 = tal3\n",
        "    tal1 = tmp\n",
        "\n",
        "  return tal3    "
      ],
      "execution_count": 298,
      "outputs": []
    },
    {
      "cell_type": "code",
      "metadata": {
        "colab": {
          "base_uri": "https://localhost:8080/"
        },
        "id": "vaqzY2Q58KoG",
        "outputId": "00b534a9-aa50-4ffb-e6ea-ed4c6d855beb"
      },
      "source": [
        "fibosteps(11)\n"
      ],
      "execution_count": 299,
      "outputs": [
        {
          "output_type": "execute_result",
          "data": {
            "text/plain": [
              "144"
            ]
          },
          "metadata": {},
          "execution_count": 299
        }
      ]
    },
    {
      "cell_type": "code",
      "metadata": {
        "colab": {
          "base_uri": "https://localhost:8080/"
        },
        "id": "yAJyDokQvyCe",
        "outputId": "8ab9fd62-81de-4e72-d50f-3fe1a897c38e"
      },
      "source": [
        "fibosteps(10)"
      ],
      "execution_count": 302,
      "outputs": [
        {
          "output_type": "execute_result",
          "data": {
            "text/plain": [
              "89"
            ]
          },
          "metadata": {},
          "execution_count": 302
        }
      ]
    },
    {
      "cell_type": "markdown",
      "metadata": {
        "id": "ZZvSoZrJqjWu"
      },
      "source": [
        "kvoten av föregående tal"
      ]
    },
    {
      "cell_type": "code",
      "metadata": {
        "colab": {
          "base_uri": "https://localhost:8080/"
        },
        "id": "fU7XgvXBpgiK",
        "outputId": "0f8319be-32aa-44da-a398-29a5eb3cee2a"
      },
      "source": [
        "kvotlista=[]\n",
        "for i in range(0, len(lista)):\n",
        "  kvotlista.append(lista[i-1]/lista[i-2])\n",
        "\n",
        "print(kvotlista)"
      ],
      "execution_count": 303,
      "outputs": [
        {
          "output_type": "stream",
          "name": "stdout",
          "text": [
            "[1.6180339887498947, 9.77190850894308e-09, 1.0, 2.0, 1.5, 1.6666666666666667, 1.6, 1.625, 1.6153846153846154, 1.619047619047619, 1.6176470588235294, 1.6181818181818182, 1.6179775280898876, 1.6180555555555556, 1.6180257510729614, 1.6180371352785146, 1.618032786885246, 1.618034447821682, 1.6180338134001253, 1.618034055727554, 1.6180339631667064, 1.6180339985218033, 1.618033985017358, 1.6180339901755971, 1.618033988205325, 1.618033988957902, 1.6180339886704431, 1.6180339887802426, 1.618033988738303, 1.6180339887543225, 1.6180339887482036, 1.6180339887505408, 1.6180339887496482, 1.618033988749989, 1.618033988749859, 1.6180339887499087, 1.6180339887498896, 1.618033988749897, 1.618033988749894, 1.6180339887498951]\n"
          ]
        }
      ]
    },
    {
      "cell_type": "code",
      "metadata": {
        "colab": {
          "base_uri": "https://localhost:8080/"
        },
        "id": "gLs8LLLcq_53",
        "outputId": "78c861d5-fef0-4178-efe0-2efe0a7d94b8"
      },
      "source": [
        "for i in range(1, len(lista)):\n",
        "  kvot = lista[i] / lista[i-1]\n",
        "  print(i,':',kvot)\n",
        "  print()\n",
        "\n"
      ],
      "execution_count": 304,
      "outputs": [
        {
          "output_type": "stream",
          "name": "stdout",
          "text": [
            "1 : 1.0\n",
            "\n",
            "2 : 2.0\n",
            "\n",
            "3 : 1.5\n",
            "\n",
            "4 : 1.6666666666666667\n",
            "\n",
            "5 : 1.6\n",
            "\n",
            "6 : 1.625\n",
            "\n",
            "7 : 1.6153846153846154\n",
            "\n",
            "8 : 1.619047619047619\n",
            "\n",
            "9 : 1.6176470588235294\n",
            "\n",
            "10 : 1.6181818181818182\n",
            "\n",
            "11 : 1.6179775280898876\n",
            "\n",
            "12 : 1.6180555555555556\n",
            "\n",
            "13 : 1.6180257510729614\n",
            "\n",
            "14 : 1.6180371352785146\n",
            "\n",
            "15 : 1.618032786885246\n",
            "\n",
            "16 : 1.618034447821682\n",
            "\n",
            "17 : 1.6180338134001253\n",
            "\n",
            "18 : 1.618034055727554\n",
            "\n",
            "19 : 1.6180339631667064\n",
            "\n",
            "20 : 1.6180339985218033\n",
            "\n",
            "21 : 1.618033985017358\n",
            "\n",
            "22 : 1.6180339901755971\n",
            "\n",
            "23 : 1.618033988205325\n",
            "\n",
            "24 : 1.618033988957902\n",
            "\n",
            "25 : 1.6180339886704431\n",
            "\n",
            "26 : 1.6180339887802426\n",
            "\n",
            "27 : 1.618033988738303\n",
            "\n",
            "28 : 1.6180339887543225\n",
            "\n",
            "29 : 1.6180339887482036\n",
            "\n",
            "30 : 1.6180339887505408\n",
            "\n",
            "31 : 1.6180339887496482\n",
            "\n",
            "32 : 1.618033988749989\n",
            "\n",
            "33 : 1.618033988749859\n",
            "\n",
            "34 : 1.6180339887499087\n",
            "\n",
            "35 : 1.6180339887498896\n",
            "\n",
            "36 : 1.618033988749897\n",
            "\n",
            "37 : 1.618033988749894\n",
            "\n",
            "38 : 1.6180339887498951\n",
            "\n",
            "39 : 1.6180339887498947\n",
            "\n"
          ]
        }
      ]
    },
    {
      "cell_type": "code",
      "metadata": {
        "colab": {
          "base_uri": "https://localhost:8080/"
        },
        "id": "4I2Ay4Kbs6HK",
        "outputId": "86389464-639b-4d97-80a1-4a1d5c796cd2"
      },
      "source": [
        "import math\n",
        "from math import sqrt\n",
        "fi = (1+ sqrt(5))/2\n",
        "print(fi)"
      ],
      "execution_count": 306,
      "outputs": [
        {
          "output_type": "stream",
          "name": "stdout",
          "text": [
            "1.618033988749895\n"
          ]
        }
      ]
    },
    {
      "cell_type": "code",
      "metadata": {
        "id": "Gm18d1mbukml"
      },
      "source": [
        ""
      ],
      "execution_count": 306,
      "outputs": []
    },
    {
      "cell_type": "markdown",
      "metadata": {
        "id": "9mfIu6aIAsi4"
      },
      "source": [
        "# 9 kap Slumptal i programmering"
      ]
    },
    {
      "cell_type": "markdown",
      "metadata": {
        "id": "hXWAyqgZF956"
      },
      "source": [
        ""
      ]
    },
    {
      "cell_type": "code",
      "metadata": {
        "id": "qZx_ZaNPEIvt"
      },
      "source": [
        "import random"
      ],
      "execution_count": 307,
      "outputs": []
    },
    {
      "cell_type": "markdown",
      "metadata": {
        "id": "bQAxNJnoGA-8"
      },
      "source": [
        "Slumpa fram ren lottorad"
      ]
    },
    {
      "cell_type": "code",
      "metadata": {
        "colab": {
          "base_uri": "https://localhost:8080/"
        },
        "id": "Xuep534VAyLz",
        "outputId": "c9ec54a6-909e-4dc7-8447-d50032ba0e81"
      },
      "source": [
        "import random \n",
        "lotto= []\n",
        "for i in range(6):\n",
        "  lotto.append(randint(1, 36))\n",
        "print(lotto)\n"
      ],
      "execution_count": 308,
      "outputs": [
        {
          "output_type": "stream",
          "name": "stdout",
          "text": [
            "[19, 27, 8, 6, 33, 33]\n"
          ]
        }
      ]
    },
    {
      "cell_type": "markdown",
      "metadata": {
        "id": "qFHyyjeSGEs1"
      },
      "source": [
        "Slumpa en lottorad med unika tal"
      ]
    },
    {
      "cell_type": "code",
      "metadata": {
        "colab": {
          "base_uri": "https://localhost:8080/"
        },
        "id": "Eamx4XJ1A7UY",
        "outputId": "35cdaa70-7972-4f94-ad67-58182e588421"
      },
      "source": [
        "# använder funktionen sample() isft randint()\n",
        "lotto= []\n",
        "for i in range(6):\n",
        "  lotto= (sample(range(1, 36), 7))\n",
        "print(lotto)\n",
        "\n"
      ],
      "execution_count": 309,
      "outputs": [
        {
          "output_type": "stream",
          "name": "stdout",
          "text": [
            "[33, 2, 6, 9, 12, 19, 5]\n"
          ]
        }
      ]
    },
    {
      "cell_type": "code",
      "metadata": {
        "id": "rYdWA9V9B9e1"
      },
      "source": [
        ""
      ],
      "execution_count": 309,
      "outputs": []
    },
    {
      "cell_type": "code",
      "metadata": {
        "id": "KMhffjxLL2Fw"
      },
      "source": [
        ""
      ],
      "execution_count": 310,
      "outputs": []
    }
  ]
}