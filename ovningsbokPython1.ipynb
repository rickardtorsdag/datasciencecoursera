{
  "nbformat": 4,
  "nbformat_minor": 0,
  "metadata": {
    "colab": {
      "name": "ovningsbokPython1",
      "provenance": [],
      "authorship_tag": "ABX9TyNdDAEIXutme+742x2m5AOu",
      "include_colab_link": true
    },
    "kernelspec": {
      "name": "python3",
      "display_name": "Python 3"
    },
    "language_info": {
      "name": "python"
    }
  },
  "cells": [
    {
      "cell_type": "markdown",
      "metadata": {
        "id": "view-in-github",
        "colab_type": "text"
      },
      "source": [
        "<a href=\"https://colab.research.google.com/github/rickardtorsdag/datasciencecoursera/blob/master/ovningsbokPython1.ipynb\" target=\"_parent\"><img src=\"https://colab.research.google.com/assets/colab-badge.svg\" alt=\"Open In Colab\"/></a>"
      ]
    },
    {
      "cell_type": "code",
      "metadata": {
        "id": "LVIuYRK2KQZm"
      },
      "source": [
        ""
      ],
      "execution_count": null,
      "outputs": []
    },
    {
      "cell_type": "markdown",
      "metadata": {
        "id": "U2sKUcuFKXsp"
      },
      "source": [
        "# 5 kap Loopar"
      ]
    },
    {
      "cell_type": "code",
      "metadata": {
        "id": "LTcExrqtKbjN"
      },
      "source": [
        "for i in range(1, 16):\n",
        "  print(i, end=' ')"
      ],
      "execution_count": null,
      "outputs": []
    },
    {
      "cell_type": "code",
      "metadata": {
        "id": "i5DHVgSkKhqk"
      },
      "source": [
        "for i in range(20, 31):\n",
        "  print(i, end=' ')"
      ],
      "execution_count": null,
      "outputs": []
    },
    {
      "cell_type": "code",
      "metadata": {
        "id": "GYHGLGz2KyLy"
      },
      "source": [
        "for i in range(0, 1001):\n",
        "  print(i, end=' ')"
      ],
      "execution_count": null,
      "outputs": []
    },
    {
      "cell_type": "code",
      "metadata": {
        "id": "3lb3f_JiK5WF"
      },
      "source": [
        "for i in range(100, 0, -1):\n",
        "  print(i, end=' ')"
      ],
      "execution_count": null,
      "outputs": []
    },
    {
      "cell_type": "code",
      "metadata": {
        "id": "yfJCpG_FLJtD"
      },
      "source": [
        "for i in range(2,20, 2):\n",
        "  print(i, end=' ')"
      ],
      "execution_count": null,
      "outputs": []
    },
    {
      "cell_type": "code",
      "metadata": {
        "id": "jxsuaVmSLYVR"
      },
      "source": [
        "for i in range(10):\n",
        "  if i>0:\n",
        "    print(i+i, end=' ')"
      ],
      "execution_count": null,
      "outputs": []
    },
    {
      "cell_type": "code",
      "metadata": {
        "id": "4rfg0C0rLtDZ"
      },
      "source": [
        "sum =0\n",
        "for i in range(1,51):\n",
        "  sum = sum + i\n",
        "print(sum)\n"
      ],
      "execution_count": null,
      "outputs": []
    },
    {
      "cell_type": "code",
      "metadata": {
        "id": "_7RtKjoMNhEu"
      },
      "source": [
        "sum=0\n",
        "\n",
        "for i in range (51):\n",
        "  sum=sum+i\n",
        "print(\"sum of number is\",sum)"
      ],
      "execution_count": null,
      "outputs": []
    },
    {
      "cell_type": "code",
      "metadata": {
        "id": "0eKK_EJWODx4"
      },
      "source": [
        "for i in range(3):\n",
        "  print('X')\n",
        "  for j in range(4):\n",
        "    print('Y')"
      ],
      "execution_count": null,
      "outputs": []
    },
    {
      "cell_type": "code",
      "metadata": {
        "id": "gC4mY0ayOQCE"
      },
      "source": [
        "x=0\n",
        "for i in range(10):\n",
        "  x=x+1\n",
        "for j in range(10):\n",
        "    x=x+1\n",
        "print(x)"
      ],
      "execution_count": null,
      "outputs": []
    },
    {
      "cell_type": "code",
      "metadata": {
        "id": "fD3aeWTAQKRD"
      },
      "source": [
        "x=0\n",
        "for i in range(10):\n",
        "  x=x+1\n",
        "  for j in range(10):\n",
        "      x=x+1\n",
        "print(x)"
      ],
      "execution_count": null,
      "outputs": []
    },
    {
      "cell_type": "code",
      "metadata": {
        "id": "56hQ4AYrQXZc"
      },
      "source": [
        "for i in range(1, 20):\n",
        "  kvad = i**2\n",
        "  kub = pow(i, 3)\n",
        "  print(f'{i} i kvadrat: {kvad}, i kubik: {kub} ')"
      ],
      "execution_count": null,
      "outputs": []
    },
    {
      "cell_type": "code",
      "metadata": {
        "colab": {
          "base_uri": "https://localhost:8080/"
        },
        "id": "ZcUcdQJ50MHt",
        "outputId": "517c8a51-493e-4033-e553-333cff2f8e69"
      },
      "source": [
        "c = int(input('Hur många grader celcius är det? '))\n",
        "f= 32+c*9/5\n",
        "print(f'{c} celciusgrader motsvarar {f} Farenheit ')"
      ],
      "execution_count": null,
      "outputs": [
        {
          "output_type": "stream",
          "name": "stdout",
          "text": [
            "Hur många grader celcius är det? 4\n",
            "4 celciusgrader motsvarar 39.2 Farenheit \n"
          ]
        }
      ]
    },
    {
      "cell_type": "code",
      "metadata": {
        "colab": {
          "base_uri": "https://localhost:8080/"
        },
        "id": "isO2uplN3Vqi",
        "outputId": "9c6a8b20-76bf-4d69-94b6-c36202c75078"
      },
      "source": [
        "for i in range(-40, 41):\n",
        "  f= 32+i*9/5\n",
        "  print(f'{i} C är {round(f)} Farenheit ')"
      ],
      "execution_count": null,
      "outputs": [
        {
          "output_type": "stream",
          "name": "stdout",
          "text": [
            "-40 C är -40 Farenheit \n",
            "-39 C är -38 Farenheit \n",
            "-38 C är -36 Farenheit \n",
            "-37 C är -35 Farenheit \n",
            "-36 C är -33 Farenheit \n",
            "-35 C är -31 Farenheit \n",
            "-34 C är -29 Farenheit \n",
            "-33 C är -27 Farenheit \n",
            "-32 C är -26 Farenheit \n",
            "-31 C är -24 Farenheit \n",
            "-30 C är -22 Farenheit \n",
            "-29 C är -20 Farenheit \n",
            "-28 C är -18 Farenheit \n",
            "-27 C är -17 Farenheit \n",
            "-26 C är -15 Farenheit \n",
            "-25 C är -13 Farenheit \n",
            "-24 C är -11 Farenheit \n",
            "-23 C är -9 Farenheit \n",
            "-22 C är -8 Farenheit \n",
            "-21 C är -6 Farenheit \n",
            "-20 C är -4 Farenheit \n",
            "-19 C är -2 Farenheit \n",
            "-18 C är 0 Farenheit \n",
            "-17 C är 1 Farenheit \n",
            "-16 C är 3 Farenheit \n",
            "-15 C är 5 Farenheit \n",
            "-14 C är 7 Farenheit \n",
            "-13 C är 9 Farenheit \n",
            "-12 C är 10 Farenheit \n",
            "-11 C är 12 Farenheit \n",
            "-10 C är 14 Farenheit \n",
            "-9 C är 16 Farenheit \n",
            "-8 C är 18 Farenheit \n",
            "-7 C är 19 Farenheit \n",
            "-6 C är 21 Farenheit \n",
            "-5 C är 23 Farenheit \n",
            "-4 C är 25 Farenheit \n",
            "-3 C är 27 Farenheit \n",
            "-2 C är 28 Farenheit \n",
            "-1 C är 30 Farenheit \n",
            "0 C är 32 Farenheit \n",
            "1 C är 34 Farenheit \n",
            "2 C är 36 Farenheit \n",
            "3 C är 37 Farenheit \n",
            "4 C är 39 Farenheit \n",
            "5 C är 41 Farenheit \n",
            "6 C är 43 Farenheit \n",
            "7 C är 45 Farenheit \n",
            "8 C är 46 Farenheit \n",
            "9 C är 48 Farenheit \n",
            "10 C är 50 Farenheit \n",
            "11 C är 52 Farenheit \n",
            "12 C är 54 Farenheit \n",
            "13 C är 55 Farenheit \n",
            "14 C är 57 Farenheit \n",
            "15 C är 59 Farenheit \n",
            "16 C är 61 Farenheit \n",
            "17 C är 63 Farenheit \n",
            "18 C är 64 Farenheit \n",
            "19 C är 66 Farenheit \n",
            "20 C är 68 Farenheit \n",
            "21 C är 70 Farenheit \n",
            "22 C är 72 Farenheit \n",
            "23 C är 73 Farenheit \n",
            "24 C är 75 Farenheit \n",
            "25 C är 77 Farenheit \n",
            "26 C är 79 Farenheit \n",
            "27 C är 81 Farenheit \n",
            "28 C är 82 Farenheit \n",
            "29 C är 84 Farenheit \n",
            "30 C är 86 Farenheit \n",
            "31 C är 88 Farenheit \n",
            "32 C är 90 Farenheit \n",
            "33 C är 91 Farenheit \n",
            "34 C är 93 Farenheit \n",
            "35 C är 95 Farenheit \n",
            "36 C är 97 Farenheit \n",
            "37 C är 99 Farenheit \n",
            "38 C är 100 Farenheit \n",
            "39 C är 102 Farenheit \n",
            "40 C är 104 Farenheit \n"
          ]
        }
      ]
    },
    {
      "cell_type": "code",
      "metadata": {
        "id": "wEY3Rg5c4GNI"
      },
      "source": [
        "i=-40\n",
        "while i<41:\n",
        "  f= 32+i*9/5\n",
        "  print(f'{i} C är {round(f)} Farenheit ')\n",
        "  i+=1"
      ],
      "execution_count": null,
      "outputs": []
    },
    {
      "cell_type": "code",
      "metadata": {
        "id": "MSgC8kPL5V9R"
      },
      "source": [
        "sum=1\n",
        "for i in range(1,2017):\n",
        "  sum= sum*1.02\n",
        "print(sum)\n"
      ],
      "execution_count": null,
      "outputs": []
    },
    {
      "cell_type": "code",
      "metadata": {
        "id": "twKJ4srRWcVM"
      },
      "source": [
        "x = input('Skriv en mening ')\n",
        "for i in x: \n",
        "  print(i, end=' ')"
      ],
      "execution_count": null,
      "outputs": []
    },
    {
      "cell_type": "code",
      "metadata": {
        "colab": {
          "base_uri": "https://localhost:8080/"
        },
        "id": "socGtt7rWuNO",
        "outputId": "aa3e47ad-8582-4ef0-ac47-b6849ba50e3d"
      },
      "source": [
        "password = 'kalle'\n",
        "while x != password: \n",
        "  x = input('Lösenord ')\n",
        "  if x == password:\n",
        "    print('ok')\n",
        "    break\n",
        "  elif x=='':\n",
        "    print('Avbruten inloggning')\n",
        "    break\n",
        "\n",
        "\n",
        "\n"
      ],
      "execution_count": null,
      "outputs": [
        {
          "output_type": "stream",
          "name": "stdout",
          "text": [
            "Lösenord kalle\n",
            "ok\n"
          ]
        }
      ]
    },
    {
      "cell_type": "code",
      "metadata": {
        "id": "QLxSA3tvYtkR"
      },
      "source": [
        "for i in range(5):\n",
        "  for j in range(1,10):\n",
        "    print(j, end=' ')\n",
        "  print()"
      ],
      "execution_count": null,
      "outputs": []
    },
    {
      "cell_type": "code",
      "metadata": {
        "id": "6tbva7_IZGWS"
      },
      "source": [
        "for i in range(1,10):\n",
        "  print(i, end=' ')\n",
        "  for j in range(1,9):\n",
        "    print(i, end=' ')\n",
        "  print()"
      ],
      "execution_count": null,
      "outputs": []
    },
    {
      "cell_type": "code",
      "metadata": {
        "id": "YaGsD9RsSWT8"
      },
      "source": [
        "for i in range(6):\n",
        "  for j in range(i):\n",
        "    print('*', end='')\n",
        "  print()"
      ],
      "execution_count": null,
      "outputs": []
    },
    {
      "cell_type": "code",
      "metadata": {
        "id": "OuoGvEJMS8zZ"
      },
      "source": [
        "for i in range(9):\n",
        "  for j in range(10):\n",
        "    print(i, end=' ')\n",
        "  print()"
      ],
      "execution_count": null,
      "outputs": []
    },
    {
      "cell_type": "code",
      "metadata": {
        "id": "aIV3iCAdTdeF"
      },
      "source": [
        "for i in range(10):\n",
        "  for j in range(0,10-i):\n",
        "    print(j, end=' ')\n",
        "  print()"
      ],
      "execution_count": null,
      "outputs": []
    },
    {
      "cell_type": "code",
      "metadata": {
        "id": "NiA1-08tW76i"
      },
      "source": [
        "r = 10\n",
        "for i in range(10):\n",
        "  for j in range(i):\n",
        "    print('  ', end='')\n",
        "  for j in range(0,10-i):\n",
        "    print(j, end=' ')\n",
        "\n",
        "  print()"
      ],
      "execution_count": null,
      "outputs": []
    },
    {
      "cell_type": "code",
      "metadata": {
        "id": "fedUD1N0gFz0"
      },
      "source": [
        "for i in range(1,10):\n",
        "  for j in range(1, 10):\n",
        "    print(i*j, end=' ')\n",
        "  print()"
      ],
      "execution_count": null,
      "outputs": []
    },
    {
      "cell_type": "code",
      "metadata": {
        "id": "CKWPjxjfiSRl"
      },
      "source": [
        "for i in range(1,10):\n",
        "  for j in range(1, 10):\n",
        "    res = i*j\n",
        "    print(f\"{res:2}\", end='  ')\n",
        "  print()"
      ],
      "execution_count": null,
      "outputs": []
    },
    {
      "cell_type": "code",
      "metadata": {
        "id": "aiuSmbNxpGXT"
      },
      "source": [
        "for i in range(1,10):\n",
        "  for j in range(1, 10):\n",
        "    print(f\"{i*j:2}\", end='  ')\n",
        "  print()"
      ],
      "execution_count": null,
      "outputs": []
    },
    {
      "cell_type": "code",
      "metadata": {
        "id": "xbO7RZqC_MnJ"
      },
      "source": [
        "f= int(input('Ange första talet '))\n",
        "a= int(input('Ange andra talet '))\n",
        "faktor=0\n",
        "if f<a: \n",
        "  faktor = 1\n",
        "else:\n",
        "  faktor=-1\n",
        "for i in range(f, a, faktor):\n",
        "  print(f\"{i:1}\", end=' ')"
      ],
      "execution_count": null,
      "outputs": []
    },
    {
      "cell_type": "code",
      "metadata": {
        "id": "UblPWIOOC8fd"
      },
      "source": [
        "print(\"**********\\n\" *5)"
      ],
      "execution_count": null,
      "outputs": []
    },
    {
      "cell_type": "code",
      "metadata": {
        "id": "mYb8W1JqGY2h"
      },
      "source": [
        "for i in range(5):\n",
        "  print('**********')"
      ],
      "execution_count": null,
      "outputs": []
    },
    {
      "cell_type": "code",
      "metadata": {
        "id": "W6tiU4MWHOUJ"
      },
      "source": [
        ""
      ],
      "execution_count": null,
      "outputs": []
    },
    {
      "cell_type": "markdown",
      "metadata": {
        "id": "eX5XbirDHa9R"
      },
      "source": [
        "# 6 kap Mer om teckensträngar i Python"
      ]
    },
    {
      "cell_type": "code",
      "metadata": {
        "id": "HqujIeRWHf11"
      },
      "source": [
        "str = 'aaaabC A defg '\n",
        "'a' in str"
      ],
      "execution_count": null,
      "outputs": []
    },
    {
      "cell_type": "code",
      "metadata": {
        "id": "XjsLF-cZJ5M4"
      },
      "source": [
        "str.center(33)"
      ],
      "execution_count": null,
      "outputs": []
    },
    {
      "cell_type": "code",
      "metadata": {
        "id": "omzYGk3AKgtP"
      },
      "source": [
        "str.count('a')"
      ],
      "execution_count": null,
      "outputs": []
    },
    {
      "cell_type": "code",
      "metadata": {
        "id": "_DIR7bwqK7t8"
      },
      "source": [
        "str.rjust(31)"
      ],
      "execution_count": null,
      "outputs": []
    },
    {
      "cell_type": "code",
      "metadata": {
        "id": "swwIIt_PLTSY"
      },
      "source": [
        "str.ljust(33)"
      ],
      "execution_count": null,
      "outputs": []
    },
    {
      "cell_type": "code",
      "metadata": {
        "id": "HqJn9lkHLowN"
      },
      "source": [
        "str.upper()"
      ],
      "execution_count": null,
      "outputs": []
    },
    {
      "cell_type": "code",
      "metadata": {
        "id": "1N4GfvQbLscy"
      },
      "source": [
        "str.lower()"
      ],
      "execution_count": null,
      "outputs": []
    },
    {
      "cell_type": "code",
      "metadata": {
        "id": "HNsO3ancLvQs"
      },
      "source": [
        "str.capitalize()"
      ],
      "execution_count": null,
      "outputs": []
    },
    {
      "cell_type": "code",
      "metadata": {
        "id": "NOteukxbLz1R"
      },
      "source": [
        "str.title()"
      ],
      "execution_count": null,
      "outputs": []
    },
    {
      "cell_type": "code",
      "metadata": {
        "id": "25pxE5rcL2uH"
      },
      "source": [
        "str.strip()"
      ],
      "execution_count": null,
      "outputs": []
    },
    {
      "cell_type": "code",
      "metadata": {
        "id": "UP56fNLxL6oe"
      },
      "source": [
        "str.strip(' ')"
      ],
      "execution_count": null,
      "outputs": []
    },
    {
      "cell_type": "code",
      "metadata": {
        "id": "FDpvpltfMIUt"
      },
      "source": [
        "str.replace('A', '*')"
      ],
      "execution_count": null,
      "outputs": []
    },
    {
      "cell_type": "code",
      "metadata": {
        "id": "yI29qbLhMYyA"
      },
      "source": [
        "x = input('Skriv en mening ')\n",
        "print(f'Meningen består av {len(x)} tecken')"
      ],
      "execution_count": null,
      "outputs": []
    },
    {
      "cell_type": "code",
      "metadata": {
        "id": "UjY_ZrkzMywV"
      },
      "source": [
        "f = input('Förnamn ').title()\n",
        "e = input('Förnamn ').title()\n",
        "fullst = f + ' ' + e\n",
        "print(f'Fullständigt namn: {fullst} ' )"
      ],
      "execution_count": null,
      "outputs": []
    },
    {
      "cell_type": "code",
      "metadata": {
        "id": "GRRqltu0NIsr"
      },
      "source": [
        "x = input('Skriv en mening ')\n",
        "y = (x)[::-1]\n",
        "print(y)"
      ],
      "execution_count": null,
      "outputs": []
    },
    {
      "cell_type": "code",
      "metadata": {
        "id": "Qy9vU3SEnFW9"
      },
      "source": [
        "x = 'Alla känner apan men apan känner ingen '\n",
        "y = x.replace('apan', 'gorillan')\n",
        "print(y)"
      ],
      "execution_count": null,
      "outputs": []
    },
    {
      "cell_type": "code",
      "metadata": {
        "id": "lRJyLm-DnPUF"
      },
      "source": [
        "z = x.count('a')\n",
        "print(f'Alla känner apan men apan känner ingen - innehåller {z} a ')"
      ],
      "execution_count": null,
      "outputs": []
    },
    {
      "cell_type": "code",
      "metadata": {
        "id": "7Q9MjL3dofvT"
      },
      "source": [
        "headers = ['Tal', 'kvad', 'kub']\n",
        "format_string = \"{:<5}{:<8}{:<10}\"\n",
        "print(format_string.format(*headers))\n",
        "for i in range(1, 5):\n",
        "  kvad = i**2\n",
        "  kub = pow(i, 3)\n",
        "  print(f'{i}     {kvad:2}     {kub:2} ')\n",
        "  "
      ],
      "execution_count": null,
      "outputs": []
    },
    {
      "cell_type": "code",
      "metadata": {
        "id": "fHdZG0wvoxHJ"
      },
      "source": [
        "cols= 30\n",
        "rows = 30\n",
        "mid = cols/2\n",
        "\n",
        "while i < rows/2:\n",
        "  print('*', end='')\n",
        "  i = i+1\n",
        "  print()\n"
      ],
      "execution_count": null,
      "outputs": []
    },
    {
      "cell_type": "code",
      "metadata": {
        "id": "9rK389whsHqj"
      },
      "source": [
        "rows = int(input(\"Enter The Number Of Rows: \"))\n",
        "columns = 2*rows -1\n",
        "i = 0\n",
        "while i < rows:\n",
        "    j = 0\n",
        "    while j < columns :\n",
        "        if( (columns//2)-i <= j <= (columns//2)  +i):\n",
        "            print(\"*\",end = \"\")\n",
        "        else:\n",
        "            print(\" \",end = \"\")\n",
        "        \n",
        "        j+=1\n",
        "    print(\" \")\n",
        "    i+=1\n",
        "    \n",
        "i = 0\n",
        "while i < rows:\n",
        "    j = 0\n",
        "    while j < columns :\n",
        "        if( i <= j <= columns-1 -i):\n",
        "            print(\"*\",end = \"\")\n",
        "        else:\n",
        "            print(\" \",end = \"\")\n",
        "        \n",
        "        j+=1\n",
        "    print(\" \")\n",
        "    i+=1"
      ],
      "execution_count": null,
      "outputs": []
    },
    {
      "cell_type": "code",
      "metadata": {
        "id": "65RmUVOJuITk"
      },
      "source": [
        "rows = int(input(\"Enter The Number Of Rows: \"))\n",
        "columns = 2*rows -1\n",
        "i = 0\n",
        "while i < rows:\n",
        "    j = 0\n",
        "    while j < columns :\n",
        "        if( (columns//2)-i <= j <= (columns//2)  +i):\n",
        "            print(\"*\",end = \"\")\n",
        "        else:\n",
        "            print(\" \",end = \"\")\n",
        "        \n",
        "        j+=1\n",
        "    print(\" \")\n",
        "    i+=1"
      ],
      "execution_count": null,
      "outputs": []
    },
    {
      "cell_type": "code",
      "metadata": {
        "id": "eTyzT1oIymzK"
      },
      "source": [
        "v = 'aeiouyåäö '\n",
        "k = ' b, c, d, f, g, h, j, k, l, m, n, p, q, r, s, t, v, z, x'\n",
        "k = k.replace(', ', '').strip()\n",
        "str = input('Skriv en mening ').lower()\n",
        "for i in str: \n",
        "  if i in v: \n",
        "    print(i, end='')\n",
        "  elif i in k: \n",
        "    print(i+'o'+i, end='')\n",
        "\n"
      ],
      "execution_count": null,
      "outputs": []
    },
    {
      "cell_type": "code",
      "metadata": {
        "id": "D9rt8gEu1UuJ"
      },
      "source": [
        "v = 'aeiouyåäö '\n",
        "k = ' b, c, d, f, g, h, j, k, l, m, n, p, q, r, s, t, v, z, x'\n",
        "k = k.replace(', ', '').strip()\n",
        "str = input('Skriv en mening på rövarspråket ').lower()\n",
        "output=[]\n",
        "for i in str: \n",
        "  if i in k and str[i+1]=='o':\n",
        "    print(i)\n",
        "  elif i in v:\n",
        "    print(i) \n",
        "\n",
        "print(output)\n",
        "#"
      ],
      "execution_count": null,
      "outputs": []
    },
    {
      "cell_type": "code",
      "metadata": {
        "id": "3-YivF85ofVg"
      },
      "source": [
        "v = 'aeiouyåäö '\n",
        "k = ' b, c, d, f, g, h, j, k, l, m, n, p, q, r, s, t, v, z, x'\n",
        "k = k.replace(', ', '').strip()\n",
        "str = 'jojagog totalolaror rorövovarorsospoproråkoketot'\n",
        "output=[]\n",
        "nstr = ''\n",
        "for i in range(len(str)): \n",
        "  if str[i] in k:\n",
        "    for j in range(1):\n",
        "      if str[j+1]=='o':\n",
        "        nstr = ''.join(str[i])\n",
        " # elif str[i] in v:\n",
        " #   nstr = ''.join(str[i]) \n",
        "    print(nstr)\n",
        "\n",
        "#  elif str[i] in v:\n",
        "    print(str[i]) \n",
        "\n"
      ],
      "execution_count": null,
      "outputs": []
    },
    {
      "cell_type": "code",
      "metadata": {
        "id": "oyLIqivVp2WX"
      },
      "source": [
        "#x = int(imput('Skriv ditt personnummer '))\n",
        "nstr=''\n",
        "x = '820713-1239'\n",
        "y =x.strip().replace('-', '')\n",
        "z=int(y)\n",
        "f=-1\n",
        "mult = 2\n",
        "#if len(y)==10:\n",
        "\n",
        "\n"
      ],
      "execution_count": null,
      "outputs": []
    },
    {
      "cell_type": "code",
      "metadata": {
        "colab": {
          "base_uri": "https://localhost:8080/"
        },
        "id": "mzsPG4EiPsVh",
        "outputId": "99ec44d7-6f74-40ea-9497-ddd6557588d8"
      },
      "source": [
        "# x = '820713-1239'\n",
        "# 881212-1221\n",
        "x = input('Skriv ditt personnummer ')\n",
        "nstr=''\n",
        "sum=0\n",
        "c=2\n",
        "print(y)\n",
        "y =x.strip().replace('-', '')\n",
        "for i in y: \n",
        "  if int(i)*c>9:\n",
        "    nstr += str(int(i)*c-9)\n",
        "  elif int(i)*c<=9:\n",
        "    nstr += str(int(i)*c)\n",
        "  if c==2:\n",
        "     c=1\n",
        "  elif c==1:\n",
        "     c=2\n",
        "\n",
        "for i in nstr:\n",
        "  sum= sum + int(i)\n",
        "if sum%10==0:\n",
        "  print('ok')\n",
        "else:\n",
        "  print('ej validerat')\n",
        "\n"
      ],
      "execution_count": null,
      "outputs": [
        {
          "output_type": "stream",
          "name": "stdout",
          "text": [
            "0\n",
            "8207131239\n",
            "[7, -1, 4, 2, 0, 0, 4, 2]\n"
          ]
        }
      ]
    },
    {
      "cell_type": "code",
      "metadata": {
        "colab": {
          "base_uri": "https://localhost:8080/"
        },
        "id": "Xf1sW6SFc6oI",
        "outputId": "241eb21b-0e12-49b7-b2c6-90082fd9fe2a"
      },
      "source": [
        "v = 'aeiouyåäö '\n",
        "k = ' b, c, d, f, g, h, j, k, l, m, n, p, q, r, s, t, v, z, x'\n",
        "k = k.replace(', ', '').strip()\n",
        "string = 'jojagog totalolaror rorövovarorsospoproråkoketot'\n",
        "output =''\n",
        "teststring =''\n",
        "\n",
        "for i in range(1, len(string)):\n",
        "  if string[i] in k and string[i-1]=='o' and string[i-2]== string[i]:\n",
        "    output += string[i]\n",
        "  if string[i] in v and not string[i-1]==string[i+1]: \n",
        "    output += string[i]\n",
        "  if string[i]==' ':\n",
        "    output += string[i]\n",
        "\n",
        "print(output)\n",
        "print(teststring)"
      ],
      "execution_count": null,
      "outputs": [
        {
          "output_type": "stream",
          "name": "stdout",
          "text": [
            "jag  talar rövarspråket\n",
            "\n"
          ]
        }
      ]
    },
    {
      "cell_type": "code",
      "metadata": {
        "colab": {
          "base_uri": "https://localhost:8080/"
        },
        "id": "TPQXECehqehC",
        "outputId": "152159ad-7588-4abc-e404-2b8bb40a4752"
      },
      "source": [
        "dåligt = 49\n",
        "ont = 48\n",
        "illa=47\n",
        "bra = 51\n",
        "fint =52\n",
        "utmärkt=53\n",
        "finemang=54\n",
        "pos = True \n",
        "str = input('Hej hur mår du? ').lower()\n",
        "mylist = s\n",
        "print(mylist)"
      ],
      "execution_count": null,
      "outputs": [
        {
          "output_type": "stream",
          "name": "stdout",
          "text": [
            "Hej hur mår du? jag mår bra\n",
            "['j', 'a', 'g', ' ', 'm', 'å', 'r', ' ', 'b', 'r', 'a']\n"
          ]
        }
      ]
    },
    {
      "cell_type": "code",
      "metadata": {
        "id": "lTWHZw-z4l22"
      },
      "source": [
        "ja"
      ],
      "execution_count": null,
      "outputs": []
    },
    {
      "cell_type": "code",
      "metadata": {
        "colab": {
          "base_uri": "https://localhost:8080/"
        },
        "id": "XrB0xkkbzj24",
        "outputId": "4d4fa1ff-2c9e-4344-bc70-15fbda60b9b5"
      },
      "source": [
        "print(\"Python2 Python3 Python Numpy\".split())\n",
        "#print \"Python2, Python3, Python, Numpy\".split()\n"
      ],
      "execution_count": null,
      "outputs": [
        {
          "output_type": "stream",
          "name": "stdout",
          "text": [
            "['Python2', 'Python3', 'Python', 'Numpy']\n"
          ]
        }
      ]
    },
    {
      "cell_type": "code",
      "metadata": {
        "id": "BeThbTW4zkja"
      },
      "source": [
        ""
      ],
      "execution_count": null,
      "outputs": []
    },
    {
      "cell_type": "markdown",
      "metadata": {
        "id": "fNF9vJuB2QPq"
      },
      "source": [
        "**fetstil**# Binära tal"
      ]
    },
    {
      "cell_type": "markdown",
      "metadata": {
        "id": "-pLXunrO2U-Y"
      },
      "source": [
        "#7 Kap Binära tal"
      ]
    },
    {
      "cell_type": "code",
      "metadata": {
        "id": "i1oXgsAv2TOy"
      },
      "source": [
        ""
      ],
      "execution_count": null,
      "outputs": []
    },
    {
      "cell_type": "markdown",
      "metadata": {
        "id": "601uElSy2lPI"
      },
      "source": [
        "# 8 kap Listor och tipplar"
      ]
    },
    {
      "cell_type": "code",
      "metadata": {
        "colab": {
          "base_uri": "https://localhost:8080/"
        },
        "id": "lo-U9Gcg2hU0",
        "outputId": "4ce7d562-ee0e-4501-b86f-3424dfa2e3f8"
      },
      "source": [
        "lista = []\n",
        "ant= int(input('Hur många tal vill du ange? '))\n",
        "for i in range(1, ant+1):\n",
        "  tal = int(input(f'Tal {i} '))\n",
        "  lista.append(tal)\n",
        "print(lista)"
      ],
      "execution_count": null,
      "outputs": [
        {
          "output_type": "stream",
          "name": "stdout",
          "text": [
            "Hur många tal vill du ange? 4\n",
            "Tal 1 3\n",
            "Tal 2 2\n",
            "Tal 3 5\n",
            "Tal 4 6\n",
            "[3, 2, 5, 6]\n"
          ]
        }
      ]
    },
    {
      "cell_type": "code",
      "metadata": {
        "colab": {
          "base_uri": "https://localhost:8080/"
        },
        "id": "WkLMA8cp3j7-",
        "outputId": "227501f8-8b03-47ed-9082-22e8eb20e55f"
      },
      "source": [
        "lista = []\n",
        "ant= int(input('Hur många tal vill du ange? '))\n",
        "for i in range(1, ant+1):\n",
        "  tal = int(input(f'Tal {i} '))\n",
        "  lista.append(tal)\n",
        "\n",
        "lista.reverse()\n",
        "print(lista)\n"
      ],
      "execution_count": null,
      "outputs": [
        {
          "output_type": "stream",
          "name": "stdout",
          "text": [
            "Hur många tal vill du ange? 3\n",
            "Tal 1 1\n",
            "Tal 2 4\n",
            "Tal 3 7\n",
            "[7, 4, 1]\n"
          ]
        }
      ]
    },
    {
      "cell_type": "code",
      "metadata": {
        "colab": {
          "base_uri": "https://localhost:8080/"
        },
        "id": "PJ5Jxczb4J_6",
        "outputId": "25b6b77d-cb03-4f0d-bf7f-bd383e8242e3"
      },
      "source": [
        "import numpy as np\n",
        "lista = []\n",
        "ant= int(input('Hur många tal vill du ange? '))\n",
        "for i in range(1, ant+1):\n",
        "  tal = int(input(f'Tal {i} '))\n",
        "  lista.append(tal)\n",
        "\n",
        "\n",
        "s = sum(lista)\n",
        "m = np.mean(lista)\n",
        "print(f'Summan av talen är {s} och medelvärdet är {m} ')"
      ],
      "execution_count": null,
      "outputs": [
        {
          "output_type": "stream",
          "name": "stdout",
          "text": [
            "Hur många tal vill du ange? 5\n",
            "Tal 1 4\n",
            "Tal 2 3\n",
            "Tal 3 5\n",
            "Tal 4 66\n",
            "Tal 5 5\n",
            "Summan av talen är 83 och medelvärdet är 16.6 \n"
          ]
        }
      ]
    },
    {
      "cell_type": "code",
      "metadata": {
        "colab": {
          "base_uri": "https://localhost:8080/",
          "height": 325
        },
        "id": "yRnmhFwW5a3g",
        "outputId": "d5ff229f-1d7d-4ce1-e62e-9fd46f9842b5"
      },
      "source": [
        "m = ['januari', 'februari', 'mars', 'april', 'maj', 'juni', 'juli', 'augusti', 'september', 'oktober', 'november', 'december']\n",
        "\n",
        "while True: \n",
        "  num = int(input('Ange månadens ordningstal '))\n",
        "  if num >=1 and num <=12:\n",
        "    print(m[num-1])\n",
        "  elif num >12:\n",
        "    print('Det finns bara tolv månader, försök igen')\n",
        "  elif num ==' ':\n",
        "    break"
      ],
      "execution_count": null,
      "outputs": [
        {
          "name": "stdout",
          "output_type": "stream",
          "text": [
            "Ange månadens ordningstal 4\n",
            "april\n",
            "Ange månadens ordningstal 3\n",
            "mars\n",
            "Ange månadens ordningstal \n"
          ]
        },
        {
          "output_type": "error",
          "ename": "ValueError",
          "evalue": "ignored",
          "traceback": [
            "\u001b[0;31m---------------------------------------------------------------------------\u001b[0m",
            "\u001b[0;31mValueError\u001b[0m                                Traceback (most recent call last)",
            "\u001b[0;32m<ipython-input-65-0803ec5083c5>\u001b[0m in \u001b[0;36m<module>\u001b[0;34m()\u001b[0m\n\u001b[1;32m      2\u001b[0m \u001b[0;34m\u001b[0m\u001b[0m\n\u001b[1;32m      3\u001b[0m \u001b[0;32mwhile\u001b[0m \u001b[0;32mTrue\u001b[0m\u001b[0;34m:\u001b[0m\u001b[0;34m\u001b[0m\u001b[0;34m\u001b[0m\u001b[0m\n\u001b[0;32m----> 4\u001b[0;31m   \u001b[0mnum\u001b[0m \u001b[0;34m=\u001b[0m \u001b[0mint\u001b[0m\u001b[0;34m(\u001b[0m\u001b[0minput\u001b[0m\u001b[0;34m(\u001b[0m\u001b[0;34m'Ange månadens ordningstal '\u001b[0m\u001b[0;34m)\u001b[0m\u001b[0;34m)\u001b[0m\u001b[0;34m\u001b[0m\u001b[0;34m\u001b[0m\u001b[0m\n\u001b[0m\u001b[1;32m      5\u001b[0m   \u001b[0;32mif\u001b[0m \u001b[0mnum\u001b[0m \u001b[0;34m>=\u001b[0m\u001b[0;36m1\u001b[0m \u001b[0;32mand\u001b[0m \u001b[0mnum\u001b[0m \u001b[0;34m<=\u001b[0m\u001b[0;36m12\u001b[0m\u001b[0;34m:\u001b[0m\u001b[0;34m\u001b[0m\u001b[0;34m\u001b[0m\u001b[0m\n\u001b[1;32m      6\u001b[0m     \u001b[0mprint\u001b[0m\u001b[0;34m(\u001b[0m\u001b[0mm\u001b[0m\u001b[0;34m[\u001b[0m\u001b[0mnum\u001b[0m\u001b[0;34m-\u001b[0m\u001b[0;36m1\u001b[0m\u001b[0;34m]\u001b[0m\u001b[0;34m)\u001b[0m\u001b[0;34m\u001b[0m\u001b[0;34m\u001b[0m\u001b[0m\n",
            "\u001b[0;31mValueError\u001b[0m: invalid literal for int() with base 10: ''"
          ]
        }
      ]
    },
    {
      "cell_type": "code",
      "metadata": {
        "colab": {
          "base_uri": "https://localhost:8080/",
          "height": 35
        },
        "id": "bjXlMRBW8lc2",
        "outputId": "e5f32efd-6336-443e-8c28-9dfeb394735c"
      },
      "source": [
        "c=0\n",
        "m[c]"
      ],
      "execution_count": null,
      "outputs": [
        {
          "output_type": "execute_result",
          "data": {
            "application/vnd.google.colaboratory.intrinsic+json": {
              "type": "string"
            },
            "text/plain": [
              "'januari'"
            ]
          },
          "metadata": {},
          "execution_count": 41
        }
      ]
    },
    {
      "cell_type": "code",
      "metadata": {
        "id": "zpq4zYYVCOsZ",
        "colab": {
          "base_uri": "https://localhost:8080/"
        },
        "outputId": "9eda2521-2aaf-42eb-f046-216c1a7db4d0"
      },
      "source": [
        "from random import *\n",
        "t = randint(10,16)\n",
        "l = [randint(1,101) for i in range(t)]\n",
        "minstaTal = min(l)\n",
        "for i in range(0, len(l)): \n",
        "  if l[i]== minstaTal:\n",
        "    pos = i+1\n",
        "print(f'Lägsta talet är {minstaTal} och dess position är {pos} ')\n",
        "print(l)\n",
        "firstNum = l[0]\n",
        "\n",
        "swappedLIst = l\n",
        "\n",
        "swappedLIst[0]=minstaTal\n",
        "swappedLIst[pos-1]=firstNum\n",
        "print(swappedLIst)\n",
        "print(f'{minstaTal} har bytt plats med {firstNum} ')"
      ],
      "execution_count": null,
      "outputs": [
        {
          "output_type": "stream",
          "name": "stdout",
          "text": [
            "Lägsta talet är 15 och dess position är 4 \n",
            "[50, 78, 49, 15, 34, 32, 81, 32, 20, 68, 56, 80, 66, 43, 84]\n",
            "[15, 78, 49, 50, 34, 32, 81, 32, 20, 68, 56, 80, 66, 43, 84]\n",
            "15 har bytt plats med 50 \n"
          ]
        }
      ]
    },
    {
      "cell_type": "code",
      "metadata": {
        "colab": {
          "base_uri": "https://localhost:8080/"
        },
        "id": "x_nDzI9YzQfd",
        "outputId": "58b2736e-2c58-4856-cdf6-0d61fa26c342"
      },
      "source": [
        "from random import *\n",
        "t = randint(10,16)\n",
        "l = [randint(1,101) for i in range(t)]\n",
        "minstaTal = min(l)\n",
        "for i in range(0, len(l)): \n",
        "  if l[i]== minstaTal:\n",
        "    pos = i+1\n",
        "print(f'Lägsta talet är {minstaTal} och dess position är {pos} ')\n",
        "\n",
        "firstNumber = l[0]\n",
        "\n",
        "print(l)\n",
        "for i in range(len(l)):\n",
        "  taletBakom= l[i-1]\n",
        "  if l[i] == minstaTal:\n",
        "    l[pos-1]= firstNumber\n",
        "    l[0]= minstaTal\n",
        "    \n",
        "\n",
        "print(l)\n",
        "\n",
        "\n"
      ],
      "execution_count": null,
      "outputs": [
        {
          "output_type": "stream",
          "name": "stdout",
          "text": [
            "Lägsta talet är 6 och dess position är 7 \n",
            "[23, 11, 36, 25, 22, 17, 6, 20, 16, 19, 57, 80, 98]\n",
            "[6, 11, 36, 25, 22, 17, 23, 20, 16, 19, 57, 80, 98]\n"
          ]
        }
      ]
    },
    {
      "cell_type": "code",
      "metadata": {
        "colab": {
          "base_uri": "https://localhost:8080/"
        },
        "id": "GsLA0lG_zeUf",
        "outputId": "071e9428-65a4-4425-b57f-f36175f9e0ad"
      },
      "source": [
        "from random import *\n",
        "t = randint(10,16)\n",
        "l = [randint(1,101) for i in range(t)]\n",
        "minstaTal = min(l)\n",
        "for i in range(0, len(l)): \n",
        "  if l[i]== minstaTal:\n",
        "    pos = i+1\n",
        "print(f'Lägsta talet är {minstaTal} och dess position är {pos} ')\n",
        "\n",
        "firstNumber = l[0]\n",
        "\n",
        "print(l)\n",
        "for i in range(len(l)):\n",
        "  taletBakom= l[i-1]\n",
        "  if l[i] == minstaTal:\n",
        "    l[pos-1]= firstNumber\n",
        "    l[0]= minstaTal\n",
        "    \n",
        "\n",
        "print(l)\n",
        "for i in range(1, len(l)-1):\n",
        "  mem = l[i+1]\n",
        "  if l[i]>l[i+1]:\n",
        "    l[i+1]=l[i]\n",
        "    l[i]=mem\n",
        "\n",
        "print(l)\n"
      ],
      "execution_count": null,
      "outputs": [
        {
          "output_type": "stream",
          "name": "stdout",
          "text": [
            "Lägsta talet är 5 och dess position är 2 \n",
            "[71, 5, 84, 59, 93, 49, 15, 88, 98, 29]\n",
            "[5, 71, 84, 59, 93, 49, 15, 88, 98, 29]\n",
            "[5, 71, 59, 84, 49, 15, 88, 93, 29, 98]\n"
          ]
        }
      ]
    },
    {
      "cell_type": "code",
      "metadata": {
        "colab": {
          "base_uri": "https://localhost:8080/"
        },
        "id": "Zd-KAdqr1UpT",
        "outputId": "f737bbad-ced3-4f0e-a081-f13c7bca0a1b"
      },
      "source": [
        "from random import *\n",
        "t = randint(10,16)\n",
        "l = [randint(1,101) for i in range(t)]\n",
        "minstaTal = min(l)\n",
        "for i in range(0, len(l)): \n",
        "  if l[i]== minstaTal:\n",
        "    pos = i+1\n",
        "print(f'Lägsta talet är {minstaTal} och dess position är {pos} ')\n",
        "\n",
        "firstNumber = l[0]\n",
        "\n",
        "print(l)\n",
        "for i in range(len(l)):\n",
        "  taletBakom= l[i-1]\n",
        "  if l[i] == minstaTal:\n",
        "    l[pos-1]= firstNumber\n",
        "    l[0]= minstaTal\n",
        "    \n",
        "print(l)\n",
        "\n",
        "\n",
        "while l[len(l)-1] != max(l):\n",
        "  for i in range(1, len(l)-1):\n",
        "    mem = l[i+1]\n",
        "    if l[i]>l[i+1]:\n",
        "      l[i+1]=l[i]\n",
        "      l[i]=mem\n",
        "\n",
        "print(l)\n"
      ],
      "execution_count": null,
      "outputs": [
        {
          "output_type": "stream",
          "name": "stdout",
          "text": [
            "Lägsta talet är 25 och dess position är 8 \n",
            "[76, 46, 79, 39, 82, 95, 34, 25, 27, 74, 65, 39, 43, 94, 91, 35]\n",
            "[25, 46, 79, 39, 82, 95, 34, 76, 27, 74, 65, 39, 43, 94, 91, 35]\n",
            "[25, 46, 39, 79, 82, 34, 76, 27, 74, 65, 39, 43, 94, 91, 35, 95]\n"
          ]
        }
      ]
    },
    {
      "cell_type": "code",
      "metadata": {
        "id": "3vzFZ0mH1vAx"
      },
      "source": [
        ""
      ],
      "execution_count": null,
      "outputs": []
    },
    {
      "cell_type": "code",
      "metadata": {
        "colab": {
          "base_uri": "https://localhost:8080/"
        },
        "id": "eD006-OUHf8S",
        "outputId": "e7021a35-3e93-409c-b9f6-65ee3b9db5a3"
      },
      "source": [
        "firstNumber"
      ],
      "execution_count": null,
      "outputs": [
        {
          "output_type": "execute_result",
          "data": {
            "text/plain": [
              "11"
            ]
          },
          "metadata": {},
          "execution_count": 176
        }
      ]
    },
    {
      "cell_type": "code",
      "metadata": {
        "colab": {
          "base_uri": "https://localhost:8080/",
          "height": 275
        },
        "id": "eyCsyUmByIY2",
        "outputId": "725479c3-3bc4-46d3-c7f1-94e26846a4aa"
      },
      "source": [
        "from random import *\n",
        "t = randint(10,16)\n",
        "l = [randint(1,101) for i in range(t)]\n",
        "minstaTal = min(l)\n",
        "for i in range(0, len(l)): \n",
        "  if l[i]== minstaTal:\n",
        "    pos = i+1\n",
        "print(f'Lägsta talet är {minstaTal} och dess position är {pos} ')\n",
        "\n",
        "firstNumber = l[0]\n",
        "\n",
        "print(l)\n",
        "\n",
        "while l[len(l)-1] != max(l):\n",
        "\n",
        "  for i in range(1, len(l)):\n",
        "    minne = l[i]\n",
        "    if l[i]>l[i-1]:\n",
        "      l[i-1]==i\n",
        "      \n",
        "print(l)\n",
        "\n"
      ],
      "execution_count": null,
      "outputs": [
        {
          "output_type": "stream",
          "name": "stdout",
          "text": [
            "Lägsta talet är 3 och dess position är 14 \n",
            "[74, 45, 88, 63, 11, 47, 25, 43, 13, 44, 64, 37, 62, 3, 52]\n"
          ]
        },
        {
          "output_type": "error",
          "ename": "KeyboardInterrupt",
          "evalue": "ignored",
          "traceback": [
            "\u001b[0;31m---------------------------------------------------------------------------\u001b[0m",
            "\u001b[0;31mKeyboardInterrupt\u001b[0m                         Traceback (most recent call last)",
            "\u001b[0;32m<ipython-input-206-9f16b797d867>\u001b[0m in \u001b[0;36m<module>\u001b[0;34m()\u001b[0m\n\u001b[1;32m     14\u001b[0m \u001b[0;32mwhile\u001b[0m \u001b[0ml\u001b[0m\u001b[0;34m[\u001b[0m\u001b[0mlen\u001b[0m\u001b[0;34m(\u001b[0m\u001b[0ml\u001b[0m\u001b[0;34m)\u001b[0m\u001b[0;34m-\u001b[0m\u001b[0;36m1\u001b[0m\u001b[0;34m]\u001b[0m \u001b[0;34m!=\u001b[0m \u001b[0mmax\u001b[0m\u001b[0;34m(\u001b[0m\u001b[0ml\u001b[0m\u001b[0;34m)\u001b[0m\u001b[0;34m:\u001b[0m\u001b[0;34m\u001b[0m\u001b[0;34m\u001b[0m\u001b[0m\n\u001b[1;32m     15\u001b[0m \u001b[0;34m\u001b[0m\u001b[0m\n\u001b[0;32m---> 16\u001b[0;31m   \u001b[0;32mfor\u001b[0m \u001b[0mi\u001b[0m \u001b[0;32min\u001b[0m \u001b[0mrange\u001b[0m\u001b[0;34m(\u001b[0m\u001b[0;36m1\u001b[0m\u001b[0;34m,\u001b[0m \u001b[0mlen\u001b[0m\u001b[0;34m(\u001b[0m\u001b[0ml\u001b[0m\u001b[0;34m)\u001b[0m\u001b[0;34m)\u001b[0m\u001b[0;34m:\u001b[0m\u001b[0;34m\u001b[0m\u001b[0;34m\u001b[0m\u001b[0m\n\u001b[0m\u001b[1;32m     17\u001b[0m     \u001b[0mminne\u001b[0m \u001b[0;34m=\u001b[0m \u001b[0ml\u001b[0m\u001b[0;34m[\u001b[0m\u001b[0mi\u001b[0m\u001b[0;34m]\u001b[0m\u001b[0;34m\u001b[0m\u001b[0;34m\u001b[0m\u001b[0m\n\u001b[1;32m     18\u001b[0m     \u001b[0;32mif\u001b[0m \u001b[0ml\u001b[0m\u001b[0;34m[\u001b[0m\u001b[0mi\u001b[0m\u001b[0;34m]\u001b[0m\u001b[0;34m>\u001b[0m\u001b[0ml\u001b[0m\u001b[0;34m[\u001b[0m\u001b[0mi\u001b[0m\u001b[0;34m-\u001b[0m\u001b[0;36m1\u001b[0m\u001b[0;34m]\u001b[0m\u001b[0;34m:\u001b[0m\u001b[0;34m\u001b[0m\u001b[0;34m\u001b[0m\u001b[0m\n",
            "\u001b[0;31mKeyboardInterrupt\u001b[0m: "
          ]
        }
      ]
    },
    {
      "cell_type": "code",
      "metadata": {
        "colab": {
          "base_uri": "https://localhost:8080/"
        },
        "id": "k-jiYuOSEjji",
        "outputId": "c55ce632-b868-44b0-d7b3-4194199ea146"
      },
      "source": [
        "l"
      ],
      "execution_count": null,
      "outputs": [
        {
          "output_type": "execute_result",
          "data": {
            "text/plain": [
              "[74, 45, 88, 63, 11, 47, 25, 43, 13, 44, 64, 37, 62, 3, 52]"
            ]
          },
          "metadata": {},
          "execution_count": 207
        }
      ]
    },
    {
      "cell_type": "code",
      "metadata": {
        "colab": {
          "base_uri": "https://localhost:8080/"
        },
        "id": "GKttvO87Ej7D",
        "outputId": "39d71b6f-f7d9-48ba-f00f-1f2db89aca01"
      },
      "source": [
        "from random import *\n",
        "t = randint(10,16)\n",
        "l = [randint(1,101) for i in range(t)]\n",
        "minstaTal = min(l)\n",
        "for i in range(0, len(l)): \n",
        "  if l[i]== minstaTal:\n",
        "    pos = i+1\n",
        "print(f'Lägsta talet är {minstaTal} och dess position är {pos} ')\n",
        "print(l)\n",
        "\n",
        "for i in range(1, len(l)):\n",
        "    minne = l[i-1]\n",
        "    if l[i-1]>l[i]:\n",
        "      l[i-1]= l[i]\n",
        "      l[i]= minne\n",
        "print(l)"
      ],
      "execution_count": null,
      "outputs": [
        {
          "output_type": "stream",
          "name": "stdout",
          "text": [
            "Lägsta talet är 2 och dess position är 3 \n",
            "[23, 37, 2, 43, 88, 99, 63, 78, 75, 25, 16, 57, 43, 26, 7]\n",
            "[23, 2, 37, 43, 88, 63, 78, 75, 25, 16, 57, 43, 26, 7, 99]\n"
          ]
        }
      ]
    },
    {
      "cell_type": "code",
      "metadata": {
        "colab": {
          "base_uri": "https://localhost:8080/"
        },
        "id": "fzOSaqehF6eN",
        "outputId": "bf126c66-e9d9-4351-aefa-d5fc6e51c733"
      },
      "source": [
        "from random import *\n",
        "t = randint(10,16)\n",
        "l = [randint(1,101) for i in range(t)]\n",
        "minstaTal = min(l)\n",
        "for i in range(0, len(l)): \n",
        "  if l[i]== minstaTal:\n",
        "    pos = i+1\n",
        "print(f'Lägsta talet är {minstaTal} och dess position är {pos} ')\n",
        "print(l)\n",
        "\n",
        "l[0]==minstaTal\n",
        "\n",
        "# while l[len(l)-1] != max(l):\n",
        "\n",
        "\n",
        "for i in range(1, len(l)-1):\n",
        "      minne = l[i-1]\n",
        "      if l[i]>l[i+1]:\n",
        "        l[i]= l[-i]\n",
        "        l[i]= minne\n",
        "      \n",
        "print(l)"
      ],
      "execution_count": null,
      "outputs": [
        {
          "output_type": "stream",
          "name": "stdout",
          "text": [
            "Lägsta talet är 2 och dess position är 16 \n",
            "[11, 75, 8, 4, 63, 33, 34, 100, 44, 77, 20, 86, 93, 64, 97, 2]\n",
            "[11, 11, 11, 4, 4, 33, 34, 34, 44, 44, 20, 86, 86, 64, 64, 2]\n"
          ]
        }
      ]
    },
    {
      "cell_type": "code",
      "metadata": {
        "colab": {
          "base_uri": "https://localhost:8080/"
        },
        "id": "x-kfWQjaGXNE",
        "outputId": "694e711f-8d22-49a5-ac65-8236835908eb"
      },
      "source": [
        "l"
      ],
      "execution_count": null,
      "outputs": [
        {
          "output_type": "execute_result",
          "data": {
            "text/plain": [
              "[13, 68, 16, 40, 58, 24, 44, 68, 25, 101, 69, 37, 20, 69, 42]"
            ]
          },
          "metadata": {},
          "execution_count": 231
        }
      ]
    },
    {
      "cell_type": "code",
      "metadata": {
        "colab": {
          "base_uri": "https://localhost:8080/"
        },
        "id": "I2tHtMJsP68d",
        "outputId": "7cbdf42f-393d-42eb-9842-c38d682b3609"
      },
      "source": [
        "max(l)"
      ],
      "execution_count": null,
      "outputs": [
        {
          "output_type": "execute_result",
          "data": {
            "text/plain": [
              "101"
            ]
          },
          "metadata": {},
          "execution_count": 232
        }
      ]
    },
    {
      "cell_type": "code",
      "metadata": {
        "colab": {
          "base_uri": "https://localhost:8080/"
        },
        "id": "lmYcSUVDQcoZ",
        "outputId": "0d70e6f2-116a-402b-b9b3-b5895d2c3c2b"
      },
      "source": [
        "l[len(l)-1]"
      ],
      "execution_count": null,
      "outputs": [
        {
          "output_type": "execute_result",
          "data": {
            "text/plain": [
              "42"
            ]
          },
          "metadata": {},
          "execution_count": 234
        }
      ]
    },
    {
      "cell_type": "code",
      "metadata": {
        "colab": {
          "base_uri": "https://localhost:8080/"
        },
        "id": "dk0rjoDbQkBc",
        "outputId": "25546e92-9b37-44fb-b3cf-16c1a3a23ba0"
      },
      "source": [
        "from random import *\n",
        "newlist=[]\n",
        "t = randint(10,16)\n",
        "l = [randint(1,101) for i in range(t)]\n",
        "minstaTal = min(l)\n",
        "for i in range(0, len(l)-1): \n",
        "  if l[i]== minstaTal:\n",
        "    pos = i+1\n",
        "print(f'Lägsta talet är {minstaTal} och dess position är {pos} ')\n",
        "print(l)\n",
        "\n",
        "\n",
        "  \n",
        "\n",
        "\n",
        "\n",
        "\n",
        "\n",
        "print(l)\n",
        "print(newlist)"
      ],
      "execution_count": null,
      "outputs": [
        {
          "output_type": "stream",
          "name": "stdout",
          "text": [
            "Lägsta talet är 1 och dess position är 12 \n",
            "[4, 90, 62, 58, 38, 14, 22, 35, 69, 100, 82, 1, 98]\n",
            "[4, 90, 62, 58, 38, 14, 22, 35, 69, 100, 82, 1, 98]\n",
            "[]\n"
          ]
        }
      ]
    },
    {
      "cell_type": "code",
      "metadata": {
        "colab": {
          "base_uri": "https://localhost:8080/"
        },
        "id": "8YcwqZbLpF5N",
        "outputId": "dafc1cde-ed52-4d4f-e33c-27894847e5bc"
      },
      "source": [
        "l"
      ],
      "execution_count": null,
      "outputs": [
        {
          "output_type": "execute_result",
          "data": {
            "text/plain": [
              "[1, 21, 58, 53, 10, 14, 91, 10, 4, 98, 83]"
            ]
          },
          "metadata": {},
          "execution_count": 293
        }
      ]
    },
    {
      "cell_type": "code",
      "metadata": {
        "colab": {
          "base_uri": "https://localhost:8080/"
        },
        "id": "J6fqWwOmr4aA",
        "outputId": "dc583c80-7b55-420d-c1ae-9d2d228fbd8c"
      },
      "source": [
        "minstaTal"
      ],
      "execution_count": null,
      "outputs": [
        {
          "output_type": "execute_result",
          "data": {
            "text/plain": [
              "14"
            ]
          },
          "metadata": {},
          "execution_count": 291
        }
      ]
    },
    {
      "cell_type": "markdown",
      "metadata": {
        "id": "33hRUg4LvK8t"
      },
      "source": [
        "# 8 kap Funktioner"
      ]
    },
    {
      "cell_type": "code",
      "metadata": {
        "id": "MXWWGPQsr83t"
      },
      "source": [
        "def kvadrat(x):\n",
        "  return x**2"
      ],
      "execution_count": null,
      "outputs": []
    },
    {
      "cell_type": "code",
      "metadata": {
        "colab": {
          "base_uri": "https://localhost:8080/"
        },
        "id": "6d7RO5WZaDXP",
        "outputId": "152b8d4e-5d82-4af8-bab7-2bf9bbdf67cc"
      },
      "source": [
        "for i in range(11):\n",
        "  print(kvadrat(i), end=' ')"
      ],
      "execution_count": null,
      "outputs": [
        {
          "output_type": "stream",
          "name": "stdout",
          "text": [
            "0 1 4 9 16 25 36 49 64 81 100 "
          ]
        }
      ]
    },
    {
      "cell_type": "code",
      "metadata": {
        "colab": {
          "base_uri": "https://localhost:8080/"
        },
        "id": "Zi0T7LLdaFN-",
        "outputId": "d62b37fa-a94d-4733-d1b6-36602577b4f8"
      },
      "source": [
        "def linje(l):\n",
        "  print('-'*l)\n",
        "linje(24)"
      ],
      "execution_count": null,
      "outputs": [
        {
          "output_type": "stream",
          "name": "stdout",
          "text": [
            "------------------------\n"
          ]
        }
      ]
    },
    {
      "cell_type": "code",
      "metadata": {
        "id": "dKjT31BUa24n"
      },
      "source": [
        "def maximum(x, y):\n",
        "  if x>y:\n",
        "    print(f'{x} är större än {y} ')\n",
        "  if x==y:\n",
        "    print(f'{x} är lika stort som {y} ')\n",
        "  if y>x:\n",
        "    print(f'{x} är mindre än {y} ')\n"
      ],
      "execution_count": null,
      "outputs": []
    },
    {
      "cell_type": "code",
      "metadata": {
        "colab": {
          "base_uri": "https://localhost:8080/"
        },
        "id": "N6mfGwbGa490",
        "outputId": "c5b756d9-554b-4c05-8896-d9c95c4908a1"
      },
      "source": [
        "print(maximum(1, 12))\n",
        "print(maximum(12, 12))\n",
        "print(maximum(12, 1))"
      ],
      "execution_count": null,
      "outputs": [
        {
          "output_type": "stream",
          "name": "stdout",
          "text": [
            "1 är mindre än 12 \n",
            "None\n",
            "12 är lika stort som 12 \n",
            "None\n",
            "12 är större än 1 \n",
            "None\n"
          ]
        }
      ]
    },
    {
      "cell_type": "code",
      "metadata": {
        "id": "49J5AOyub0v6"
      },
      "source": [
        "def maximum3(x, y, z):\n",
        "  if x > y and x >z:\n",
        "    return x\n",
        "  elif y>x and y>z:\n",
        "    return y\n",
        "  else: \n",
        "    return z"
      ],
      "execution_count": null,
      "outputs": []
    },
    {
      "cell_type": "code",
      "metadata": {
        "colab": {
          "base_uri": "https://localhost:8080/"
        },
        "id": "jyfCt6AUdmKN",
        "outputId": "de1ff439-526c-4b7c-cc80-1063aa45e071"
      },
      "source": [
        "maximum3(1, 2,33)"
      ],
      "execution_count": null,
      "outputs": [
        {
          "output_type": "execute_result",
          "data": {
            "text/plain": [
              "33"
            ]
          },
          "metadata": {},
          "execution_count": 48
        }
      ]
    },
    {
      "cell_type": "code",
      "metadata": {
        "colab": {
          "base_uri": "https://localhost:8080/"
        },
        "id": "dBvbnhQSdqX5",
        "outputId": "cccc94a9-92a3-48ae-90f2-a499bde20d75"
      },
      "source": [
        "maximum3(66, 2,33)"
      ],
      "execution_count": null,
      "outputs": [
        {
          "output_type": "execute_result",
          "data": {
            "text/plain": [
              "66"
            ]
          },
          "metadata": {},
          "execution_count": 49
        }
      ]
    },
    {
      "cell_type": "code",
      "metadata": {
        "colab": {
          "base_uri": "https://localhost:8080/"
        },
        "id": "NdV0fmBZdtGS",
        "outputId": "990c3db8-0650-4255-90ee-6169b38ebe2d"
      },
      "source": [
        "maximum3(1, 219,33)"
      ],
      "execution_count": null,
      "outputs": [
        {
          "output_type": "execute_result",
          "data": {
            "text/plain": [
              "219"
            ]
          },
          "metadata": {},
          "execution_count": 50
        }
      ]
    },
    {
      "cell_type": "code",
      "metadata": {
        "colab": {
          "base_uri": "https://localhost:8080/"
        },
        "id": "Cjzc53RtdvW1",
        "outputId": "e1854330-d83d-4c6c-d01f-2330dc59c362"
      },
      "source": [
        "maximum3(1, 1,393)"
      ],
      "execution_count": null,
      "outputs": [
        {
          "output_type": "execute_result",
          "data": {
            "text/plain": [
              "393"
            ]
          },
          "metadata": {},
          "execution_count": 52
        }
      ]
    },
    {
      "cell_type": "code",
      "metadata": {
        "id": "d1Ht7bOOdxFQ"
      },
      "source": [
        "def nettopris(pris):\n",
        "  if pris >=500 and pris <1001:\n",
        "    return pris * .98\n",
        "  elif pris >1001: \n",
        "    return pris *.95\n",
        "  else:\n",
        "    return pris"
      ],
      "execution_count": null,
      "outputs": []
    },
    {
      "cell_type": "code",
      "metadata": {
        "colab": {
          "base_uri": "https://localhost:8080/"
        },
        "id": "GYC1HqZjezoo",
        "outputId": "b0d371c1-5575-4455-a33e-1b9de462192a"
      },
      "source": [
        "nettopris(499)"
      ],
      "execution_count": null,
      "outputs": [
        {
          "output_type": "execute_result",
          "data": {
            "text/plain": [
              "499"
            ]
          },
          "metadata": {},
          "execution_count": 65
        }
      ]
    },
    {
      "cell_type": "code",
      "metadata": {
        "colab": {
          "base_uri": "https://localhost:8080/"
        },
        "id": "-VejxNSme17Z",
        "outputId": "a139f0d8-ab79-4a8b-8d0a-0139232f26d0"
      },
      "source": [
        "nettopris(500)"
      ],
      "execution_count": null,
      "outputs": [
        {
          "output_type": "execute_result",
          "data": {
            "text/plain": [
              "490.0"
            ]
          },
          "metadata": {},
          "execution_count": 67
        }
      ]
    },
    {
      "cell_type": "code",
      "metadata": {
        "colab": {
          "base_uri": "https://localhost:8080/"
        },
        "id": "AGeBEmrhe42V",
        "outputId": "6025ff64-c78c-4af3-ea6e-cfddffe76cbb"
      },
      "source": [
        "nettopris(1012)"
      ],
      "execution_count": null,
      "outputs": [
        {
          "output_type": "execute_result",
          "data": {
            "text/plain": [
              "961.4"
            ]
          },
          "metadata": {},
          "execution_count": 68
        }
      ]
    },
    {
      "cell_type": "code",
      "metadata": {
        "colab": {
          "base_uri": "https://localhost:8080/"
        },
        "id": "AQXK4Yl8fB3b",
        "outputId": "a17605cc-4342-4612-c692-c66ff8c6f63c"
      },
      "source": [
        "print(nettopris(43333))"
      ],
      "execution_count": null,
      "outputs": [
        {
          "output_type": "stream",
          "name": "stdout",
          "text": [
            "41166.35\n"
          ]
        }
      ]
    },
    {
      "cell_type": "code",
      "metadata": {
        "id": "LPVIUWikfPxA"
      },
      "source": [
        "def calc(tal1, tal2, operator):\n",
        "  if operator == '+':\n",
        "    return tal1 + tal2\n",
        "  if operator == '-':\n",
        "    return tal1 - tal2\n",
        "  if operator == '*':\n",
        "    return tal1 * tal2"
      ],
      "execution_count": null,
      "outputs": []
    },
    {
      "cell_type": "code",
      "metadata": {
        "colab": {
          "base_uri": "https://localhost:8080/"
        },
        "id": "BpP8e36pgCfJ",
        "outputId": "b802db08-5223-46a9-897f-855fa1f07302"
      },
      "source": [
        "calc(2, 8, '+')"
      ],
      "execution_count": null,
      "outputs": [
        {
          "output_type": "execute_result",
          "data": {
            "text/plain": [
              "10"
            ]
          },
          "metadata": {},
          "execution_count": 95
        }
      ]
    },
    {
      "cell_type": "code",
      "metadata": {
        "colab": {
          "base_uri": "https://localhost:8080/"
        },
        "id": "mVb_wd1wgO11",
        "outputId": "6c20426c-6901-4e8d-8890-7b8053c0a0ab"
      },
      "source": [
        "resultat = calc(2, 44, '*')\n",
        "print(resultat)"
      ],
      "execution_count": null,
      "outputs": [
        {
          "output_type": "stream",
          "name": "stdout",
          "text": [
            "88\n"
          ]
        }
      ]
    },
    {
      "cell_type": "code",
      "metadata": {
        "id": "mUNejKEFjbp-",
        "colab": {
          "base_uri": "https://localhost:8080/"
        },
        "outputId": "6a73031a-a549-478a-8b2c-227eecc22982"
      },
      "source": [
        "import math\n",
        "\n",
        "def cirkelarea(x):\n",
        "  return math.sqrt(x/math.pi)\n",
        "\n",
        "def main(): \n",
        "  tal = float(input('Ange cirklens area '))\n",
        "  enhet = input('Ange areaenhet, kvadratmillimeter, kvadratcentimeter, kvadratdecimeter, kradratmeter ')\n",
        "  s= ''\n",
        "  if enhet == 'kvadratmillimeter':\n",
        "    s= 'millimeter'\n",
        "  elif enhet == 'kvadratcentimeter':\n",
        "    s = 'centimeter'\n",
        "  print(f'En cirkel med arean {tal} {enhet} har en radie på {cirkelarea(tal)} {s} ')\n",
        "\n",
        "main()"
      ],
      "execution_count": null,
      "outputs": [
        {
          "output_type": "stream",
          "name": "stdout",
          "text": [
            "Ange cirklens area 314\n",
            "Ange areaenhet, kvadratmillimeter, kvadratcentimeter, kvadratdecimeter, kradratmeter kvadratcentimeter\n",
            "En cirkel med arean 314.0 kvadratcentimeter har en radie på 9.997464891746821 centimeter \n"
          ]
        }
      ]
    },
    {
      "cell_type": "code",
      "metadata": {
        "colab": {
          "base_uri": "https://localhost:8080/"
        },
        "id": "njSuSeDTmB-i",
        "outputId": "fdb12c87-55e2-481d-a6af-9d0ab3385168"
      },
      "source": [
        "cirkelarea(78.539816339745, 'kvadratcentimeter')"
      ],
      "execution_count": null,
      "outputs": [
        {
          "output_type": "execute_result",
          "data": {
            "text/plain": [
              "(5.000000000000005, 'centimeter')"
            ]
          },
          "metadata": {},
          "execution_count": 20
        }
      ]
    },
    {
      "cell_type": "code",
      "metadata": {
        "id": "P2Iz7pyhj-Qs",
        "colab": {
          "base_uri": "https://localhost:8080/"
        },
        "outputId": "48f8712f-bf96-4a4a-964a-aec10d144050"
      },
      "source": [
        "lista = [1, 1]\n",
        "for i in range(2,40):\n",
        "        lista.append(lista[i-2]+lista[i-1])\n",
        "\n",
        "print(lista)"
      ],
      "execution_count": 132,
      "outputs": [
        {
          "output_type": "stream",
          "name": "stdout",
          "text": [
            "[1, 1, 2, 3, 5, 8, 13, 21, 34, 55, 89, 144, 233, 377, 610, 987, 1597, 2584, 4181, 6765, 10946, 17711, 28657, 46368, 75025, 121393, 196418, 317811, 514229, 832040, 1346269, 2178309, 3524578, 5702887, 9227465, 14930352, 24157817, 39088169, 63245986, 102334155]\n"
          ]
        }
      ]
    },
    {
      "cell_type": "code",
      "metadata": {
        "id": "L591wiI8vTT5"
      },
      "source": [
        "def fibosteps(i):\n",
        "  tal1 = 0\n",
        "  tal2 = 1\n",
        "  tal3 = 0\n",
        "  tmp = 0\n",
        "  for x in range(i):\n",
        "    tal3 = tal1+tal2\n",
        "    fibolist.append(tal3)\n",
        "    tmp = tal2\n",
        "    tal2 = tal3\n",
        "    tal1 = tmp\n",
        "\n",
        "  return tal3\n",
        "\n",
        " \n",
        "\n",
        "  \n",
        "    "
      ],
      "execution_count": 169,
      "outputs": []
    },
    {
      "cell_type": "code",
      "metadata": {
        "colab": {
          "base_uri": "https://localhost:8080/"
        },
        "id": "vaqzY2Q58KoG",
        "outputId": "ef6eaf3b-fc2e-41a6-a91a-d2fc59f87f4e"
      },
      "source": [
        "fibosteps(11)\n"
      ],
      "execution_count": 170,
      "outputs": [
        {
          "output_type": "execute_result",
          "data": {
            "text/plain": [
              "144"
            ]
          },
          "metadata": {},
          "execution_count": 170
        }
      ]
    },
    {
      "cell_type": "code",
      "metadata": {
        "id": "y0DokGu44XCU"
      },
      "source": [
        "def test(x):\n",
        "  return x+x"
      ],
      "execution_count": 143,
      "outputs": []
    },
    {
      "cell_type": "code",
      "metadata": {
        "colab": {
          "base_uri": "https://localhost:8080/"
        },
        "id": "m9CC4BW14e0j",
        "outputId": "f239b548-f197-49c2-977f-8f2016b8b50a"
      },
      "source": [
        "test(8)"
      ],
      "execution_count": 144,
      "outputs": [
        {
          "output_type": "execute_result",
          "data": {
            "text/plain": [
              "16"
            ]
          },
          "metadata": {},
          "execution_count": 144
        }
      ]
    },
    {
      "cell_type": "code",
      "metadata": {
        "colab": {
          "base_uri": "https://localhost:8080/",
          "height": 293
        },
        "id": "yAJyDokQvyCe",
        "outputId": "1f108d48-186c-4f10-ded3-c0fb2050ca07"
      },
      "source": [
        "fibosteps(10)"
      ],
      "execution_count": 145,
      "outputs": [
        {
          "output_type": "error",
          "ename": "IndexError",
          "evalue": "ignored",
          "traceback": [
            "\u001b[0;31m---------------------------------------------------------------------------\u001b[0m",
            "\u001b[0;31mIndexError\u001b[0m                                Traceback (most recent call last)",
            "\u001b[0;32m<ipython-input-145-c718d13130f3>\u001b[0m in \u001b[0;36m<module>\u001b[0;34m()\u001b[0m\n\u001b[0;32m----> 1\u001b[0;31m \u001b[0mfibosteps\u001b[0m\u001b[0;34m(\u001b[0m\u001b[0;36m10\u001b[0m\u001b[0;34m)\u001b[0m\u001b[0;34m\u001b[0m\u001b[0;34m\u001b[0m\u001b[0m\n\u001b[0m",
            "\u001b[0;32m<ipython-input-142-421e64482411>\u001b[0m in \u001b[0;36mfibosteps\u001b[0;34m(x)\u001b[0m\n\u001b[1;32m      2\u001b[0m   \u001b[0mflista\u001b[0m \u001b[0;34m=\u001b[0m \u001b[0;34m[\u001b[0m\u001b[0;36m1\u001b[0m\u001b[0;34m,\u001b[0m \u001b[0;36m1\u001b[0m\u001b[0;34m]\u001b[0m\u001b[0;34m\u001b[0m\u001b[0;34m\u001b[0m\u001b[0m\n\u001b[1;32m      3\u001b[0m   \u001b[0;32mfor\u001b[0m \u001b[0mi\u001b[0m \u001b[0;32min\u001b[0m \u001b[0mrange\u001b[0m\u001b[0;34m(\u001b[0m\u001b[0;36m2\u001b[0m\u001b[0;34m,\u001b[0m\u001b[0mx\u001b[0m\u001b[0;34m+\u001b[0m\u001b[0;36m1\u001b[0m\u001b[0;34m)\u001b[0m\u001b[0;34m:\u001b[0m\u001b[0;34m\u001b[0m\u001b[0;34m\u001b[0m\u001b[0m\n\u001b[0;32m----> 4\u001b[0;31m     \u001b[0mlista\u001b[0m\u001b[0;34m.\u001b[0m\u001b[0mappend\u001b[0m\u001b[0;34m(\u001b[0m\u001b[0mflista\u001b[0m\u001b[0;34m[\u001b[0m\u001b[0mi\u001b[0m\u001b[0;34m-\u001b[0m\u001b[0;36m2\u001b[0m\u001b[0;34m]\u001b[0m\u001b[0;34m+\u001b[0m\u001b[0mflista\u001b[0m\u001b[0;34m[\u001b[0m\u001b[0mi\u001b[0m\u001b[0;34m-\u001b[0m\u001b[0;36m1\u001b[0m\u001b[0;34m]\u001b[0m\u001b[0;34m)\u001b[0m\u001b[0;34m\u001b[0m\u001b[0;34m\u001b[0m\u001b[0m\n\u001b[0m\u001b[1;32m      5\u001b[0m   \u001b[0;32mreturn\u001b[0m \u001b[0mflista\u001b[0m\u001b[0;34m\u001b[0m\u001b[0;34m\u001b[0m\u001b[0m\n\u001b[1;32m      6\u001b[0m \u001b[0;34m\u001b[0m\u001b[0m\n",
            "\u001b[0;31mIndexError\u001b[0m: list index out of range"
          ]
        }
      ]
    },
    {
      "cell_type": "code",
      "metadata": {
        "colab": {
          "base_uri": "https://localhost:8080/"
        },
        "id": "QS75GX0C0rDS",
        "outputId": "d9ffbad5-94e7-4573-b024-0d6b0cf100fd"
      },
      "source": [
        "\n",
        "lista"
      ],
      "execution_count": 129,
      "outputs": [
        {
          "output_type": "execute_result",
          "data": {
            "text/plain": [
              "[1,\n",
              " 1,\n",
              " 2,\n",
              " 3,\n",
              " 5,\n",
              " 8,\n",
              " 13,\n",
              " 21,\n",
              " 34,\n",
              " 55,\n",
              " 89,\n",
              " 144,\n",
              " 233,\n",
              " 377,\n",
              " 610,\n",
              " 987,\n",
              " 1597,\n",
              " 2584,\n",
              " 4181,\n",
              " 6765,\n",
              " 10946,\n",
              " 17711,\n",
              " 28657,\n",
              " 46368,\n",
              " 75025,\n",
              " 121393,\n",
              " 196418,\n",
              " 317811,\n",
              " 514229,\n",
              " 832040,\n",
              " 1346269,\n",
              " 2178309,\n",
              " 3524578,\n",
              " 5702887,\n",
              " 9227465,\n",
              " 14930352,\n",
              " 24157817,\n",
              " 39088169,\n",
              " 63245986,\n",
              " 102334155]"
            ]
          },
          "metadata": {},
          "execution_count": 129
        }
      ]
    },
    {
      "cell_type": "markdown",
      "metadata": {
        "id": "ZZvSoZrJqjWu"
      },
      "source": [
        "kvoten av föregående tal"
      ]
    },
    {
      "cell_type": "code",
      "metadata": {
        "colab": {
          "base_uri": "https://localhost:8080/"
        },
        "id": "fU7XgvXBpgiK",
        "outputId": "437b8604-9062-4bbd-d13d-258c650e34d4"
      },
      "source": [
        "kvotlista=[]\n",
        "for i in range(0, len(lista)):\n",
        "  kvotlista.append(lista[i-1]/lista[i-2])\n",
        "\n",
        "print(kvotlista)"
      ],
      "execution_count": 124,
      "outputs": [
        {
          "output_type": "stream",
          "name": "stdout",
          "text": [
            "[1.6180339887498947, 9.77190850894308e-09, 1.0, 2.0, 1.5, 1.6666666666666667, 1.6, 1.625, 1.6153846153846154, 1.619047619047619, 1.6176470588235294, 1.6181818181818182, 1.6179775280898876, 1.6180555555555556, 1.6180257510729614, 1.6180371352785146, 1.618032786885246, 1.618034447821682, 1.6180338134001253, 1.618034055727554, 1.6180339631667064, 1.6180339985218033, 1.618033985017358, 1.6180339901755971, 1.618033988205325, 1.618033988957902, 1.6180339886704431, 1.6180339887802426, 1.618033988738303, 1.6180339887543225, 1.6180339887482036, 1.6180339887505408, 1.6180339887496482, 1.618033988749989, 1.618033988749859, 1.6180339887499087, 1.6180339887498896, 1.618033988749897, 1.618033988749894, 1.6180339887498951]\n"
          ]
        }
      ]
    },
    {
      "cell_type": "code",
      "metadata": {
        "colab": {
          "base_uri": "https://localhost:8080/"
        },
        "id": "gLs8LLLcq_53",
        "outputId": "2531fdcc-400a-4bf1-f5c9-af4fa167a4ba"
      },
      "source": [
        "for i in range(1, len(lista)):\n",
        "  kvot = lista[i] / lista[i-1]\n",
        "  print(i,':',kvot)\n",
        "  print()\n",
        "\n"
      ],
      "execution_count": 49,
      "outputs": [
        {
          "output_type": "stream",
          "name": "stdout",
          "text": [
            "1 : 1.0\n",
            "\n",
            "2 : 2.0\n",
            "\n",
            "3 : 1.5\n",
            "\n",
            "4 : 1.6666666666666667\n",
            "\n",
            "5 : 1.6\n",
            "\n",
            "6 : 1.625\n",
            "\n",
            "7 : 1.6153846153846154\n",
            "\n",
            "8 : 1.619047619047619\n",
            "\n",
            "9 : 1.6176470588235294\n",
            "\n",
            "10 : 1.6181818181818182\n",
            "\n",
            "11 : 1.6179775280898876\n",
            "\n",
            "12 : 1.6180555555555556\n",
            "\n",
            "13 : 1.6180257510729614\n",
            "\n",
            "14 : 1.6180371352785146\n",
            "\n",
            "15 : 1.618032786885246\n",
            "\n",
            "16 : 1.618034447821682\n",
            "\n",
            "17 : 1.6180338134001253\n",
            "\n",
            "18 : 1.618034055727554\n",
            "\n",
            "19 : 1.6180339631667064\n",
            "\n",
            "20 : 1.6180339985218033\n",
            "\n",
            "21 : 1.618033985017358\n",
            "\n",
            "22 : 1.6180339901755971\n",
            "\n",
            "23 : 1.618033988205325\n",
            "\n",
            "24 : 1.618033988957902\n",
            "\n",
            "25 : 1.6180339886704431\n",
            "\n",
            "26 : 1.6180339887802426\n",
            "\n",
            "27 : 1.618033988738303\n",
            "\n",
            "28 : 1.6180339887543225\n",
            "\n",
            "29 : 1.6180339887482036\n",
            "\n",
            "30 : 1.6180339887505408\n",
            "\n",
            "31 : 1.6180339887496482\n",
            "\n",
            "32 : 1.618033988749989\n",
            "\n",
            "33 : 1.618033988749859\n",
            "\n",
            "34 : 1.6180339887499087\n",
            "\n",
            "35 : 1.6180339887498896\n",
            "\n",
            "36 : 1.618033988749897\n",
            "\n",
            "37 : 1.618033988749894\n",
            "\n",
            "38 : 1.6180339887498951\n",
            "\n",
            "39 : 1.6180339887498947\n",
            "\n"
          ]
        }
      ]
    },
    {
      "cell_type": "code",
      "metadata": {
        "colab": {
          "base_uri": "https://localhost:8080/"
        },
        "id": "6KRllvSAspUS",
        "outputId": "0d548a52-8c3c-402d-9da7-4002e405cc1a"
      },
      "source": [
        "kvotlista[len(kvotlista)-1]"
      ],
      "execution_count": 50,
      "outputs": [
        {
          "output_type": "execute_result",
          "data": {
            "text/plain": [
              "1.6180339887498951"
            ]
          },
          "metadata": {},
          "execution_count": 50
        }
      ]
    },
    {
      "cell_type": "code",
      "metadata": {
        "colab": {
          "base_uri": "https://localhost:8080/"
        },
        "id": "4I2Ay4Kbs6HK",
        "outputId": "4471080f-c711-4d1b-c098-7381043c7d2a"
      },
      "source": [
        "import math\n",
        "from math import sqrt\n",
        "fi = (1+ sqrt(5))/2\n",
        "print(fi)"
      ],
      "execution_count": 56,
      "outputs": [
        {
          "output_type": "stream",
          "name": "stdout",
          "text": [
            "1.618033988749895\n"
          ]
        }
      ]
    },
    {
      "cell_type": "code",
      "metadata": {
        "id": "Gm18d1mbukml"
      },
      "source": [
        ""
      ],
      "execution_count": null,
      "outputs": []
    },
    {
      "cell_type": "markdown",
      "metadata": {
        "id": "9mfIu6aIAsi4"
      },
      "source": [
        "# 9 kap Slumptal i programmering"
      ]
    },
    {
      "cell_type": "markdown",
      "metadata": {
        "id": "hXWAyqgZF956"
      },
      "source": [
        ""
      ]
    },
    {
      "cell_type": "code",
      "metadata": {
        "id": "qZx_ZaNPEIvt"
      },
      "source": [
        "import random"
      ],
      "execution_count": 191,
      "outputs": []
    },
    {
      "cell_type": "markdown",
      "metadata": {
        "id": "bQAxNJnoGA-8"
      },
      "source": [
        "Slumpa fram ren lottorad"
      ]
    },
    {
      "cell_type": "code",
      "metadata": {
        "colab": {
          "base_uri": "https://localhost:8080/"
        },
        "id": "Xuep534VAyLz",
        "outputId": "1ca633da-4cbb-4a4b-e61a-61d9583ac91a"
      },
      "source": [
        "import random \n",
        "lotto= []\n",
        "for i in range(6):\n",
        "  lotto.append(randint(1, 36))\n",
        "print(lotto)\n"
      ],
      "execution_count": 194,
      "outputs": [
        {
          "output_type": "stream",
          "name": "stdout",
          "text": [
            "[23, 7, 24, 36, 16, 35]\n"
          ]
        }
      ]
    },
    {
      "cell_type": "markdown",
      "metadata": {
        "id": "qFHyyjeSGEs1"
      },
      "source": [
        "Slumpa en lottorad med unika tal"
      ]
    },
    {
      "cell_type": "code",
      "metadata": {
        "colab": {
          "base_uri": "https://localhost:8080/"
        },
        "id": "Eamx4XJ1A7UY",
        "outputId": "9367e33d-4f30-4891-867e-21cc1328747e"
      },
      "source": [
        "# använder funktionen sample() isft randint()\n",
        "lotto= []\n",
        "for i in range(6):\n",
        "  lotto= (sample(range(1, 36), 7))\n",
        "print(lotto)\n",
        "\n"
      ],
      "execution_count": 199,
      "outputs": [
        {
          "output_type": "stream",
          "name": "stdout",
          "text": [
            "[2, 28, 6, 5, 11, 25, 7]\n"
          ]
        }
      ]
    },
    {
      "cell_type": "code",
      "metadata": {
        "id": "rYdWA9V9B9e1"
      },
      "source": [
        ""
      ],
      "execution_count": 199,
      "outputs": []
    },
    {
      "cell_type": "code",
      "metadata": {
        "id": "1Doo8dkTDgqs"
      },
      "source": [
        "randrange"
      ],
      "execution_count": null,
      "outputs": []
    }
  ]
}