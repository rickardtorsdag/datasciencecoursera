{
  "nbformat": 4,
  "nbformat_minor": 0,
  "metadata": {
    "colab": {
      "name": "ex1.ipynb",
      "provenance": [],
      "authorship_tag": "ABX9TyOAH8wsnAQOQfFfPKgByLR5",
      "include_colab_link": true
    },
    "kernelspec": {
      "name": "python3",
      "display_name": "Python 3"
    },
    "language_info": {
      "name": "python"
    }
  },
  "cells": [
    {
      "cell_type": "markdown",
      "metadata": {
        "id": "view-in-github",
        "colab_type": "text"
      },
      "source": [
        "<a href=\"https://colab.research.google.com/github/rickardtorsdag/datasciencecoursera/blob/master/ex1.ipynb\" target=\"_parent\"><img src=\"https://colab.research.google.com/assets/colab-badge.svg\" alt=\"Open In Colab\"/></a>"
      ]
    },
    {
      "cell_type": "code",
      "metadata": {
        "id": "FC4SHWCggucZ"
      },
      "source": [
        "import pandas as pd"
      ],
      "execution_count": null,
      "outputs": []
    },
    {
      "cell_type": "code",
      "metadata": {
        "colab": {
          "base_uri": "https://localhost:8080/"
        },
        "id": "oMrrwQzAg0BQ",
        "outputId": "f789edf1-c39b-4aa3-960d-1239aff1a337"
      },
      "source": [
        "# First import struct module.\n",
        ">>> import struct \n",
        ">>>\n",
        "# Return 64 means 64-bit version, return 32 means 32-bit version.\n",
        ">>> version = struct.calcsize(\"P\")*8 \n",
        ">>>\n",
        ">>> print(version)\n"
      ],
      "execution_count": null,
      "outputs": [
        {
          "output_type": "stream",
          "text": [
            "64\n"
          ],
          "name": "stdout"
        }
      ]
    },
    {
      "cell_type": "code",
      "metadata": {
        "colab": {
          "base_uri": "https://localhost:8080/"
        },
        "id": "D3E3d6QNhoVF",
        "outputId": "803b1d5d-5aa3-487c-cee5-64032d6c1b6e"
      },
      "source": [
        "import os, platform\n",
        "print(\"Operating system name:\")\n",
        "print(os.name)"
      ],
      "execution_count": null,
      "outputs": [
        {
          "output_type": "stream",
          "text": [
            "Operating system name:\n",
            "posix\n"
          ],
          "name": "stdout"
        }
      ]
    },
    {
      "cell_type": "code",
      "metadata": {
        "colab": {
          "base_uri": "https://localhost:8080/"
        },
        "id": "5YKYwEdnh8cJ",
        "outputId": "9cd43e44-d76f-4b55-9aad-25e1c05b148f"
      },
      "source": [
        "import os, platform\n",
        "print(\"Operating system name:\")\n",
        "print(os.name)\n",
        "print(\"Platform name:\")\n",
        "print(platform.system())\n",
        "print(\"Platform release:\")\n",
        "print(platform.release())"
      ],
      "execution_count": null,
      "outputs": [
        {
          "output_type": "stream",
          "text": [
            "Operating system name:\n",
            "posix\n",
            "Platform name:\n",
            "Linux\n",
            "Platform release:\n",
            "5.4.104+\n"
          ],
          "name": "stdout"
        }
      ]
    },
    {
      "cell_type": "code",
      "metadata": {
        "colab": {
          "base_uri": "https://localhost:8080/"
        },
        "id": "XdB0gj0SiBzS",
        "outputId": "4c0e1c1b-9e2e-457b-af17-219ecbb96ba9"
      },
      "source": [
        "import os\n",
        "import sys\n",
        "import platform\n",
        "import sysconfig\n",
        "print(\"os.name                     \", os.name)\n",
        "print(\"sys.platform                \", sys.platform)\n",
        "print(\"platform.system()           \", platform.system())\n",
        "print(\"sysconfig.get_platform()    \", sysconfig.get_platform())\n",
        "print(\"platform.machine()          \", platform.machine())\n",
        "print(\"platform.architecture()     \", platform.architecture())\n"
      ],
      "execution_count": null,
      "outputs": [
        {
          "output_type": "stream",
          "text": [
            "os.name                      posix\n",
            "sys.platform                 linux\n",
            "platform.system()            Linux\n",
            "sysconfig.get_platform()     linux-x86_64\n",
            "platform.machine()           x86_64\n",
            "platform.architecture()      ('64bit', '')\n"
          ],
          "name": "stdout"
        }
      ]
    },
    {
      "cell_type": "code",
      "metadata": {
        "colab": {
          "base_uri": "https://localhost:8080/"
        },
        "id": "gXuIqxJHiH4c",
        "outputId": "aff3b40a-5946-4855-e818-966d17fccc28"
      },
      "source": [
        "import multiprocessing\n",
        "print(multiprocessing.cpu_count())\n"
      ],
      "execution_count": null,
      "outputs": [
        {
          "output_type": "stream",
          "text": [
            "2\n"
          ],
          "name": "stdout"
        }
      ]
    },
    {
      "cell_type": "code",
      "metadata": {
        "colab": {
          "base_uri": "https://localhost:8080/"
        },
        "id": "6z_w7z5FiTfx",
        "outputId": "5c93712b-ebbe-42ff-e450-0da7399589de"
      },
      "source": [
        ""
      ],
      "execution_count": null,
      "outputs": [
        {
          "output_type": "stream",
          "text": [
            "Tal   Kvadrat   Kub\n",
            "===================\n",
            "  1       1       1\n",
            "  2       4       8\n",
            "  3       9      27\n",
            "  4      16      64\n",
            "  5      25     125\n",
            "  6      36     216\n",
            "  7      49     343\n",
            "  8      64     512\n",
            "  9      81     729\n",
            " 10     100    1000\n",
            " 11     121    1331\n",
            " 12     144    1728\n",
            " 13     169    2197\n",
            " 14     196    2744\n",
            " 15     225    3375\n",
            " 16     256    4096\n",
            " 17     289    4913\n",
            " 18     324    5832\n",
            " 19     361    6859\n",
            " 20     400    8000\n"
          ],
          "name": "stdout"
        }
      ]
    },
    {
      "cell_type": "code",
      "metadata": {
        "colab": {
          "base_uri": "https://localhost:8080/"
        },
        "id": "uJfuoUUiE8WA",
        "outputId": "a5bd70a1-be19-4ba9-af53-3bd4916486c6"
      },
      "source": [
        "mening = input('Ange en mening på svenska: ')\n",
        "vok=  'aouåeiyäö'\n",
        "kons =' bcdfghjklmnpqrstvzx.'\n",
        "ny = ''\n",
        "\n",
        "for i in mening:\n",
        "  if i in kons: \n",
        "    ny += i+'o'+i\n",
        "  else:\n",
        "    ny += i\n",
        "print(ny)\n"
      ],
      "execution_count": null,
      "outputs": [
        {
          "output_type": "stream",
          "text": [
            "Ange en mening på svenska: klantskalle\n",
            "koklolanontotsoskokalollole\n"
          ],
          "name": "stdout"
        }
      ]
    },
    {
      "cell_type": "code",
      "metadata": {
        "colab": {
          "base_uri": "https://localhost:8080/"
        },
        "id": "IrhM1LiHF_sG",
        "outputId": "9ce26b94-892f-4834-b654-7f2770548677"
      },
      "source": [
        "mening = input('Ange en mening på svenska: ')\n",
        "\n",
        "# Konvertera den inmatade meningen till stora bokstäver för att minska antal\n",
        "# jämförelser\n",
        "attÖversätta = mening.upper()\n",
        "\n",
        "# Sträng med alla konsonanter som används vid jämförelse mot den VERSALA \n",
        "# meningen i strängen attÖversätta\n",
        "konsonanter = 'BCDFGHJKLMNPQRSTVWXZ'\n",
        "\n",
        "# Initiera en ny sträng som ska lagra rövarspråket\n",
        "nyMening = ''\n",
        "\n",
        "# Yttre loopför att gå igenom alla tecken som finns i meingen\n",
        "for tecken in attÖversätta:\n",
        "    # Inre loop för att testa varje tecken i meningen om det är en konsonant\n",
        "    for konsonant in konsonanter:\n",
        "        # Om tecknet är en konsonant lägg in konsonant + o  \n",
        "        if tecken == konsonant:\n",
        "            nyMening += tecken + 'O'\n",
        "            break # Om konsonant hittats sluta leta efter fler\n",
        "\n",
        "    # Omingen konsonant hittades lägg till vokalen, eller \n",
        "    # avsluta med samma konsonant igen då rövarspråk kräva så\n",
        "    nyMening += tecken\n",
        "\n",
        "# Ändra den nya meningen till Inlednade stor bokstav\n",
        "nyMening = nyMening.capitalize()\n",
        "\n",
        "# Skriv ut den nya meningen\n",
        "print('\\nBlir på rövarspråket: \\n\\n' + nyMening)"
      ],
      "execution_count": null,
      "outputs": [
        {
          "output_type": "stream",
          "text": [
            "Ange en mening på svenska: klantskalle\n",
            "\n",
            "Blir på rövarspråket: \n",
            "\n",
            "Koklolanontotsoskokalollole\n"
          ],
          "name": "stdout"
        }
      ]
    },
    {
      "cell_type": "code",
      "metadata": {
        "id": "hGh5VXskLB4k"
      },
      "source": [
        "koloanotosokoaloloe\n",
        "Koklolanontotsoskokalollole\n",
        "koklolanontotsoskokalollole\n",
        "\n"
      ],
      "execution_count": null,
      "outputs": []
    },
    {
      "cell_type": "code",
      "metadata": {
        "colab": {
          "base_uri": "https://localhost:8080/"
        },
        "id": "V-q5aeFALLvw",
        "outputId": "de81cdb6-7b89-4d0c-be1f-2a5c6065e1ca"
      },
      "source": [
        "float(1.25433433)"
      ],
      "execution_count": null,
      "outputs": [
        {
          "output_type": "execute_result",
          "data": {
            "text/plain": [
              "1.25433433"
            ]
          },
          "metadata": {
            "tags": []
          },
          "execution_count": 51
        }
      ]
    },
    {
      "cell_type": "code",
      "metadata": {
        "colab": {
          "base_uri": "https://localhost:8080/"
        },
        "id": "fvvNwi7QdM5b",
        "outputId": "41a0f590-7f17-413a-e97d-3e2a58632780"
      },
      "source": [
        "int(1.2)"
      ],
      "execution_count": null,
      "outputs": [
        {
          "output_type": "execute_result",
          "data": {
            "text/plain": [
              "1"
            ]
          },
          "metadata": {
            "tags": []
          },
          "execution_count": 49
        }
      ]
    },
    {
      "cell_type": "code",
      "metadata": {
        "colab": {
          "base_uri": "https://localhost:8080/"
        },
        "id": "CpMMLJR-dPsY",
        "outputId": "92695643-dbfb-4a60-99d7-3465c59b8c86"
      },
      "source": [
        "int('3')"
      ],
      "execution_count": null,
      "outputs": [
        {
          "output_type": "execute_result",
          "data": {
            "text/plain": [
              "3"
            ]
          },
          "metadata": {
            "tags": []
          },
          "execution_count": 53
        }
      ]
    },
    {
      "cell_type": "code",
      "metadata": {
        "colab": {
          "base_uri": "https://localhost:8080/"
        },
        "id": "zjOnPH9CtjYJ",
        "outputId": "96ff026e-87bb-4467-c81e-6375a15ffa1c"
      },
      "source": [
        "for i in range(0,10):\n",
        "  print('*', end='')\n",
        "  print('\\n')"
      ],
      "execution_count": null,
      "outputs": [
        {
          "output_type": "stream",
          "text": [
            "*\n",
            "\n",
            "*\n",
            "\n",
            "*\n",
            "\n",
            "*\n",
            "\n",
            "*\n",
            "\n",
            "*\n",
            "\n",
            "*\n",
            "\n",
            "*\n",
            "\n",
            "*\n",
            "\n",
            "*\n",
            "\n"
          ],
          "name": "stdout"
        }
      ]
    },
    {
      "cell_type": "code",
      "metadata": {
        "colab": {
          "base_uri": "https://localhost:8080/"
        },
        "id": "ttop8pQ9upSg",
        "outputId": "572a22fe-6f01-442c-d037-6daf12a2edc0"
      },
      "source": [
        "for i in range(0,10):\n",
        "  print('*')\n",
        "  print('\\n')"
      ],
      "execution_count": null,
      "outputs": [
        {
          "output_type": "stream",
          "text": [
            "*\n",
            "\n",
            "\n",
            "*\n",
            "\n",
            "\n",
            "*\n",
            "\n",
            "\n",
            "*\n",
            "\n",
            "\n",
            "*\n",
            "\n",
            "\n",
            "*\n",
            "\n",
            "\n",
            "*\n",
            "\n",
            "\n",
            "*\n",
            "\n",
            "\n",
            "*\n",
            "\n",
            "\n",
            "*\n",
            "\n",
            "\n"
          ],
          "name": "stdout"
        }
      ]
    },
    {
      "cell_type": "code",
      "metadata": {
        "colab": {
          "base_uri": "https://localhost:8080/"
        },
        "id": "D9W3hkHruzKe",
        "outputId": "f73b2211-add0-4854-b7f0-da1e7ea50e04"
      },
      "source": [
        "import cProfile\n",
        "def sum():\n",
        "    print(1+2)\n",
        "cProfile.run('sum()')"
      ],
      "execution_count": null,
      "outputs": [
        {
          "output_type": "stream",
          "text": [
            "3\n",
            "         39 function calls in 0.001 seconds\n",
            "\n",
            "   Ordered by: standard name\n",
            "\n",
            "   ncalls  tottime  percall  cumtime  percall filename:lineno(function)\n",
            "        1    0.000    0.000    0.001    0.001 <ipython-input-6-db52c97772c7>:2(sum)\n",
            "        1    0.000    0.000    0.001    0.001 <string>:1(<module>)\n",
            "        3    0.000    0.000    0.001    0.000 iostream.py:195(schedule)\n",
            "        2    0.000    0.000    0.000    0.000 iostream.py:307(_is_master_process)\n",
            "        2    0.000    0.000    0.000    0.000 iostream.py:320(_schedule_flush)\n",
            "        2    0.000    0.000    0.001    0.000 iostream.py:382(write)\n",
            "        3    0.000    0.000    0.000    0.000 iostream.py:93(_event_pipe)\n",
            "        3    0.001    0.000    0.001    0.000 socket.py:438(send)\n",
            "        3    0.000    0.000    0.000    0.000 threading.py:1050(_wait_for_tstate_lock)\n",
            "        3    0.000    0.000    0.000    0.000 threading.py:1092(is_alive)\n",
            "        3    0.000    0.000    0.000    0.000 threading.py:507(is_set)\n",
            "        1    0.000    0.000    0.001    0.001 {built-in method builtins.exec}\n",
            "        2    0.000    0.000    0.000    0.000 {built-in method builtins.isinstance}\n",
            "        1    0.000    0.000    0.001    0.001 {built-in method builtins.print}\n",
            "        2    0.000    0.000    0.000    0.000 {built-in method posix.getpid}\n",
            "        3    0.000    0.000    0.000    0.000 {method 'acquire' of '_thread.lock' objects}\n",
            "        3    0.000    0.000    0.000    0.000 {method 'append' of 'collections.deque' objects}\n",
            "        1    0.000    0.000    0.000    0.000 {method 'disable' of '_lsprof.Profiler' objects}\n",
            "\n",
            "\n"
          ],
          "name": "stdout"
        }
      ]
    },
    {
      "cell_type": "code",
      "metadata": {
        "colab": {
          "base_uri": "https://localhost:8080/"
        },
        "id": "oyMSCeKDvB6m",
        "outputId": "d15f220b-ecba-4e86-a90b-e6ac0d04bd12"
      },
      "source": [
        "from __future__ import print_function\n",
        "import sys\n",
        "\n",
        "def eprint(*args, **kwargs):\n",
        "    print(*args, file=sys.stderr, **kwargs)\n",
        "\n",
        "eprint(\"abc\", \"efg\", \"xyz\", sep=\"--\")\n"
      ],
      "execution_count": null,
      "outputs": [
        {
          "output_type": "stream",
          "text": [
            "abc--efg--xyz\n"
          ],
          "name": "stderr"
        }
      ]
    },
    {
      "cell_type": "code",
      "metadata": {
        "colab": {
          "base_uri": "https://localhost:8080/"
        },
        "id": "_Cu7J-4JvQWG",
        "outputId": "05f8098a-39b9-4a5a-ed65-447435a7923d"
      },
      "source": [
        "import getpass\n",
        "print(getpass.getuser())\n"
      ],
      "execution_count": null,
      "outputs": [
        {
          "output_type": "stream",
          "text": [
            "root\n"
          ],
          "name": "stdout"
        }
      ]
    },
    {
      "cell_type": "code",
      "metadata": {
        "colab": {
          "base_uri": "https://localhost:8080/"
        },
        "id": "fdBWYWQ_vleL",
        "outputId": "a018709d-3618-4e64-ef26-ad621b0ff9b9"
      },
      "source": [
        "x= int(input('Ge mig ett tal '))\n",
        "res = (x*(x+1))/2\n",
        "print(int(res))"
      ],
      "execution_count": null,
      "outputs": [
        {
          "output_type": "stream",
          "text": [
            "Ge mig ett tal 8\n",
            "36\n"
          ],
          "name": "stdout"
        }
      ]
    },
    {
      "cell_type": "code",
      "metadata": {
        "colab": {
          "base_uri": "https://localhost:8080/"
        },
        "id": "tXUfzWZGwavo",
        "outputId": "71c091ad-faa6-41a1-a486-a19cc2d1cd56"
      },
      "source": [
        "f=int(input('Enter your length in feet '))\n",
        "i=int(input('Enter your length in inches '))\n",
        "y = f*30.48\n",
        "z = i * 2.54\n",
        "print(float(y+z))\n"
      ],
      "execution_count": null,
      "outputs": [
        {
          "output_type": "stream",
          "text": [
            "Enter your length in feet 6\n",
            "Enter your length in inches 3\n",
            "190.5\n"
          ],
          "name": "stdout"
        }
      ]
    },
    {
      "cell_type": "code",
      "metadata": {
        "colab": {
          "base_uri": "https://localhost:8080/"
        },
        "id": "64Xo0vwaxSbW",
        "outputId": "4935c920-aa32-4b0e-8822-78d4deb2155b"
      },
      "source": [
        "from math import sqrt\n",
        "a = float(input('Vad är basen? '))\n",
        "b = float(input('Vad är höjden? '))\n",
        "hyp = sqrt(a**2 + b**2)\n",
        "print(hyp)\n",
        "\n"
      ],
      "execution_count": null,
      "outputs": [
        {
          "output_type": "stream",
          "text": [
            "Vad är basen? 4\n",
            "Vad är höjden? 3\n",
            "5.0\n"
          ],
          "name": "stdout"
        }
      ]
    },
    {
      "cell_type": "code",
      "metadata": {
        "colab": {
          "base_uri": "https://localhost:8080/"
        },
        "id": "dQR5za2Ixd3i",
        "outputId": "8ff9a98d-311e-42ed-cf8d-a67265d939d1"
      },
      "source": [
        "f=float(input('Enter your length in feet '))\n",
        "\n",
        "i = 12/f\n",
        "foot = f/f\n",
        "miles = f/5280\n",
        "y = 3/f\n",
        "\n",
        "if f <=1:\n",
        "  print(i, 'inches')\n",
        "elif f>5280:\n",
        "  print(int(miles), 'miles and', int(y), 'yards')\n",
        "else:\n",
        "  print(y, 'yards')\n",
        "\n"
      ],
      "execution_count": null,
      "outputs": [
        {
          "output_type": "stream",
          "text": [
            "Enter your length in feet 7888\n",
            "1 miles and 0 yards\n"
          ],
          "name": "stdout"
        }
      ]
    },
    {
      "cell_type": "code",
      "metadata": {
        "colab": {
          "base_uri": "https://localhost:8080/"
        },
        "id": "skf3zHqZyyPE",
        "outputId": "416ee354-a1b6-4090-d4ac-a9081a11c10a"
      },
      "source": [
        "f=int(input('Enter your distance in feet '))\n",
        "inch = f *12\n",
        "y = f / 3\n",
        "mi = f / 5280\n",
        "\n",
        "print ('Avst i inches = ', inch)\n",
        "print ('Avst i yards = ', round(y),3)\n",
        "print ('Avst i miles = ', int(mi))\n",
        "\n",
        "print ('Avst i inches = %i' % inch)\n",
        "print ('Avst i yards = %.2f' % y)\n",
        "print ('Avst i miles = %.2f' % mi)"
      ],
      "execution_count": null,
      "outputs": [
        {
          "output_type": "stream",
          "text": [
            "Enter your distance in feet 5\n",
            "Avst i inches =  60\n",
            "Avst i yards =  2 3\n",
            "Avst i miles =  0\n",
            "Avst i inches = 60\n",
            "Avst i yards = 1.67\n",
            "Avst i miles = 0.00\n"
          ],
          "name": "stdout"
        }
      ]
    },
    {
      "cell_type": "code",
      "metadata": {
        "colab": {
          "base_uri": "https://localhost:8080/"
        },
        "id": "eS-SGuK81n_1",
        "outputId": "c6d9431f-a9ea-44a3-dff0-e7a1f851446c"
      },
      "source": [
        "\n",
        "d_ft = int(input(\"Input distance in feet: \"))\n",
        "d_inches = d_ft * 12\n",
        "d_yards = d_ft / 3.0\n",
        "d_miles = d_ft / 5280.0\n",
        "\n",
        "print(\"The distance in inches is %i inches.\" % d_inches)\n",
        "print(\"The distance in yards is %.2f yards.\" % d_yards)\n",
        "print(\"The distance in miles is %.2f miles.\" % d_miles)\n"
      ],
      "execution_count": null,
      "outputs": [
        {
          "output_type": "stream",
          "text": [
            "Input distance in feet: 6666\n",
            "The distance in inches is 79992 inches.\n",
            "The distance in yards is 2222.00 yards.\n",
            "The distance in miles is 1.26 miles.\n"
          ],
          "name": "stdout"
        }
      ]
    },
    {
      "cell_type": "code",
      "metadata": {
        "colab": {
          "base_uri": "https://localhost:8080/"
        },
        "id": "d6a7_oTx26Se",
        "outputId": "c6535aa0-3f96-48a2-be53-e1b4cd96316a"
      },
      "source": [
        "h = int(input('Hours '))\n",
        "m = int(input('Minutes '))\n",
        "s = int(input('Seconds '))\n",
        "ho = h * 36000\n",
        "mi = h * 60\n",
        "se = s\n",
        "print('That will be ', ho + mi + s, 'seconds')"
      ],
      "execution_count": null,
      "outputs": [
        {
          "output_type": "stream",
          "text": [
            "Hours 4\n",
            "Minutes 3\n",
            "Seconds 6\n",
            "That will be  144246 seconds\n"
          ],
          "name": "stdout"
        }
      ]
    },
    {
      "cell_type": "code",
      "metadata": {
        "colab": {
          "base_uri": "https://localhost:8080/"
        },
        "id": "2eMK-EvMA3zp",
        "outputId": "e0026310-b45a-4fc3-f069-afe213caf558"
      },
      "source": [
        "def absolute_file_path(path_fname):\n",
        "        import os\n",
        "        return os.path.abspath('path_fname')        \n",
        "print(\"Absolute file path: \",absolute_file_path(\"test.txt\"))\n"
      ],
      "execution_count": null,
      "outputs": [
        {
          "output_type": "stream",
          "text": [
            "Absolute file path:  /content/path_fname\n"
          ],
          "name": "stdout"
        }
      ]
    },
    {
      "cell_type": "code",
      "metadata": {
        "colab": {
          "base_uri": "https://localhost:8080/"
        },
        "id": "5s-iQ4O9CJou",
        "outputId": "b14ebd03-923e-44ce-d632-8c38eaa8f0ac"
      },
      "source": [
        "print(\"Absolute file path: \",absolute_file_path(\"a2.xlsx\"))"
      ],
      "execution_count": null,
      "outputs": [
        {
          "output_type": "stream",
          "text": [
            "Absolute file path:  /content/path_fname\n"
          ],
          "name": "stdout"
        }
      ]
    },
    {
      "cell_type": "code",
      "metadata": {
        "colab": {
          "base_uri": "https://localhost:8080/"
        },
        "id": "qx3fT3hqDPwd",
        "outputId": "bffb533e-1a3e-4bdc-ad04-3c7082ee2c95"
      },
      "source": [
        "s = int(input('Seconds '))\n",
        "days = int(s/86000)\n",
        "hours = int(s/36000)\n",
        "print('That will be', days, 'days and', hours)\n",
        "\n"
      ],
      "execution_count": null,
      "outputs": [
        {
          "output_type": "stream",
          "text": [
            "Seconds 77777\n",
            "That will be 0 days and 2\n"
          ],
          "name": "stdout"
        }
      ]
    },
    {
      "cell_type": "code",
      "metadata": {
        "colab": {
          "base_uri": "https://localhost:8080/"
        },
        "id": "vu8HTRiPEpoO",
        "outputId": "f7819a42-db5a-44d1-f086-6294531a3564"
      },
      "source": [
        "time = float(input(\"Input time in seconds: \"))\n",
        "day = time // (24 * 3600)\n",
        "time = time % (24 * 3600)\n",
        "hour = time // 3600\n",
        "time %= 3600\n",
        "minutes = time // 60\n",
        "time %= 60\n",
        "seconds = time\n",
        "print(\"d:h:m:s-> %d:%d:%d:%d\" % (day, hour, minutes, seconds))\n"
      ],
      "execution_count": null,
      "outputs": [
        {
          "output_type": "stream",
          "text": [
            "Input time in seconds: 66777882\n",
            "d:h:m:s-> 772:21:24:42\n"
          ],
          "name": "stdout"
        }
      ]
    },
    {
      "cell_type": "code",
      "metadata": {
        "colab": {
          "base_uri": "https://localhost:8080/"
        },
        "id": "_VOjVHGlWV4_",
        "outputId": "a23983f7-82b9-48b2-f383-b3a3e481e3cf"
      },
      "source": [
        "print(day, time, hour)"
      ],
      "execution_count": null,
      "outputs": [
        {
          "output_type": "stream",
          "text": [
            "772.0 42.0 21.0\n"
          ],
          "name": "stdout"
        }
      ]
    },
    {
      "cell_type": "code",
      "metadata": {
        "colab": {
          "base_uri": "https://localhost:8080/"
        },
        "id": "YmRfHNAzWj0I",
        "outputId": "8d9e7ee3-8806-46bc-921b-72fb758080aa"
      },
      "source": [
        "w = int(input('Enter weight i kilos '))\n",
        "l = int(input('Enter length in cm ')) /100\n",
        "b = w /(l**2)\n",
        "print('BMI = ', round(b))"
      ],
      "execution_count": null,
      "outputs": [
        {
          "output_type": "stream",
          "text": [
            "Enter weight i kilos 82\n",
            "Enter length in cm 191\n",
            "BMI =  22\n"
          ],
          "name": "stdout"
        }
      ]
    },
    {
      "cell_type": "code",
      "metadata": {
        "colab": {
          "base_uri": "https://localhost:8080/"
        },
        "id": "LzENfzSCXoWs",
        "outputId": "c8f6c5cc-71b3-4ec3-e5d5-2e84ddb12b20"
      },
      "source": [
        "kpa = float(input('Enter Kilopasacl '))\n",
        "out = kpa * 0.14503773773020923\n",
        "print(out)"
      ],
      "execution_count": null,
      "outputs": [
        {
          "output_type": "stream",
          "text": [
            "Enter Kilopasacl 5\n",
            "0.7251886886510461\n"
          ],
          "name": "stdout"
        }
      ]
    },
    {
      "cell_type": "code",
      "metadata": {
        "colab": {
          "base_uri": "https://localhost:8080/"
        },
        "id": "AYfj-3mqZOZS",
        "outputId": "3f18eab4-d28a-49c2-a89a-b929afae5927"
      },
      "source": [
        "kpa = float(input(\"Input pressure in in kilopascals> \"))\n",
        "psi = kpa / 6.89475729\n",
        "mmhg = kpa * 760 / 101.325\n",
        "atm = kpa / 101.325\n",
        "print(\"The pressure in pounds per square inch: %.2f psi\"  % (psi))\n",
        "print(\"The pressure in millimeter of mercury: %.2f mmHg\" % (mmhg))\n",
        "print(\"Atmosphere pressure: %.2f atm.\" % (atm))\n"
      ],
      "execution_count": null,
      "outputs": [
        {
          "output_type": "stream",
          "text": [
            "Input pressure in in kilopascals> 5\n",
            "The pressure in pounds per square inch: 0.73 psi\n",
            "The pressure in millimeter of mercury: 37.50 mmHg\n",
            "Atmosphere pressure: 0.05 atm.\n"
          ],
          "name": "stdout"
        }
      ]
    },
    {
      "cell_type": "code",
      "metadata": {
        "colab": {
          "base_uri": "https://localhost:8080/"
        },
        "id": "o6vm70bZZmm0",
        "outputId": "66fb7852-b23b-4e9d-ad99-ad4892bba404"
      },
      "source": [
        "x = input('Input integer ')\n",
        "y = len(x)\n",
        "print(y)"
      ],
      "execution_count": null,
      "outputs": [
        {
          "output_type": "stream",
          "text": [
            "Input integer 00000\n",
            "5\n"
          ],
          "name": "stdout"
        }
      ]
    },
    {
      "cell_type": "code",
      "metadata": {
        "colab": {
          "base_uri": "https://localhost:8080/"
        },
        "id": "ASkDvbMmZ5IT",
        "outputId": "656145b0-0f9d-440e-b8e8-6266b1ea262d"
      },
      "source": [
        "num = int(input(\"Input a four digit numbers: \"))\n",
        "x  = num //1000\n",
        "x1 = (num - x*1000)//100\n",
        "x2 = (num - x*1000 - x1*100)//10\n",
        "x3 = num - x*1000 - x1*100 - x2*10\n",
        "print(\"The sum of digits in the number is\", x+x1+x2+x3)\n"
      ],
      "execution_count": null,
      "outputs": [
        {
          "output_type": "stream",
          "text": [
            "Input a four digit numbers: 4444\n",
            "The sum of digits in the number is 16\n"
          ],
          "name": "stdout"
        }
      ]
    },
    {
      "cell_type": "code",
      "metadata": {
        "colab": {
          "base_uri": "https://localhost:8080/"
        },
        "id": "iOFSJJZxaK8y",
        "outputId": "a11794ef-7f5d-4b32-aca7-998bef15e878"
      },
      "source": [
        "x = input('Input integer ')\n",
        "y = list(x)\n",
        "\n",
        "z = x.split()\n",
        "\n",
        "o = []\n",
        "\n",
        "for i in y:\n",
        "\n",
        "  o.append(i)\n",
        "print(o)"
      ],
      "execution_count": null,
      "outputs": [
        {
          "output_type": "stream",
          "text": [
            "Input integer 222\n",
            "['2', '2', '2']\n"
          ],
          "name": "stdout"
        }
      ]
    },
    {
      "cell_type": "code",
      "metadata": {
        "colab": {
          "base_uri": "https://localhost:8080/"
        },
        "id": "9eqF0o88a8So",
        "outputId": "f78ca17a-1fa3-448d-f50b-b948924cb904"
      },
      "source": [
        "print(type(x))\n",
        "print(type(y))\n",
        "print(x)\n",
        "print(y)\n",
        "print(z)\n",
        "print(type(z))"
      ],
      "execution_count": null,
      "outputs": [
        {
          "output_type": "stream",
          "text": [
            "<class 'str'>\n",
            "<class 'list'>\n",
            "123\n",
            "['1', '2', '3']\n",
            "['123']\n",
            "<class 'list'>\n"
          ],
          "name": "stdout"
        }
      ]
    },
    {
      "cell_type": "code",
      "metadata": {
        "colab": {
          "base_uri": "https://localhost:8080/"
        },
        "id": "YgwWnFZVbTdE",
        "outputId": "50ac5969-77f1-4cbb-a88f-1618615722e8"
      },
      "source": [
        "x = int(input('Give me some numbers '))\n",
        "s=0\n",
        "for i in str(x):\n",
        "  s += int(i)\n",
        "print(s) \n"
      ],
      "execution_count": null,
      "outputs": [
        {
          "output_type": "stream",
          "text": [
            "Give me some numbers 1234\n",
            "10\n"
          ],
          "name": "stdout"
        }
      ]
    },
    {
      "cell_type": "code",
      "metadata": {
        "id": "gotl2Gh5W02l"
      },
      "source": [
        "a= 321"
      ],
      "execution_count": null,
      "outputs": []
    },
    {
      "cell_type": "code",
      "metadata": {
        "colab": {
          "base_uri": "https://localhost:8080/"
        },
        "id": "J3PWlJymY8y3",
        "outputId": "84427aef-7980-471d-f918-b249fea08e49"
      },
      "source": [
        "type(a)"
      ],
      "execution_count": null,
      "outputs": [
        {
          "output_type": "execute_result",
          "data": {
            "text/plain": [
              "int"
            ]
          },
          "metadata": {
            "tags": []
          },
          "execution_count": 16
        }
      ]
    },
    {
      "cell_type": "code",
      "metadata": {
        "colab": {
          "base_uri": "https://localhost:8080/"
        },
        "id": "OrQ_8BV5Y9-N",
        "outputId": "909eee56-9333-45cd-9ff6-7970307760f7"
      },
      "source": [
        "import glob\n",
        "import os\n",
        "\n",
        "files = glob.glob(\"*.txt\")\n",
        "files.sort(key=os.path.getmtime)\n",
        "print(\"\\n\".join(files))\n"
      ],
      "execution_count": null,
      "outputs": [
        {
          "output_type": "stream",
          "text": [
            "\n"
          ],
          "name": "stdout"
        }
      ]
    },
    {
      "cell_type": "code",
      "metadata": {
        "id": "DYR5yEK_ZB-v"
      },
      "source": [
        "from stat import S_ISREG, ST_CTIME, ST_MODE\n",
        "import os, sys, time\n",
        "\n",
        "#Relative or absolute path to the directory\n",
        "dir_path = sys.argv[1] if len(sys.argv) == 2 else r'.'\n",
        "\n",
        "#all entries in the directory w/ stats\n",
        "data = (os.path.join(dir_path, fn) for fn in os.listdir(dir_path))\n",
        "data = ((os.stat(path), path) for path in data)\n",
        "\n",
        "# regular files, insert creation date\n",
        "data = ((stat[ST_CTIME], path)\n",
        "           for stat, path in data if S_ISREG(stat[ST_MODE]))\n",
        "\n",
        "for cdate, path in sorted(data):\n",
        "    print(time.ctime(cdate), os.path.basename(path))\n",
        "\t"
      ],
      "execution_count": null,
      "outputs": []
    },
    {
      "cell_type": "code",
      "metadata": {
        "colab": {
          "base_uri": "https://localhost:8080/"
        },
        "id": "Roku1dK9ZkXW",
        "outputId": "f7a3000d-db94-46e4-d6e0-205d56fad4e5"
      },
      "source": [
        "import sys\n",
        "import textwrap\n",
        "module_name = ', '.join(sorted(sys.builtin_module_names))\n",
        "print(textwrap.fill(module_name, width=70))\n"
      ],
      "execution_count": null,
      "outputs": [
        {
          "output_type": "stream",
          "text": [
            "_abc, _ast, _bisect, _blake2, _codecs, _collections, _datetime,\n",
            "_elementtree, _functools, _heapq, _imp, _io, _locale, _md5, _operator,\n",
            "_pickle, _posixsubprocess, _random, _sha1, _sha256, _sha3, _sha512,\n",
            "_signal, _socket, _sre, _stat, _string, _struct, _symtable, _thread,\n",
            "_tracemalloc, _warnings, _weakref, array, atexit, binascii, builtins,\n",
            "errno, faulthandler, fcntl, gc, grp, itertools, marshal, math, posix,\n",
            "pwd, pyexpat, select, spwd, sys, syslog, time, unicodedata, xxsubtype,\n",
            "zipimport, zlib\n"
          ],
          "name": "stdout"
        }
      ]
    },
    {
      "cell_type": "code",
      "metadata": {
        "colab": {
          "base_uri": "https://localhost:8080/"
        },
        "id": "r0VlVORzaBSS",
        "outputId": "c3066f50-972a-4477-f858-9dc12824eb61"
      },
      "source": [
        "import sys\n",
        "print()\n",
        "print(\"Current value of the recursion limit:\")\n",
        "print(sys.getrecursionlimit())\n",
        "print()\n"
      ],
      "execution_count": null,
      "outputs": [
        {
          "output_type": "stream",
          "text": [
            "\n",
            "Current value of the recursion limit:\n",
            "1000\n",
            "\n"
          ],
          "name": "stdout"
        }
      ]
    },
    {
      "cell_type": "code",
      "metadata": {
        "colab": {
          "base_uri": "https://localhost:8080/"
        },
        "id": "ugU9dRjRaRbp",
        "outputId": "22cdc65a-542f-4035-ba5f-7b91ba71766f"
      },
      "source": [
        "list_of_colors = ['Red', 'White', 'Black']  \n",
        "colors = '-'.join(list_of_colors)\n",
        "print()\n",
        "print(\"All Colors: \"+colors)\n",
        "print()\n"
      ],
      "execution_count": null,
      "outputs": [
        {
          "output_type": "stream",
          "text": [
            "\n",
            "All Colors: Red-White-Black\n",
            "\n"
          ],
          "name": "stdout"
        }
      ]
    },
    {
      "cell_type": "code",
      "metadata": {
        "colab": {
          "base_uri": "https://localhost:8080/"
        },
        "id": "mbBoZOrOatCB",
        "outputId": "97331ca6-289e-4d56-aca1-a99f49a835bf"
      },
      "source": [
        "list_of_colors"
      ],
      "execution_count": null,
      "outputs": [
        {
          "output_type": "execute_result",
          "data": {
            "text/plain": [
              "['Red', 'White', 'Black']"
            ]
          },
          "metadata": {
            "tags": []
          },
          "execution_count": 27
        }
      ]
    },
    {
      "cell_type": "code",
      "metadata": {
        "id": "-DS8W4OuayDH"
      },
      "source": [
        "l = [1,2,3,4]"
      ],
      "execution_count": null,
      "outputs": []
    },
    {
      "cell_type": "code",
      "metadata": {
        "colab": {
          "base_uri": "https://localhost:8080/"
        },
        "id": "xEo4VTMxbCwZ",
        "outputId": "549d0b9d-ef6f-4a7e-9258-3b70e3d47927"
      },
      "source": [
        "sum(l)"
      ],
      "execution_count": null,
      "outputs": [
        {
          "output_type": "execute_result",
          "data": {
            "text/plain": [
              "10"
            ]
          },
          "metadata": {
            "tags": []
          },
          "execution_count": 32
        }
      ]
    },
    {
      "cell_type": "code",
      "metadata": {
        "id": "blNQux_IbE-J"
      },
      "source": [
        "t = {1,2,3}"
      ],
      "execution_count": null,
      "outputs": []
    },
    {
      "cell_type": "code",
      "metadata": {
        "colab": {
          "base_uri": "https://localhost:8080/"
        },
        "id": "fSsjDQgPbh8Z",
        "outputId": "2afe0e61-bf5b-475c-909d-93b32a22ecd3"
      },
      "source": [
        "sum(t)"
      ],
      "execution_count": null,
      "outputs": [
        {
          "output_type": "execute_result",
          "data": {
            "text/plain": [
              "6"
            ]
          },
          "metadata": {
            "tags": []
          },
          "execution_count": 34
        }
      ]
    },
    {
      "cell_type": "code",
      "metadata": {
        "colab": {
          "base_uri": "https://localhost:8080/"
        },
        "id": "6GKdGKk6bjWF",
        "outputId": "20830b2b-efdf-425d-d4bd-8a33d2faba9c"
      },
      "source": [
        "num = [2, 3, 4, 5]\n",
        "print()\n",
        "print(all(x > 1 for x in num))"
      ],
      "execution_count": null,
      "outputs": [
        {
          "output_type": "stream",
          "text": [
            "\n",
            "True\n"
          ],
          "name": "stdout"
        }
      ]
    },
    {
      "cell_type": "code",
      "metadata": {
        "id": "Lb3hFpEGb7Ak"
      },
      "source": [
        "for i in num:\n",
        "  if x "
      ],
      "execution_count": null,
      "outputs": []
    },
    {
      "cell_type": "code",
      "metadata": {
        "id": "e2engzPicG5X"
      },
      "source": [
        "mytuple = (1, True, 1)\n",
        "x = all(mytuple)"
      ],
      "execution_count": null,
      "outputs": []
    },
    {
      "cell_type": "code",
      "metadata": {
        "colab": {
          "base_uri": "https://localhost:8080/"
        },
        "id": "KSmPMw4cccbj",
        "outputId": "37ead45c-f81c-465c-eaca-83d569f50bd7"
      },
      "source": [
        "x"
      ],
      "execution_count": null,
      "outputs": [
        {
          "output_type": "execute_result",
          "data": {
            "text/plain": [
              "True"
            ]
          },
          "metadata": {
            "tags": []
          },
          "execution_count": 41
        }
      ]
    },
    {
      "cell_type": "code",
      "metadata": {
        "id": "RHHTRzdRcfmL"
      },
      "source": [
        "a = 'abcde'"
      ],
      "execution_count": null,
      "outputs": []
    },
    {
      "cell_type": "code",
      "metadata": {
        "colab": {
          "base_uri": "https://localhost:8080/"
        },
        "id": "0Eadvh-4cyyt",
        "outputId": "43da6eba-a356-4893-aca5-a08e942ca8c0"
      },
      "source": [
        "a.count('d')\n"
      ],
      "execution_count": null,
      "outputs": [
        {
          "output_type": "execute_result",
          "data": {
            "text/plain": [
              "1"
            ]
          },
          "metadata": {
            "tags": []
          },
          "execution_count": 50
        }
      ]
    },
    {
      "cell_type": "code",
      "metadata": {
        "colab": {
          "base_uri": "https://localhost:8080/"
        },
        "id": "7FPPOW1AdWe-",
        "outputId": "00932ce1-7f48-4931-8e43-c1080c9a84da"
      },
      "source": [
        "type(a)"
      ],
      "execution_count": null,
      "outputs": [
        {
          "output_type": "execute_result",
          "data": {
            "text/plain": [
              "str"
            ]
          },
          "metadata": {
            "tags": []
          },
          "execution_count": 51
        }
      ]
    },
    {
      "cell_type": "code",
      "metadata": {
        "colab": {
          "base_uri": "https://localhost:8080/"
        },
        "id": "-b35g66IdXev",
        "outputId": "0b3eb3d4-f941-4e86-e4e0-a73deb808e63"
      },
      "source": [
        "x = int(input('Tal 1 '))\n",
        "y = int(input('Tal 2 '))\n",
        "print(str(x), '+', str(y), '=', x+y)"
      ],
      "execution_count": null,
      "outputs": [
        {
          "output_type": "stream",
          "text": [
            "Tal 1 2\n",
            "Tal 2 3\n",
            "2 + 3 = 5\n"
          ],
          "name": "stdout"
        }
      ]
    },
    {
      "cell_type": "code",
      "metadata": {
        "colab": {
          "base_uri": "https://localhost:8080/"
        },
        "id": "NgArBheDd3jg",
        "outputId": "a307799c-7a29-4edf-f549-eb83619b140b"
      },
      "source": [
        "x = int(input('Tal 1 '))\n",
        "y = int(input('Tal 2 '))\n",
        "print(\"\\n%d+%d=%d\" % (x, y, x+y))"
      ],
      "execution_count": null,
      "outputs": [
        {
          "output_type": "stream",
          "text": [
            "Tal 1 2\n",
            "Tal 2 3\n",
            "\n",
            "2+3=5\n"
          ],
          "name": "stdout"
        }
      ]
    },
    {
      "cell_type": "code",
      "metadata": {
        "colab": {
          "base_uri": "https://localhost:8080/"
        },
        "id": "maFdFhuGd7Ut",
        "outputId": "6d4ae2b5-4b85-40d2-f62c-e3414f16d381"
      },
      "source": [
        "d = int(input('Datum '))\n",
        "if d % 2 == 0:\n",
        "  print('Första dage')\n"
      ],
      "execution_count": null,
      "outputs": [
        {
          "output_type": "stream",
          "text": [
            "Datum 2\n",
            "Första dage\n"
          ],
          "name": "stdout"
        }
      ]
    },
    {
      "cell_type": "code",
      "metadata": {
        "colab": {
          "base_uri": "https://localhost:8080/"
        },
        "id": "yQbptW0kfJa9",
        "outputId": "917a17a8-9743-44ec-9c04-a0c1e4fb5d0d"
      },
      "source": [
        "a = 30\n",
        "b = 20\n",
        "print(\"\\nBefore swap a = %d and b = %d\" %(a, b))\n",
        "a, b = b, a\n",
        "print(\"\\nAfter swaping a = %d and b = %d\" %(a, b))\n",
        "print()\n"
      ],
      "execution_count": null,
      "outputs": [
        {
          "output_type": "stream",
          "text": [
            "\n",
            "Before swap a = 30 and b = 20\n",
            "\n",
            "After swaping a = 20 and b = 30\n",
            "\n"
          ],
          "name": "stdout"
        }
      ]
    },
    {
      "cell_type": "code",
      "metadata": {
        "colab": {
          "base_uri": "https://localhost:8080/"
        },
        "id": "a98uQS77fiOD",
        "outputId": "810be1b1-0fc3-47e8-d13d-564af0859332"
      },
      "source": [
        "print(\"\\#{'}${\\\"}@/\")\n",
        "print(r'''\\#{'}${\"}@/''')"
      ],
      "execution_count": null,
      "outputs": [
        {
          "output_type": "stream",
          "text": [
            "\\#{'}${\"}@/\n",
            "\\#{'}${\"}@/\n"
          ],
          "name": "stdout"
        }
      ]
    },
    {
      "cell_type": "code",
      "metadata": {
        "colab": {
          "base_uri": "https://localhost:8080/"
        },
        "id": "c2RJkJapfwwV",
        "outputId": "028ccee1-ea42-42ac-d930-aa9996cee8b7"
      },
      "source": [
        "print(r'''\\#{'}${\"}@/''')"
      ],
      "execution_count": null,
      "outputs": [
        {
          "output_type": "stream",
          "text": [
            "\\#{'}${\"}@/\n"
          ],
          "name": "stdout"
        }
      ]
    },
    {
      "cell_type": "code",
      "metadata": {
        "colab": {
          "base_uri": "https://localhost:8080/"
        },
        "id": "T7yMV0Q8f04-",
        "outputId": "2b5aecb4-a958-4f7b-e656-d53a1a49d813"
      },
      "source": [
        "x = 5\n",
        "y = 'b'\n",
        "\n",
        "print(x)\n",
        "print(type(x))\n",
        "print(id(x))\n",
        "print('---')\n",
        "print(y)\n",
        "print(type(y))"
      ],
      "execution_count": null,
      "outputs": [
        {
          "output_type": "stream",
          "text": [
            "5\n",
            "<class 'int'>\n",
            "94600560401024\n",
            "---\n",
            "b\n",
            "<class 'str'>\n"
          ],
          "name": "stdout"
        }
      ]
    },
    {
      "cell_type": "code",
      "metadata": {
        "colab": {
          "base_uri": "https://localhost:8080/"
        },
        "id": "AI0ounRQhDrz",
        "outputId": "c745c802-788f-496a-d095-7884e74b3431"
      },
      "source": [
        "x = b'Abc'\n",
        "print()\n",
        "print(\"\\nConvert bytes of the said string to a list of integers:\")\n",
        "print(list(x))\n",
        "print()\n"
      ],
      "execution_count": null,
      "outputs": [
        {
          "output_type": "stream",
          "text": [
            "\n",
            "\n",
            "Convert bytes of the said string to a list of integers:\n",
            "[65, 98, 99]\n",
            "\n"
          ],
          "name": "stdout"
        }
      ]
    },
    {
      "cell_type": "code",
      "metadata": {
        "id": "QesLFrOWiAjc"
      },
      "source": [
        "x = '2'"
      ],
      "execution_count": null,
      "outputs": []
    },
    {
      "cell_type": "code",
      "metadata": {
        "colab": {
          "base_uri": "https://localhost:8080/",
          "height": 169
        },
        "id": "BPpDGHHdiCSM",
        "outputId": "91c35a93-7b99-4cb1-ed5c-417cbc80c7a9"
      },
      "source": [
        "x.is_numberic()"
      ],
      "execution_count": null,
      "outputs": [
        {
          "output_type": "error",
          "ename": "AttributeError",
          "evalue": "ignored",
          "traceback": [
            "\u001b[0;31m---------------------------------------------------------------------------\u001b[0m",
            "\u001b[0;31mAttributeError\u001b[0m                            Traceback (most recent call last)",
            "\u001b[0;32m<ipython-input-77-c887ae46f25a>\u001b[0m in \u001b[0;36m<module>\u001b[0;34m()\u001b[0m\n\u001b[0;32m----> 1\u001b[0;31m \u001b[0mx\u001b[0m\u001b[0;34m.\u001b[0m\u001b[0mis_numberic\u001b[0m\u001b[0;34m(\u001b[0m\u001b[0;34m)\u001b[0m\u001b[0;34m\u001b[0m\u001b[0;34m\u001b[0m\u001b[0m\n\u001b[0m",
            "\u001b[0;31mAttributeError\u001b[0m: 'str' object has no attribute 'is_numberic'"
          ]
        }
      ]
    },
    {
      "cell_type": "code",
      "metadata": {
        "colab": {
          "base_uri": "https://localhost:8080/"
        },
        "id": "tWNpywHtiLrj",
        "outputId": "96d1926a-1961-41fc-be84-73dbddb6f9a9"
      },
      "source": [
        "str = 'a123'\n",
        "str = '123'\n",
        "try:\n",
        "    i = float(str)\n",
        "    print('Numeric')\n",
        "except (ValueError, TypeError):\n",
        "    print('\\nNot numeric')\n",
        "print()\n"
      ],
      "execution_count": null,
      "outputs": [
        {
          "output_type": "stream",
          "text": [
            "Numeric\n",
            "\n"
          ],
          "name": "stdout"
        }
      ]
    },
    {
      "cell_type": "code",
      "metadata": {
        "colab": {
          "base_uri": "https://localhost:8080/"
        },
        "id": "SGiQd90OilEH",
        "outputId": "d05f9832-ecb9-4d3c-be2d-f6e3785252a0"
      },
      "source": [
        "import traceback\n",
        "print()\n",
        "def f1():return abc()\n",
        "def abc():traceback.print_stack()\n",
        "f1()\n",
        "print()\n"
      ],
      "execution_count": null,
      "outputs": [
        {
          "output_type": "stream",
          "text": [
            "\n",
            "\n"
          ],
          "name": "stdout"
        },
        {
          "output_type": "stream",
          "text": [
            "  File \"/usr/lib/python3.7/runpy.py\", line 193, in _run_module_as_main\n",
            "    \"__main__\", mod_spec)\n",
            "  File \"/usr/lib/python3.7/runpy.py\", line 85, in _run_code\n",
            "    exec(code, run_globals)\n",
            "  File \"/usr/local/lib/python3.7/dist-packages/ipykernel_launcher.py\", line 16, in <module>\n",
            "    app.launch_new_instance()\n",
            "  File \"/usr/local/lib/python3.7/dist-packages/traitlets/config/application.py\", line 845, in launch_instance\n",
            "    app.start()\n",
            "  File \"/usr/local/lib/python3.7/dist-packages/ipykernel/kernelapp.py\", line 499, in start\n",
            "    self.io_loop.start()\n",
            "  File \"/usr/local/lib/python3.7/dist-packages/tornado/platform/asyncio.py\", line 132, in start\n",
            "    self.asyncio_loop.run_forever()\n",
            "  File \"/usr/lib/python3.7/asyncio/base_events.py\", line 541, in run_forever\n",
            "    self._run_once()\n",
            "  File \"/usr/lib/python3.7/asyncio/base_events.py\", line 1786, in _run_once\n",
            "    handle._run()\n",
            "  File \"/usr/lib/python3.7/asyncio/events.py\", line 88, in _run\n",
            "    self._context.run(self._callback, *self._args)\n",
            "  File \"/usr/local/lib/python3.7/dist-packages/tornado/platform/asyncio.py\", line 122, in _handle_events\n",
            "    handler_func(fileobj, events)\n",
            "  File \"/usr/local/lib/python3.7/dist-packages/tornado/stack_context.py\", line 300, in null_wrapper\n",
            "    return fn(*args, **kwargs)\n",
            "  File \"/usr/local/lib/python3.7/dist-packages/zmq/eventloop/zmqstream.py\", line 448, in _handle_events\n",
            "    self._handle_recv()\n",
            "  File \"/usr/local/lib/python3.7/dist-packages/zmq/eventloop/zmqstream.py\", line 477, in _handle_recv\n",
            "    self._run_callback(callback, msg)\n",
            "  File \"/usr/local/lib/python3.7/dist-packages/zmq/eventloop/zmqstream.py\", line 431, in _run_callback\n",
            "    callback(*args, **kwargs)\n",
            "  File \"/usr/local/lib/python3.7/dist-packages/tornado/stack_context.py\", line 300, in null_wrapper\n",
            "    return fn(*args, **kwargs)\n",
            "  File \"/usr/local/lib/python3.7/dist-packages/ipykernel/kernelbase.py\", line 283, in dispatcher\n",
            "    return self.dispatch_shell(stream, msg)\n",
            "  File \"/usr/local/lib/python3.7/dist-packages/ipykernel/kernelbase.py\", line 233, in dispatch_shell\n",
            "    handler(stream, idents, msg)\n",
            "  File \"/usr/local/lib/python3.7/dist-packages/ipykernel/kernelbase.py\", line 399, in execute_request\n",
            "    user_expressions, allow_stdin)\n",
            "  File \"/usr/local/lib/python3.7/dist-packages/ipykernel/ipkernel.py\", line 208, in do_execute\n",
            "    res = shell.run_cell(code, store_history=store_history, silent=silent)\n",
            "  File \"/usr/local/lib/python3.7/dist-packages/ipykernel/zmqshell.py\", line 537, in run_cell\n",
            "    return super(ZMQInteractiveShell, self).run_cell(*args, **kwargs)\n",
            "  File \"/usr/local/lib/python3.7/dist-packages/IPython/core/interactiveshell.py\", line 2718, in run_cell\n",
            "    interactivity=interactivity, compiler=compiler, result=result)\n",
            "  File \"/usr/local/lib/python3.7/dist-packages/IPython/core/interactiveshell.py\", line 2822, in run_ast_nodes\n",
            "    if self.run_code(code, result):\n",
            "  File \"/usr/local/lib/python3.7/dist-packages/IPython/core/interactiveshell.py\", line 2882, in run_code\n",
            "    exec(code_obj, self.user_global_ns, self.user_ns)\n",
            "  File \"<ipython-input-82-46d52883091b>\", line 5, in <module>\n",
            "    f1()\n",
            "  File \"<ipython-input-82-46d52883091b>\", line 3, in f1\n",
            "    def f1():return abc()\n",
            "  File \"<ipython-input-82-46d52883091b>\", line 4, in abc\n",
            "    def abc():traceback.print_stack()\n"
          ],
          "name": "stderr"
        }
      ]
    },
    {
      "cell_type": "code",
      "metadata": {
        "id": "qoaDZJSHi5nn"
      },
      "source": [
        ""
      ],
      "execution_count": null,
      "outputs": []
    }
  ]
}