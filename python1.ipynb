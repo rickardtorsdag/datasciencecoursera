{
  "nbformat": 4,
  "nbformat_minor": 0,
  "metadata": {
    "colab": {
      "name": "python1.ipynb",
      "provenance": [],
      "authorship_tag": "ABX9TyMVb9no7LVNHNmfo8xPrvMy",
      "include_colab_link": true
    },
    "kernelspec": {
      "name": "python3",
      "display_name": "Python 3"
    },
    "language_info": {
      "name": "python"
    }
  },
  "cells": [
    {
      "cell_type": "markdown",
      "metadata": {
        "id": "view-in-github",
        "colab_type": "text"
      },
      "source": [
        "<a href=\"https://colab.research.google.com/github/rickardtorsdag/datasciencecoursera/blob/master/python1.ipynb\" target=\"_parent\"><img src=\"https://colab.research.google.com/assets/colab-badge.svg\" alt=\"Open In Colab\"/></a>"
      ]
    },
    {
      "cell_type": "code",
      "metadata": {
        "id": "KUhYGQmeqVI6"
      },
      "source": [
        "a = 'Karl'\n",
        "b = 'Anka'\n"
      ],
      "execution_count": 1,
      "outputs": []
    },
    {
      "cell_type": "code",
      "metadata": {
        "colab": {
          "base_uri": "https://localhost:8080/"
        },
        "id": "JH8nDeZ7qnT2",
        "outputId": "1ea328b9-c692-4d4b-9fff-cbe117069410"
      },
      "source": [
        "print(a)\n",
        "print(b)"
      ],
      "execution_count": 2,
      "outputs": [
        {
          "output_type": "stream",
          "name": "stdout",
          "text": [
            "Karl\n",
            "Anka\n"
          ]
        }
      ]
    },
    {
      "cell_type": "code",
      "metadata": {
        "colab": {
          "base_uri": "https://localhost:8080/"
        },
        "id": "VtQiQ95jrP6d",
        "outputId": "7cf2dc1f-bd81-4f41-b056-bf046023919a"
      },
      "source": [
        "print('Förnaman:', a, 'Efternamn:', b)"
      ],
      "execution_count": 3,
      "outputs": [
        {
          "output_type": "stream",
          "name": "stdout",
          "text": [
            "Förnaman: Karl Efternamn: Anka\n"
          ]
        }
      ]
    },
    {
      "cell_type": "code",
      "metadata": {
        "colab": {
          "base_uri": "https://localhost:8080/"
        },
        "id": "G383j4VCsA8M",
        "outputId": "a2dedede-8596-4a99-eb6b-bcc316980b14"
      },
      "source": [
        "print('Cherilyn \\\"Cher\" Sarkisian')"
      ],
      "execution_count": 4,
      "outputs": [
        {
          "output_type": "stream",
          "name": "stdout",
          "text": [
            "Cherilyn \"Cher\" Sarkisian\n"
          ]
        }
      ]
    },
    {
      "cell_type": "code",
      "metadata": {
        "colab": {
          "base_uri": "https://localhost:8080/"
        },
        "id": "uQTvUlwIsMuZ",
        "outputId": "5cc20968-edde-4223-abea-1278dd49280d"
      },
      "source": [
        "name = input('Vad heter du? ')\n",
        "print('Hej',name,', roligt att du kommit hit.')"
      ],
      "execution_count": 5,
      "outputs": [
        {
          "output_type": "stream",
          "name": "stdout",
          "text": [
            "Vad heter du? karl anka\n",
            "Hej karl anka , roligt att du kommit hit.\n"
          ]
        }
      ]
    },
    {
      "cell_type": "code",
      "metadata": {
        "colab": {
          "base_uri": "https://localhost:8080/"
        },
        "id": "BtGEDMJks7km",
        "outputId": "d1d6155d-74a6-4241-bbc7-7daabd8c6a4a"
      },
      "source": [
        "name = input('Vad heter du? ')\n",
        "print('Hej {}, '.format(name), 'roligt att du kommit hit')\n"
      ],
      "execution_count": 6,
      "outputs": [
        {
          "output_type": "stream",
          "name": "stdout",
          "text": [
            "Vad heter du? asdf\n",
            "Hej asdf,  roligt att du kommit hit\n"
          ]
        }
      ]
    },
    {
      "cell_type": "code",
      "metadata": {
        "colab": {
          "base_uri": "https://localhost:8080/"
        },
        "id": "UqLZ-Kh9tZpa",
        "outputId": "aa5a52a7-691d-494d-db88-04e3c3efb215"
      },
      "source": [
        "f = input('Vad heter du i förnman? ')\n",
        "e = input('Vad är ditt efternamn? ')\n",
        "email = str(f) + '.' + str(e) + '@gmail.com'\n",
        "email = email.replace(' ', '.')\n",
        "print('Du borde skaffa en epostadress som är:', email)"
      ],
      "execution_count": 7,
      "outputs": [
        {
          "output_type": "stream",
          "name": "stdout",
          "text": [
            "Vad heter du i förnman? dds\n",
            "Vad är ditt efternamn? sdwd wwew\n",
            "Du borde skaffa en epostadress som är: dds.sdwd.wwew@gmail.com\n"
          ]
        }
      ]
    },
    {
      "cell_type": "code",
      "metadata": {
        "colab": {
          "base_uri": "https://localhost:8080/"
        },
        "id": "5VbJJkgXwFqb",
        "outputId": "85cc9eaa-753a-4fac-e431-37a3321fdad3"
      },
      "source": [
        "x = int(input('Ange ett heltal '))\n",
        "print(str(x) + ' i kvardrat blir ' + str(x **2))"
      ],
      "execution_count": 8,
      "outputs": [
        {
          "output_type": "stream",
          "name": "stdout",
          "text": [
            "Ange ett heltal 4\n",
            "4 i kvardrat blir 16\n"
          ]
        }
      ]
    },
    {
      "cell_type": "code",
      "metadata": {
        "colab": {
          "base_uri": "https://localhost:8080/"
        },
        "id": "vdppyGcnwL6n",
        "outputId": "a222f10a-58b1-45aa-a4d9-1326d98c7c3c"
      },
      "source": [
        "a = int(input('Ange ett tal '))\n",
        "b = int(input('Ange ett till '))\n",
        "res = (a/b)\n",
        "print(round(res, 2))"
      ],
      "execution_count": 9,
      "outputs": [
        {
          "output_type": "stream",
          "name": "stdout",
          "text": [
            "Ange ett tal 3\n",
            "Ange ett till 4\n",
            "0.75\n"
          ]
        }
      ]
    },
    {
      "cell_type": "code",
      "metadata": {
        "colab": {
          "base_uri": "https://localhost:8080/"
        },
        "id": "LyHGWrpj1s0c",
        "outputId": "626e5079-6494-46e0-e06a-bf7d7c12e03d"
      },
      "source": [
        "f = int(input('Ange antalet grader i Farenhight '))\n",
        "c =  (f - 32) * 5/9\n",
        "print('Det blir {},'.format(round(c,1)), 'grader Celcius')"
      ],
      "execution_count": 92,
      "outputs": [
        {
          "output_type": "stream",
          "name": "stdout",
          "text": [
            "Ange antalet grader i Farenhight 98\n",
            "Det blir 36.7, grader Celcius\n"
          ]
        }
      ]
    },
    {
      "cell_type": "code",
      "metadata": {
        "colab": {
          "base_uri": "https://localhost:8080/"
        },
        "id": "IEO29u8S2d7p",
        "outputId": "8de67c30-71ed-4ef8-a8ee-cb027650cc9d"
      },
      "source": [
        "a = int(input('Ange höjd '))\n",
        "b = int(input('Ange bredd '))\n",
        "c = int(input('Ange djup '))\n",
        "vol = a*b*c\n",
        "print(vol)\n"
      ],
      "execution_count": 95,
      "outputs": [
        {
          "output_type": "stream",
          "name": "stdout",
          "text": [
            "Ange höjd 6\n",
            "Ange bredd 7\n",
            "Ange djup 8\n",
            "336\n"
          ]
        }
      ]
    },
    {
      "cell_type": "markdown",
      "metadata": {
        "id": "LXHbv4ZzR-8C"
      },
      "source": [
        "10. Guldpriset är idag 325 kr per gram. Andelen guld i ett smycke anges i karat vilket är 24- delar. Ett vanligt mått på guldhalt i smycken är 18 karat d.v.s. 18/24 av smyckets vikt är guld, men halten karat kan variera. Skapa ett program som frågar efter antal karat i ett guldsmycke och sedan efter smyckets vikt (i gram). Sedan visar programmet metallvärdet på smycket. T.ex. så här:\n",
        "Ange smyckets guldhalt i karat: 20\n",
        "Ange smyckets vikt i gram: 12\n",
        "Metallvärdet i smycket är: 3250 kr\n",
        "I exemplet ovan räknade programmet så här:\n",
        "(20/24) x 12 x 325\n"
      ]
    },
    {
      "cell_type": "code",
      "metadata": {
        "colab": {
          "base_uri": "https://localhost:8080/"
        },
        "id": "zVfWQ54E5WdM",
        "outputId": "767d94d9-8b1e-46a9-f730-19f229e28393"
      },
      "source": [
        "a = int(input('Antal karat '))\n",
        "b = int(input('Guldets vikt i gram '))\n",
        "res = (a/24)*b*325\n",
        "print('Värdet är {}'.format(round(res)), 'kronor')"
      ],
      "execution_count": 15,
      "outputs": [
        {
          "output_type": "stream",
          "name": "stdout",
          "text": [
            "Antal karat 12\n",
            "Guldets vikt i gram 20\n",
            "Värdet är 3250 kronor\n"
          ]
        }
      ]
    },
    {
      "cell_type": "code",
      "metadata": {
        "id": "ZHcV2R4nXiUb"
      },
      "source": [
        ""
      ],
      "execution_count": null,
      "outputs": []
    },
    {
      "cell_type": "markdown",
      "metadata": {
        "id": "VdmPYG6oXfFJ"
      },
      "source": [
        "11. Kursen för Euro är idag 1€ = 9,82 kr. Skapa ett program där användaren kan ange antalet kronor som den vill växla och programmet räknar ut hur många Euro det blir. Eftersom det är valutaväxling ska det alltid vara två decimaler. En programkörning kan se ut så här:\n",
        "Ange antalet kronor du vill växla: 100\n",
        "100 SEK ger 10.18 EUR\n"
      ]
    },
    {
      "cell_type": "markdown",
      "metadata": {
        "id": "a-Fy0jYCYX0B"
      },
      "source": [
        ""
      ]
    },
    {
      "cell_type": "code",
      "metadata": {
        "colab": {
          "base_uri": "https://localhost:8080/"
        },
        "id": "oFLMy6IyRv-7",
        "outputId": "e4fb8307-b13b-44e9-f5da-9b6c499b5773"
      },
      "source": [
        "a = int(input('Hur många kronor vill du växla? '))\n",
        "res = a *0.982\n",
        "print(a, 'kronor blir {}'.format(round(res,2)), 'EUR')"
      ],
      "execution_count": 19,
      "outputs": [
        {
          "output_type": "stream",
          "name": "stdout",
          "text": [
            "Hur många kronor vill du växla? 10\n",
            "10 kronor blir 9.82 EUR\n"
          ]
        }
      ]
    },
    {
      "cell_type": "markdown",
      "metadata": {
        "id": "j7OjSAclZc9-"
      },
      "source": [
        "if else"
      ]
    },
    {
      "cell_type": "markdown",
      "metadata": {
        "id": "VnaM3ye_ZhJm"
      },
      "source": [
        "Skapa ett program där användaren kan ange ett tal och programmet meddelar om\n",
        "talet är negativ, positivt eller noll.\n"
      ]
    },
    {
      "cell_type": "code",
      "metadata": {
        "colab": {
          "base_uri": "https://localhost:8080/"
        },
        "id": "g0WYpPCyYJm5",
        "outputId": "fe95f038-6677-4dd0-aae2-32f180ddce29"
      },
      "source": [
        "a = int(input('Ange ett heltal '))\n",
        "if a >0:\n",
        "  print(a, 'är positivt')\n",
        "elif a <0:\n",
        "  print(a, 'är negativt')\n",
        "else: \n",
        "  print(a, 'är noll')\n"
      ],
      "execution_count": 27,
      "outputs": [
        {
          "output_type": "stream",
          "name": "stdout",
          "text": [
            "Ange ett heltal 0\n",
            "0 är = 0\n"
          ]
        }
      ]
    },
    {
      "cell_type": "markdown",
      "metadata": {
        "id": "Hrx4TwuOZnJj"
      },
      "source": [
        "2. Skapa ett program där användaren kan ange två tal och programmet därefter anger\n",
        "vilket tal som är störst.\n"
      ]
    },
    {
      "cell_type": "code",
      "metadata": {
        "id": "Q1Q-JhQ6ZmkS"
      },
      "source": [
        ""
      ],
      "execution_count": null,
      "outputs": []
    },
    {
      "cell_type": "markdown",
      "metadata": {
        "id": "aASlxQo-ZuRI"
      },
      "source": [
        "3. Skapa ett program där användaren kan ange ett heltal mellan 0-999. Programmet\n",
        "skriver sedan ut vilket tal som matades in och anger om det är en-, två- eller tresiffrigt t.ex. så här:\n",
        "Ange ett heltal mellan 0-999: 57\n",
        "Du angav 57 som är ett tvåsiffrigt tal\n"
      ]
    },
    {
      "cell_type": "code",
      "metadata": {
        "id": "PVYg7KMIZxEy"
      },
      "source": [
        ""
      ],
      "execution_count": null,
      "outputs": []
    },
    {
      "cell_type": "markdown",
      "metadata": {
        "id": "erjCzTnfZx_Y"
      },
      "source": [
        "4. Utveckla programmet i uppgift 5 så att det även anger om det inmatade talet är\n",
        "positivt eller negativ t.ex. så här:\n",
        "Ange ett heltal mellan -999 till 999: 57\n",
        "Du angav 57 som är ett tvåsiffrigt positivt tal\n"
      ]
    },
    {
      "cell_type": "code",
      "metadata": {
        "id": "2JAHHyHhZ0Ks"
      },
      "source": [
        ""
      ],
      "execution_count": null,
      "outputs": []
    },
    {
      "cell_type": "markdown",
      "metadata": {
        "id": "ljsZyen7Z07H"
      },
      "source": [
        "5. Skapa ett program som beräknar omkretsen av en triangel. Användaren uppmanas\n",
        "att mata in längden på de tre sidorna i triangel. Om dessa inte kan vara sidor i en triangel\n",
        "meddelar programmet att omöjliga värden inmatats. I annat fall skrivs omkretsen till skärmen.\n",
        "Beräkning av triangels omkrets\n",
        "Ange längd på första sidan: 10\n",
        "Ange längd på andra sidan: 3\n",
        "Ange längd på tredje sidan: 4\n",
        "Värdena du angett kan omöjligen vara sidorna i en triangel.\n",
        "Kontroll av giltiga värden: Den längsta sidan i en triangel måste vara kortare än summan av de två återstående\n",
        "sidorna"
      ]
    },
    {
      "cell_type": "code",
      "metadata": {
        "id": "vxIc3gTLZ2bV"
      },
      "source": [
        ""
      ],
      "execution_count": null,
      "outputs": []
    }
  ]
}