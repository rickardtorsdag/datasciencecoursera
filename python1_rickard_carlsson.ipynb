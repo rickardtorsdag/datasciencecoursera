{
  "nbformat": 4,
  "nbformat_minor": 0,
  "metadata": {
    "colab": {
      "name": "python1_rickard_carlsson.ipynb",
      "provenance": [],
      "toc_visible": true,
      "authorship_tag": "ABX9TyNGB3v9oeYpoMImcWanMBRb",
      "include_colab_link": true
    },
    "kernelspec": {
      "name": "python3",
      "display_name": "Python 3"
    },
    "language_info": {
      "name": "python"
    }
  },
  "cells": [
    {
      "cell_type": "markdown",
      "metadata": {
        "id": "view-in-github",
        "colab_type": "text"
      },
      "source": [
        "<a href=\"https://colab.research.google.com/github/rickardtorsdag/datasciencecoursera/blob/master/python1_rickard_carlsson.ipynb\" target=\"_parent\"><img src=\"https://colab.research.google.com/assets/colab-badge.svg\" alt=\"Open In Colab\"/></a>"
      ]
    },
    {
      "cell_type": "code",
      "metadata": {
        "id": "KUhYGQmeqVI6"
      },
      "source": [
        "a = 'Karl'\n",
        "b = 'Anka'"
      ],
      "execution_count": null,
      "outputs": []
    },
    {
      "cell_type": "code",
      "metadata": {
        "id": "JH8nDeZ7qnT2"
      },
      "source": [
        "print(a)\n",
        "print(b)"
      ],
      "execution_count": null,
      "outputs": []
    },
    {
      "cell_type": "code",
      "metadata": {
        "id": "VtQiQ95jrP6d"
      },
      "source": [
        "print('Förnaman:', a, 'Efternamn:', b)"
      ],
      "execution_count": null,
      "outputs": []
    },
    {
      "cell_type": "code",
      "metadata": {
        "id": "G383j4VCsA8M"
      },
      "source": [
        "print('Cherilyn \\\"Cher\" Sarkisian')"
      ],
      "execution_count": null,
      "outputs": []
    },
    {
      "cell_type": "code",
      "metadata": {
        "id": "uQTvUlwIsMuZ"
      },
      "source": [
        "name = input('Vad heter du? ')\n",
        "print('Hej',name,', roligt att du kommit hit.')"
      ],
      "execution_count": null,
      "outputs": []
    },
    {
      "cell_type": "code",
      "metadata": {
        "id": "BtGEDMJks7km"
      },
      "source": [
        "name = input('Vad heter du? ')\n",
        "print('Hej {}, '.format(name), 'roligt att du kommit hit')\n"
      ],
      "execution_count": null,
      "outputs": []
    },
    {
      "cell_type": "code",
      "metadata": {
        "id": "UqLZ-Kh9tZpa"
      },
      "source": [
        "f = input('Vad heter du i förnman? ')\n",
        "e = input('Vad är ditt efternamn? ')\n",
        "email = str(f) + '.' + str(e) + '@gmail.com'\n",
        "email = email.replace(' ', '.')\n",
        "print('Du borde skaffa en epostadress som är:', email)"
      ],
      "execution_count": null,
      "outputs": []
    },
    {
      "cell_type": "code",
      "metadata": {
        "id": "5VbJJkgXwFqb"
      },
      "source": [
        "x = int(input('Ange ett heltal '))\n",
        "print(str(x) + ' i kvardrat blir ' + str(x **2))"
      ],
      "execution_count": null,
      "outputs": []
    },
    {
      "cell_type": "code",
      "metadata": {
        "id": "vdppyGcnwL6n"
      },
      "source": [
        "a = int(input('Ange ett tal '))\n",
        "b = int(input('Ange ett till '))\n",
        "res = (a/b)\n",
        "print(round(res, 2))"
      ],
      "execution_count": null,
      "outputs": []
    },
    {
      "cell_type": "code",
      "metadata": {
        "id": "LyHGWrpj1s0c"
      },
      "source": [
        "f = int(input('Ange antalet grader i Farenhight '))\n",
        "c =  (f - 32) * 5/9\n",
        "print('Det blir {},'.format(round(c,1)), 'grader Celcius')"
      ],
      "execution_count": null,
      "outputs": []
    },
    {
      "cell_type": "code",
      "metadata": {
        "id": "IEO29u8S2d7p"
      },
      "source": [
        "a = int(input('Ange höjd '))\n",
        "b = int(input('Ange bredd '))\n",
        "c = int(input('Ange djup '))\n",
        "vol = a*b*c\n",
        "print(vol)\n"
      ],
      "execution_count": null,
      "outputs": []
    },
    {
      "cell_type": "markdown",
      "metadata": {
        "id": "LXHbv4ZzR-8C"
      },
      "source": [
        "10. Guldpriset är idag 325 kr per gram. Andelen guld i ett smycke anges i karat vilket är 24- delar. Ett vanligt mått på guldhalt i smycken är 18 karat d.v.s. 18/24 av smyckets vikt är guld, men halten karat kan variera. Skapa ett program som frågar efter antal karat i ett guldsmycke och sedan efter smyckets vikt (i gram). Sedan visar programmet metallvärdet på smycket. T.ex. så här:\n",
        "Ange smyckets guldhalt i karat: 20\n",
        "Ange smyckets vikt i gram: 12\n",
        "Metallvärdet i smycket är: 3250 kr\n",
        "I exemplet ovan räknade programmet så här:\n",
        "(20/24) x 12 x 325\n"
      ]
    },
    {
      "cell_type": "code",
      "metadata": {
        "id": "zVfWQ54E5WdM"
      },
      "source": [
        "a = int(input('Antal karat '))\n",
        "b = int(input('Guldets vikt i gram '))\n",
        "res = (a/24)*b*325\n",
        "print('Värdet är {}'.format(round(res)), 'kronor')"
      ],
      "execution_count": null,
      "outputs": []
    },
    {
      "cell_type": "code",
      "metadata": {
        "id": "ZHcV2R4nXiUb"
      },
      "source": [
        ""
      ],
      "execution_count": null,
      "outputs": []
    },
    {
      "cell_type": "markdown",
      "metadata": {
        "id": "VdmPYG6oXfFJ"
      },
      "source": [
        "11. Kursen för Euro är idag 1€ = 9,82 kr. Skapa ett program där användaren kan ange antalet kronor som den vill växla och programmet räknar ut hur många Euro det blir. Eftersom det är valutaväxling ska det alltid vara två decimaler. En programkörning kan se ut så här:\n",
        "Ange antalet kronor du vill växla: 100\n",
        "100 SEK ger 10.18 EUR\n"
      ]
    },
    {
      "cell_type": "markdown",
      "metadata": {
        "id": "a-Fy0jYCYX0B"
      },
      "source": [
        ""
      ]
    },
    {
      "cell_type": "code",
      "metadata": {
        "id": "oFLMy6IyRv-7"
      },
      "source": [
        "a = int(input('Hur många kronor vill du växla? '))\n",
        "res = a *0.982\n",
        "print(a, 'kronor blir {}'.format(round(res,2)), 'EUR')"
      ],
      "execution_count": null,
      "outputs": []
    },
    {
      "cell_type": "markdown",
      "metadata": {
        "id": "j7OjSAclZc9-"
      },
      "source": [
        "if else"
      ]
    },
    {
      "cell_type": "markdown",
      "metadata": {
        "id": "RPnUlsaef2Sr"
      },
      "source": [
        "# Kap 2, if else"
      ]
    },
    {
      "cell_type": "markdown",
      "metadata": {
        "id": "VnaM3ye_ZhJm"
      },
      "source": [
        "Skapa ett program där användaren kan ange ett tal och programmet meddelar om\n",
        "talet är negativ, positivt eller noll.\n"
      ]
    },
    {
      "cell_type": "code",
      "metadata": {
        "id": "g0WYpPCyYJm5"
      },
      "source": [
        "a = int(input('Ange ett heltal '))\n",
        "if a >0:\n",
        "  print(a, 'är positivt')\n",
        "elif a <0:\n",
        "  print(a, 'är negativt')\n",
        "else: \n",
        "  print(a, 'är noll')\n"
      ],
      "execution_count": null,
      "outputs": []
    },
    {
      "cell_type": "markdown",
      "metadata": {
        "id": "Hrx4TwuOZnJj"
      },
      "source": [
        "2. Skapa ett program där användaren kan ange två tal och programmet därefter anger\n",
        "vilket tal som är störst.\n"
      ]
    },
    {
      "cell_type": "code",
      "metadata": {
        "id": "Q1Q-JhQ6ZmkS"
      },
      "source": [
        ""
      ],
      "execution_count": null,
      "outputs": []
    },
    {
      "cell_type": "markdown",
      "metadata": {
        "id": "aASlxQo-ZuRI"
      },
      "source": [
        "3. Skapa ett program där användaren kan ange ett heltal mellan 0-999. Programmet\n",
        "skriver sedan ut vilket tal som matades in och anger om det är en-, två- eller tresiffrigt t.ex. så här:\n",
        "Ange ett heltal mellan 0-999: 57\n",
        "Du angav 57 som är ett tvåsiffrigt tal\n"
      ]
    },
    {
      "cell_type": "code",
      "metadata": {
        "id": "PVYg7KMIZxEy"
      },
      "source": [
        ""
      ],
      "execution_count": null,
      "outputs": []
    },
    {
      "cell_type": "markdown",
      "metadata": {
        "id": "erjCzTnfZx_Y"
      },
      "source": [
        "4. Utveckla programmet i uppgift 5 så att det även anger om det inmatade talet är\n",
        "positivt eller negativ t.ex. så här:\n",
        "Ange ett heltal mellan -999 till 999: 57\n",
        "Du angav 57 som är ett tvåsiffrigt positivt tal\n"
      ]
    },
    {
      "cell_type": "code",
      "metadata": {
        "id": "2JAHHyHhZ0Ks"
      },
      "source": [
        ""
      ],
      "execution_count": null,
      "outputs": []
    },
    {
      "cell_type": "markdown",
      "metadata": {
        "id": "ljsZyen7Z07H"
      },
      "source": [
        "5. Skapa ett program som beräknar omkretsen av en triangel. Användaren uppmanas\n",
        "att mata in längden på de tre sidorna i triangel. Om dessa inte kan vara sidor i en triangel\n",
        "meddelar programmet att omöjliga värden inmatats. I annat fall skrivs omkretsen till skärmen.\n",
        "Beräkning av triangels omkrets\n",
        "Ange längd på första sidan: 10\n",
        "Ange längd på andra sidan: 3\n",
        "Ange längd på tredje sidan: 4\n",
        "Värdena du angett kan omöjligen vara sidorna i en triangel.\n",
        "Kontroll av giltiga värden: Den längsta sidan i en triangel måste vara kortare än summan av de två återstående\n",
        "sidorna"
      ]
    },
    {
      "cell_type": "code",
      "metadata": {
        "id": "vxIc3gTLZ2bV"
      },
      "source": [
        ""
      ],
      "execution_count": null,
      "outputs": []
    }
  ]
}